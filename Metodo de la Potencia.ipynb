{
 "cells": [
  {
   "cell_type": "code",
   "execution_count": 2,
   "id": "0dfc248b",
   "metadata": {},
   "outputs": [],
   "source": [
    "import numpy as np\n",
    "import matplotlib.pyplot as plt\n",
    "from matplotlib.animation import FuncAnimation\n",
    "\n",
    "%matplotlib notebook "
   ]
  },
  {
   "cell_type": "code",
   "execution_count": 3,
   "id": "7b2d7fe1",
   "metadata": {},
   "outputs": [],
   "source": [
    "# Puede ser que aparezca un error por no tener instalada la librería ipympl. En ese caso, descomentar la siguiente línea y correrla:\n",
    "#pip install ipympl"
   ]
  },
  {
   "cell_type": "markdown",
   "id": "bb359a13",
   "metadata": {},
   "source": [
    "### Método de la potencia"
   ]
  },
  {
   "cell_type": "code",
   "execution_count": 4,
   "id": "094ce066",
   "metadata": {},
   "outputs": [],
   "source": [
    "# Implementación del método de la potencia\n",
    "\n",
    "def metodo_potencia(A, v, tol=1e-6, max_iter=100):\n",
    "    r_ant = np.inf\n",
    "    r_k = v @ (A @ v) / (v @ v)\n",
    "    k = 1\n",
    "    while k < max_iter and np.abs(r_ant - r_k) > tol:\n",
    "        r_ant = r_k\n",
    "        w = A @ v\n",
    "        v = w / np.linalg.norm(w)\n",
    "        r_k = v @ (A @ v) / (v @ v)\n",
    "        k += 1\n",
    "    if k == max_iter:\n",
    "        print('Maximo de interaciones alcanzado')\n",
    "    return r_k, v"
   ]
  },
  {
   "cell_type": "markdown",
   "id": "f44997a5",
   "metadata": {},
   "source": [
    "### Ejemplo en clase"
   ]
  },
  {
   "cell_type": "code",
   "execution_count": 5,
   "id": "9e1f66a4",
   "metadata": {},
   "outputs": [
    {
     "name": "stdout",
     "output_type": "stream",
     "text": [
      "Aproximación del autovalor de módulo máximo:  -8.000000268220889\n",
      "Aproximación de su correspondiente autovector:  [-7.07106765e-01  3.16101371e-08 -7.07106797e-01]\n"
     ]
    }
   ],
   "source": [
    "# Ejemplo 1B)\n",
    "\n",
    "A = np.array([[-3, 7, -5], [0, 4, 0], [-5, 5, -3]])\n",
    "v_0 = np.array([5,3,2])\n",
    "lamb, u = metodo_potencia(A, v_0)\n",
    "print('Aproximación del autovalor de módulo máximo: ', lamb)\n",
    "print('Aproximación de su correspondiente autovector: ', u)"
   ]
  },
  {
   "cell_type": "code",
   "execution_count": 6,
   "id": "4549e94f",
   "metadata": {},
   "outputs": [
    {
     "name": "stdout",
     "output_type": "stream",
     "text": [
      "Aproximación del autovalor de módulo máximo:  3.999999284840236\n",
      "Aproximación de su correspondiente autovector:  [ 7.07107034e-01  7.07106528e-01 -5.05773372e-07]\n"
     ]
    }
   ],
   "source": [
    "# Ejemplo 1C)\n",
    "\n",
    "v_0 = 2*np.array([1,1,0]) - 3*np.array([-1, 0, 1])\n",
    "lamb, u = metodo_potencia(A,v_0)\n",
    "print('Aproximación del autovalor de módulo máximo: ', lamb)\n",
    "print('Aproximación de su correspondiente autovector: ', u)"
   ]
  },
  {
   "cell_type": "markdown",
   "id": "c81f27a3",
   "metadata": {},
   "source": [
    "### ¿Cómo elijo $v^{(0)}$?\n",
    "\n",
    "En general, si sabemos que $A$ es diagonalizable con único autovalor de módulo máximo, es **muy** probable (de hecho, con probabilidad $1$) que cualquier $v^{(0)}$ que elijamos sirva:"
   ]
  },
  {
   "cell_type": "code",
   "execution_count": 7,
   "id": "ba533900",
   "metadata": {},
   "outputs": [
    {
     "name": "stdout",
     "output_type": "stream",
     "text": [
      "Aproximación del autovalor de módulo máximo:  -8.000000175879034\n",
      "Aproximación del autovalor de módulo máximo:  -7.9999998330707465\n",
      "Aproximación del autovalor de módulo máximo:  -8.000000312930702\n",
      "Aproximación del autovalor de módulo máximo:  -8.000000193997604\n",
      "Aproximación del autovalor de módulo máximo:  -7.999999674637097\n",
      "Aproximación del autovalor de módulo máximo:  -7.999999783617466\n",
      "Aproximación del autovalor de módulo máximo:  -7.999999696768416\n",
      "Aproximación del autovalor de módulo máximo:  -7.999999699623093\n",
      "Aproximación del autovalor de módulo máximo:  -7.9999998117189755\n",
      "Aproximación del autovalor de módulo máximo:  -7.9999996997581295\n",
      "Aproximación del autovalor de módulo máximo:  -8.000000274816921\n",
      "Aproximación del autovalor de módulo máximo:  -7.999999704688033\n",
      "Aproximación del autovalor de módulo máximo:  -7.999999770801279\n",
      "Aproximación del autovalor de módulo máximo:  -8.000000188743781\n",
      "Aproximación del autovalor de módulo máximo:  -7.999999733330307\n",
      "Aproximación del autovalor de módulo máximo:  -8.000000322468326\n",
      "Aproximación del autovalor de módulo máximo:  -7.999999820451022\n",
      "Aproximación del autovalor de módulo máximo:  -7.999999815050224\n",
      "Aproximación del autovalor de módulo máximo:  -8.000000298829889\n",
      "Aproximación del autovalor de módulo máximo:  -8.000000215251315\n",
      "Aproximación del autovalor de módulo máximo:  -8.000000291348844\n",
      "Aproximación del autovalor de módulo máximo:  -8.000000211597524\n",
      "Aproximación del autovalor de módulo máximo:  -8.000000206048894\n",
      "Aproximación del autovalor de módulo máximo:  -7.999999828762942\n",
      "Aproximación del autovalor de módulo máximo:  -7.999999824198383\n",
      "Aproximación del autovalor de módulo máximo:  -7.999999833089666\n",
      "Aproximación del autovalor de módulo máximo:  -8.000000168114907\n",
      "Aproximación del autovalor de módulo máximo:  -7.99999973139951\n",
      "Aproximación del autovalor de módulo máximo:  -8.000000193297964\n",
      "Aproximación del autovalor de módulo máximo:  -7.999999767766409\n",
      "Aproximación del autovalor de módulo máximo:  -7.999999750441836\n",
      "Aproximación del autovalor de módulo máximo:  -7.999999770713341\n",
      "Aproximación del autovalor de módulo máximo:  -8.000000283873572\n",
      "Aproximación del autovalor de módulo máximo:  -8.000000196691374\n",
      "Aproximación del autovalor de módulo máximo:  -8.000000200975636\n",
      "Aproximación del autovalor de módulo máximo:  -7.999999698653745\n",
      "Aproximación del autovalor de módulo máximo:  -7.999999785524588\n",
      "Aproximación del autovalor de módulo máximo:  -7.999999723357966\n",
      "Aproximación del autovalor de módulo máximo:  -8.000000302498357\n",
      "Aproximación del autovalor de módulo máximo:  -8.00000021675356\n",
      "Aproximación del autovalor de módulo máximo:  -7.999999695536817\n",
      "Aproximación del autovalor de módulo máximo:  -8.000000243769083\n",
      "Aproximación del autovalor de módulo máximo:  -7.999999675906746\n",
      "Aproximación del autovalor de módulo máximo:  -7.99999971714934\n",
      "Aproximación del autovalor de módulo máximo:  -8.000000277140913\n",
      "Aproximación del autovalor de módulo máximo:  -8.000000222600606\n",
      "Aproximación del autovalor de módulo máximo:  -7.999999743290694\n",
      "Aproximación del autovalor de módulo máximo:  -8.000000264206507\n",
      "Aproximación del autovalor de módulo máximo:  -7.9999997108956915\n",
      "Aproximación del autovalor de módulo máximo:  -7.999999806949534\n",
      "Aproximación del autovalor de módulo máximo:  -7.9999997986102285\n",
      "Aproximación del autovalor de módulo máximo:  -7.99999979311597\n",
      "Aproximación del autovalor de módulo máximo:  -8.000000218529113\n",
      "Aproximación del autovalor de módulo máximo:  -8.000000254667352\n",
      "Aproximación del autovalor de módulo máximo:  -8.00000031716428\n",
      "Aproximación del autovalor de módulo máximo:  -7.9999997754762155\n",
      "Aproximación del autovalor de módulo máximo:  -8.00000027621268\n",
      "Aproximación del autovalor de módulo máximo:  -7.999999828983185\n",
      "Aproximación del autovalor de módulo máximo:  -8.000000190732566\n",
      "Aproximación del autovalor de módulo máximo:  -8.000000278827883\n",
      "Aproximación del autovalor de módulo máximo:  -8.000000220091088\n",
      "Aproximación del autovalor de módulo máximo:  -7.999999724219322\n",
      "Aproximación del autovalor de módulo máximo:  -8.00000020362163\n",
      "Aproximación del autovalor de módulo máximo:  -8.000000275652235\n",
      "Aproximación del autovalor de módulo máximo:  -8.00000027752797\n",
      "Aproximación del autovalor de módulo máximo:  -7.999999738278229\n",
      "Aproximación del autovalor de módulo máximo:  -7.999999816060907\n",
      "Aproximación del autovalor de módulo máximo:  -7.999999803042697\n",
      "Aproximación del autovalor de módulo máximo:  -8.000000295679799\n",
      "Aproximación del autovalor de módulo máximo:  -8.00000033085649\n",
      "Aproximación del autovalor de módulo máximo:  -8.000000237866722\n",
      "Aproximación del autovalor de módulo máximo:  -7.999999748597919\n",
      "Aproximación del autovalor de módulo máximo:  -8.000000187128649\n",
      "Aproximación del autovalor de módulo máximo:  -7.9999997433597425\n",
      "Aproximación del autovalor de módulo máximo:  -7.999999699943687\n",
      "Aproximación del autovalor de módulo máximo:  -7.9999998073356\n",
      "Aproximación del autovalor de módulo máximo:  -7.999999755533381\n",
      "Aproximación del autovalor de módulo máximo:  -7.999999823514111\n",
      "Aproximación del autovalor de módulo máximo:  -7.999999703994779\n",
      "Aproximación del autovalor de módulo máximo:  -7.999999677536138\n",
      "Aproximación del autovalor de módulo máximo:  -8.000000167846792\n",
      "Aproximación del autovalor de módulo máximo:  -8.000000246499686\n",
      "Aproximación del autovalor de módulo máximo:  -7.999999793995109\n",
      "Aproximación del autovalor de módulo máximo:  -8.0000002634983\n",
      "Aproximación del autovalor de módulo máximo:  -8.00000031967377\n",
      "Aproximación del autovalor de módulo máximo:  -7.999999772360468\n",
      "Aproximación del autovalor de módulo máximo:  -8.000000275542828\n",
      "Aproximación del autovalor de módulo máximo:  -7.999999762274442\n",
      "Aproximación del autovalor de módulo máximo:  -8.000000234513669\n",
      "Aproximación del autovalor de módulo máximo:  -8.000000238073012\n",
      "Aproximación del autovalor de módulo máximo:  -8.000000258335437\n",
      "Aproximación del autovalor de módulo máximo:  -8.000000166790045\n",
      "Aproximación del autovalor de módulo máximo:  -7.999999739016067\n",
      "Aproximación del autovalor de módulo máximo:  -7.999999798736422\n",
      "Aproximación del autovalor de módulo máximo:  -8.000000251065503\n",
      "Aproximación del autovalor de módulo máximo:  -8.000000280936755\n",
      "Aproximación del autovalor de módulo máximo:  -7.999999814780073\n",
      "Aproximación del autovalor de módulo máximo:  -7.999999742057176\n",
      "Aproximación del autovalor de módulo máximo:  -8.000000244689277\n",
      "Aproximación del autovalor de módulo máximo:  -7.999999801844945\n"
     ]
    }
   ],
   "source": [
    "for i in range(100):\n",
    "    v_0 = 2*np.random.rand(3) - 1  # Vector aleatorio con coordenadas en [-1,1]\n",
    "    lamb, u = metodo_potencia(A, v_0)\n",
    "    print('Aproximación del autovalor de módulo máximo: ', lamb)"
   ]
  },
  {
   "cell_type": "markdown",
   "id": "c356a15f",
   "metadata": {},
   "source": [
    "### Visualización del progreso del método\n",
    "\n",
    "Para visualizarlo fácilmente, veamos un ejemplo en $\\mathbb{R}^2$:\n",
    "\n",
    "$$A = \\begin{pmatrix}\n",
    "-1 & 3 \\\\\n",
    "0 & 2 \\\\\n",
    "\\end{pmatrix}$$\n",
    "\n",
    "Sale directo (ejercicio de la guía) que los autovalores son $\\lambda_1=2$ y $\\lambda_2=-1$. Como $A$ es diagonalizable y tiene único autovalor de módulo máximo, el método converge.\n",
    "Los autovectores (normalizados) de $A$ son:\n",
    "$$u_1=\\left(\\frac{1}{\\sqrt{2}},\\frac{1}{\\sqrt{2}}\\right) \\quad u_2=(1,0)$$ <br>"
   ]
  },
  {
   "cell_type": "code",
   "execution_count": 8,
   "id": "46f6c665",
   "metadata": {},
   "outputs": [
    {
     "data": {
      "application/javascript": "/* Put everything inside the global mpl namespace */\n/* global mpl */\nwindow.mpl = {};\n\nmpl.get_websocket_type = function () {\n    if (typeof WebSocket !== 'undefined') {\n        return WebSocket;\n    } else if (typeof MozWebSocket !== 'undefined') {\n        return MozWebSocket;\n    } else {\n        alert(\n            'Your browser does not have WebSocket support. ' +\n                'Please try Chrome, Safari or Firefox ≥ 6. ' +\n                'Firefox 4 and 5 are also supported but you ' +\n                'have to enable WebSockets in about:config.'\n        );\n    }\n};\n\nmpl.figure = function (figure_id, websocket, ondownload, parent_element) {\n    this.id = figure_id;\n\n    this.ws = websocket;\n\n    this.supports_binary = this.ws.binaryType !== undefined;\n\n    if (!this.supports_binary) {\n        var warnings = document.getElementById('mpl-warnings');\n        if (warnings) {\n            warnings.style.display = 'block';\n            warnings.textContent =\n                'This browser does not support binary websocket messages. ' +\n                'Performance may be slow.';\n        }\n    }\n\n    this.imageObj = new Image();\n\n    this.context = undefined;\n    this.message = undefined;\n    this.canvas = undefined;\n    this.rubberband_canvas = undefined;\n    this.rubberband_context = undefined;\n    this.format_dropdown = undefined;\n\n    this.image_mode = 'full';\n\n    this.root = document.createElement('div');\n    this.root.setAttribute('style', 'display: inline-block');\n    this._root_extra_style(this.root);\n\n    parent_element.appendChild(this.root);\n\n    this._init_header(this);\n    this._init_canvas(this);\n    this._init_toolbar(this);\n\n    var fig = this;\n\n    this.waiting = false;\n\n    this.ws.onopen = function () {\n        fig.send_message('supports_binary', { value: fig.supports_binary });\n        fig.send_message('send_image_mode', {});\n        if (fig.ratio !== 1) {\n            fig.send_message('set_device_pixel_ratio', {\n                device_pixel_ratio: fig.ratio,\n            });\n        }\n        fig.send_message('refresh', {});\n    };\n\n    this.imageObj.onload = function () {\n        if (fig.image_mode === 'full') {\n            // Full images could contain transparency (where diff images\n            // almost always do), so we need to clear the canvas so that\n            // there is no ghosting.\n            fig.context.clearRect(0, 0, fig.canvas.width, fig.canvas.height);\n        }\n        fig.context.drawImage(fig.imageObj, 0, 0);\n    };\n\n    this.imageObj.onunload = function () {\n        fig.ws.close();\n    };\n\n    this.ws.onmessage = this._make_on_message_function(this);\n\n    this.ondownload = ondownload;\n};\n\nmpl.figure.prototype._init_header = function () {\n    var titlebar = document.createElement('div');\n    titlebar.classList =\n        'ui-dialog-titlebar ui-widget-header ui-corner-all ui-helper-clearfix';\n    var titletext = document.createElement('div');\n    titletext.classList = 'ui-dialog-title';\n    titletext.setAttribute(\n        'style',\n        'width: 100%; text-align: center; padding: 3px;'\n    );\n    titlebar.appendChild(titletext);\n    this.root.appendChild(titlebar);\n    this.header = titletext;\n};\n\nmpl.figure.prototype._canvas_extra_style = function (_canvas_div) {};\n\nmpl.figure.prototype._root_extra_style = function (_canvas_div) {};\n\nmpl.figure.prototype._init_canvas = function () {\n    var fig = this;\n\n    var canvas_div = (this.canvas_div = document.createElement('div'));\n    canvas_div.setAttribute('tabindex', '0');\n    canvas_div.setAttribute(\n        'style',\n        'border: 1px solid #ddd;' +\n            'box-sizing: content-box;' +\n            'clear: both;' +\n            'min-height: 1px;' +\n            'min-width: 1px;' +\n            'outline: 0;' +\n            'overflow: hidden;' +\n            'position: relative;' +\n            'resize: both;' +\n            'z-index: 2;'\n    );\n\n    function on_keyboard_event_closure(name) {\n        return function (event) {\n            return fig.key_event(event, name);\n        };\n    }\n\n    canvas_div.addEventListener(\n        'keydown',\n        on_keyboard_event_closure('key_press')\n    );\n    canvas_div.addEventListener(\n        'keyup',\n        on_keyboard_event_closure('key_release')\n    );\n\n    this._canvas_extra_style(canvas_div);\n    this.root.appendChild(canvas_div);\n\n    var canvas = (this.canvas = document.createElement('canvas'));\n    canvas.classList.add('mpl-canvas');\n    canvas.setAttribute(\n        'style',\n        'box-sizing: content-box;' +\n            'pointer-events: none;' +\n            'position: relative;' +\n            'z-index: 0;'\n    );\n\n    this.context = canvas.getContext('2d');\n\n    var backingStore =\n        this.context.backingStorePixelRatio ||\n        this.context.webkitBackingStorePixelRatio ||\n        this.context.mozBackingStorePixelRatio ||\n        this.context.msBackingStorePixelRatio ||\n        this.context.oBackingStorePixelRatio ||\n        this.context.backingStorePixelRatio ||\n        1;\n\n    this.ratio = (window.devicePixelRatio || 1) / backingStore;\n\n    var rubberband_canvas = (this.rubberband_canvas = document.createElement(\n        'canvas'\n    ));\n    rubberband_canvas.setAttribute(\n        'style',\n        'box-sizing: content-box;' +\n            'left: 0;' +\n            'pointer-events: none;' +\n            'position: absolute;' +\n            'top: 0;' +\n            'z-index: 1;'\n    );\n\n    // Apply a ponyfill if ResizeObserver is not implemented by browser.\n    if (this.ResizeObserver === undefined) {\n        if (window.ResizeObserver !== undefined) {\n            this.ResizeObserver = window.ResizeObserver;\n        } else {\n            var obs = _JSXTOOLS_RESIZE_OBSERVER({});\n            this.ResizeObserver = obs.ResizeObserver;\n        }\n    }\n\n    this.resizeObserverInstance = new this.ResizeObserver(function (entries) {\n        var nentries = entries.length;\n        for (var i = 0; i < nentries; i++) {\n            var entry = entries[i];\n            var width, height;\n            if (entry.contentBoxSize) {\n                if (entry.contentBoxSize instanceof Array) {\n                    // Chrome 84 implements new version of spec.\n                    width = entry.contentBoxSize[0].inlineSize;\n                    height = entry.contentBoxSize[0].blockSize;\n                } else {\n                    // Firefox implements old version of spec.\n                    width = entry.contentBoxSize.inlineSize;\n                    height = entry.contentBoxSize.blockSize;\n                }\n            } else {\n                // Chrome <84 implements even older version of spec.\n                width = entry.contentRect.width;\n                height = entry.contentRect.height;\n            }\n\n            // Keep the size of the canvas and rubber band canvas in sync with\n            // the canvas container.\n            if (entry.devicePixelContentBoxSize) {\n                // Chrome 84 implements new version of spec.\n                canvas.setAttribute(\n                    'width',\n                    entry.devicePixelContentBoxSize[0].inlineSize\n                );\n                canvas.setAttribute(\n                    'height',\n                    entry.devicePixelContentBoxSize[0].blockSize\n                );\n            } else {\n                canvas.setAttribute('width', width * fig.ratio);\n                canvas.setAttribute('height', height * fig.ratio);\n            }\n            /* This rescales the canvas back to display pixels, so that it\n             * appears correct on HiDPI screens. */\n            canvas.style.width = width + 'px';\n            canvas.style.height = height + 'px';\n\n            rubberband_canvas.setAttribute('width', width);\n            rubberband_canvas.setAttribute('height', height);\n\n            // And update the size in Python. We ignore the initial 0/0 size\n            // that occurs as the element is placed into the DOM, which should\n            // otherwise not happen due to the minimum size styling.\n            if (fig.ws.readyState == 1 && width != 0 && height != 0) {\n                fig.request_resize(width, height);\n            }\n        }\n    });\n    this.resizeObserverInstance.observe(canvas_div);\n\n    function on_mouse_event_closure(name) {\n        /* User Agent sniffing is bad, but WebKit is busted:\n         * https://bugs.webkit.org/show_bug.cgi?id=144526\n         * https://bugs.webkit.org/show_bug.cgi?id=181818\n         * The worst that happens here is that they get an extra browser\n         * selection when dragging, if this check fails to catch them.\n         */\n        var UA = navigator.userAgent;\n        var isWebKit = /AppleWebKit/.test(UA) && !/Chrome/.test(UA);\n        if(isWebKit) {\n            return function (event) {\n                /* This prevents the web browser from automatically changing to\n                 * the text insertion cursor when the button is pressed. We\n                 * want to control all of the cursor setting manually through\n                 * the 'cursor' event from matplotlib */\n                event.preventDefault()\n                return fig.mouse_event(event, name);\n            };\n        } else {\n            return function (event) {\n                return fig.mouse_event(event, name);\n            };\n        }\n    }\n\n    canvas_div.addEventListener(\n        'mousedown',\n        on_mouse_event_closure('button_press')\n    );\n    canvas_div.addEventListener(\n        'mouseup',\n        on_mouse_event_closure('button_release')\n    );\n    canvas_div.addEventListener(\n        'dblclick',\n        on_mouse_event_closure('dblclick')\n    );\n    // Throttle sequential mouse events to 1 every 20ms.\n    canvas_div.addEventListener(\n        'mousemove',\n        on_mouse_event_closure('motion_notify')\n    );\n\n    canvas_div.addEventListener(\n        'mouseenter',\n        on_mouse_event_closure('figure_enter')\n    );\n    canvas_div.addEventListener(\n        'mouseleave',\n        on_mouse_event_closure('figure_leave')\n    );\n\n    canvas_div.addEventListener('wheel', function (event) {\n        if (event.deltaY < 0) {\n            event.step = 1;\n        } else {\n            event.step = -1;\n        }\n        on_mouse_event_closure('scroll')(event);\n    });\n\n    canvas_div.appendChild(canvas);\n    canvas_div.appendChild(rubberband_canvas);\n\n    this.rubberband_context = rubberband_canvas.getContext('2d');\n    this.rubberband_context.strokeStyle = '#000000';\n\n    this._resize_canvas = function (width, height, forward) {\n        if (forward) {\n            canvas_div.style.width = width + 'px';\n            canvas_div.style.height = height + 'px';\n        }\n    };\n\n    // Disable right mouse context menu.\n    canvas_div.addEventListener('contextmenu', function (_e) {\n        event.preventDefault();\n        return false;\n    });\n\n    function set_focus() {\n        canvas.focus();\n        canvas_div.focus();\n    }\n\n    window.setTimeout(set_focus, 100);\n};\n\nmpl.figure.prototype._init_toolbar = function () {\n    var fig = this;\n\n    var toolbar = document.createElement('div');\n    toolbar.classList = 'mpl-toolbar';\n    this.root.appendChild(toolbar);\n\n    function on_click_closure(name) {\n        return function (_event) {\n            return fig.toolbar_button_onclick(name);\n        };\n    }\n\n    function on_mouseover_closure(tooltip) {\n        return function (event) {\n            if (!event.currentTarget.disabled) {\n                return fig.toolbar_button_onmouseover(tooltip);\n            }\n        };\n    }\n\n    fig.buttons = {};\n    var buttonGroup = document.createElement('div');\n    buttonGroup.classList = 'mpl-button-group';\n    for (var toolbar_ind in mpl.toolbar_items) {\n        var name = mpl.toolbar_items[toolbar_ind][0];\n        var tooltip = mpl.toolbar_items[toolbar_ind][1];\n        var image = mpl.toolbar_items[toolbar_ind][2];\n        var method_name = mpl.toolbar_items[toolbar_ind][3];\n\n        if (!name) {\n            /* Instead of a spacer, we start a new button group. */\n            if (buttonGroup.hasChildNodes()) {\n                toolbar.appendChild(buttonGroup);\n            }\n            buttonGroup = document.createElement('div');\n            buttonGroup.classList = 'mpl-button-group';\n            continue;\n        }\n\n        var button = (fig.buttons[name] = document.createElement('button'));\n        button.classList = 'mpl-widget';\n        button.setAttribute('role', 'button');\n        button.setAttribute('aria-disabled', 'false');\n        button.addEventListener('click', on_click_closure(method_name));\n        button.addEventListener('mouseover', on_mouseover_closure(tooltip));\n\n        var icon_img = document.createElement('img');\n        icon_img.src = '_images/' + image + '.png';\n        icon_img.srcset = '_images/' + image + '_large.png 2x';\n        icon_img.alt = tooltip;\n        button.appendChild(icon_img);\n\n        buttonGroup.appendChild(button);\n    }\n\n    if (buttonGroup.hasChildNodes()) {\n        toolbar.appendChild(buttonGroup);\n    }\n\n    var fmt_picker = document.createElement('select');\n    fmt_picker.classList = 'mpl-widget';\n    toolbar.appendChild(fmt_picker);\n    this.format_dropdown = fmt_picker;\n\n    for (var ind in mpl.extensions) {\n        var fmt = mpl.extensions[ind];\n        var option = document.createElement('option');\n        option.selected = fmt === mpl.default_extension;\n        option.innerHTML = fmt;\n        fmt_picker.appendChild(option);\n    }\n\n    var status_bar = document.createElement('span');\n    status_bar.classList = 'mpl-message';\n    toolbar.appendChild(status_bar);\n    this.message = status_bar;\n};\n\nmpl.figure.prototype.request_resize = function (x_pixels, y_pixels) {\n    // Request matplotlib to resize the figure. Matplotlib will then trigger a resize in the client,\n    // which will in turn request a refresh of the image.\n    this.send_message('resize', { width: x_pixels, height: y_pixels });\n};\n\nmpl.figure.prototype.send_message = function (type, properties) {\n    properties['type'] = type;\n    properties['figure_id'] = this.id;\n    this.ws.send(JSON.stringify(properties));\n};\n\nmpl.figure.prototype.send_draw_message = function () {\n    if (!this.waiting) {\n        this.waiting = true;\n        this.ws.send(JSON.stringify({ type: 'draw', figure_id: this.id }));\n    }\n};\n\nmpl.figure.prototype.handle_save = function (fig, _msg) {\n    var format_dropdown = fig.format_dropdown;\n    var format = format_dropdown.options[format_dropdown.selectedIndex].value;\n    fig.ondownload(fig, format);\n};\n\nmpl.figure.prototype.handle_resize = function (fig, msg) {\n    var size = msg['size'];\n    if (size[0] !== fig.canvas.width || size[1] !== fig.canvas.height) {\n        fig._resize_canvas(size[0], size[1], msg['forward']);\n        fig.send_message('refresh', {});\n    }\n};\n\nmpl.figure.prototype.handle_rubberband = function (fig, msg) {\n    var x0 = msg['x0'] / fig.ratio;\n    var y0 = (fig.canvas.height - msg['y0']) / fig.ratio;\n    var x1 = msg['x1'] / fig.ratio;\n    var y1 = (fig.canvas.height - msg['y1']) / fig.ratio;\n    x0 = Math.floor(x0) + 0.5;\n    y0 = Math.floor(y0) + 0.5;\n    x1 = Math.floor(x1) + 0.5;\n    y1 = Math.floor(y1) + 0.5;\n    var min_x = Math.min(x0, x1);\n    var min_y = Math.min(y0, y1);\n    var width = Math.abs(x1 - x0);\n    var height = Math.abs(y1 - y0);\n\n    fig.rubberband_context.clearRect(\n        0,\n        0,\n        fig.canvas.width / fig.ratio,\n        fig.canvas.height / fig.ratio\n    );\n\n    fig.rubberband_context.strokeRect(min_x, min_y, width, height);\n};\n\nmpl.figure.prototype.handle_figure_label = function (fig, msg) {\n    // Updates the figure title.\n    fig.header.textContent = msg['label'];\n};\n\nmpl.figure.prototype.handle_cursor = function (fig, msg) {\n    fig.canvas_div.style.cursor = msg['cursor'];\n};\n\nmpl.figure.prototype.handle_message = function (fig, msg) {\n    fig.message.textContent = msg['message'];\n};\n\nmpl.figure.prototype.handle_draw = function (fig, _msg) {\n    // Request the server to send over a new figure.\n    fig.send_draw_message();\n};\n\nmpl.figure.prototype.handle_image_mode = function (fig, msg) {\n    fig.image_mode = msg['mode'];\n};\n\nmpl.figure.prototype.handle_history_buttons = function (fig, msg) {\n    for (var key in msg) {\n        if (!(key in fig.buttons)) {\n            continue;\n        }\n        fig.buttons[key].disabled = !msg[key];\n        fig.buttons[key].setAttribute('aria-disabled', !msg[key]);\n    }\n};\n\nmpl.figure.prototype.handle_navigate_mode = function (fig, msg) {\n    if (msg['mode'] === 'PAN') {\n        fig.buttons['Pan'].classList.add('active');\n        fig.buttons['Zoom'].classList.remove('active');\n    } else if (msg['mode'] === 'ZOOM') {\n        fig.buttons['Pan'].classList.remove('active');\n        fig.buttons['Zoom'].classList.add('active');\n    } else {\n        fig.buttons['Pan'].classList.remove('active');\n        fig.buttons['Zoom'].classList.remove('active');\n    }\n};\n\nmpl.figure.prototype.updated_canvas_event = function () {\n    // Called whenever the canvas gets updated.\n    this.send_message('ack', {});\n};\n\n// A function to construct a web socket function for onmessage handling.\n// Called in the figure constructor.\nmpl.figure.prototype._make_on_message_function = function (fig) {\n    return function socket_on_message(evt) {\n        if (evt.data instanceof Blob) {\n            var img = evt.data;\n            if (img.type !== 'image/png') {\n                /* FIXME: We get \"Resource interpreted as Image but\n                 * transferred with MIME type text/plain:\" errors on\n                 * Chrome.  But how to set the MIME type?  It doesn't seem\n                 * to be part of the websocket stream */\n                img.type = 'image/png';\n            }\n\n            /* Free the memory for the previous frames */\n            if (fig.imageObj.src) {\n                (window.URL || window.webkitURL).revokeObjectURL(\n                    fig.imageObj.src\n                );\n            }\n\n            fig.imageObj.src = (window.URL || window.webkitURL).createObjectURL(\n                img\n            );\n            fig.updated_canvas_event();\n            fig.waiting = false;\n            return;\n        } else if (\n            typeof evt.data === 'string' &&\n            evt.data.slice(0, 21) === 'data:image/png;base64'\n        ) {\n            fig.imageObj.src = evt.data;\n            fig.updated_canvas_event();\n            fig.waiting = false;\n            return;\n        }\n\n        var msg = JSON.parse(evt.data);\n        var msg_type = msg['type'];\n\n        // Call the  \"handle_{type}\" callback, which takes\n        // the figure and JSON message as its only arguments.\n        try {\n            var callback = fig['handle_' + msg_type];\n        } catch (e) {\n            console.log(\n                \"No handler for the '\" + msg_type + \"' message type: \",\n                msg\n            );\n            return;\n        }\n\n        if (callback) {\n            try {\n                // console.log(\"Handling '\" + msg_type + \"' message: \", msg);\n                callback(fig, msg);\n            } catch (e) {\n                console.log(\n                    \"Exception inside the 'handler_\" + msg_type + \"' callback:\",\n                    e,\n                    e.stack,\n                    msg\n                );\n            }\n        }\n    };\n};\n\nfunction getModifiers(event) {\n    var mods = [];\n    if (event.ctrlKey) {\n        mods.push('ctrl');\n    }\n    if (event.altKey) {\n        mods.push('alt');\n    }\n    if (event.shiftKey) {\n        mods.push('shift');\n    }\n    if (event.metaKey) {\n        mods.push('meta');\n    }\n    return mods;\n}\n\n/*\n * return a copy of an object with only non-object keys\n * we need this to avoid circular references\n * https://stackoverflow.com/a/24161582/3208463\n */\nfunction simpleKeys(original) {\n    return Object.keys(original).reduce(function (obj, key) {\n        if (typeof original[key] !== 'object') {\n            obj[key] = original[key];\n        }\n        return obj;\n    }, {});\n}\n\nmpl.figure.prototype.mouse_event = function (event, name) {\n    if (name === 'button_press') {\n        this.canvas.focus();\n        this.canvas_div.focus();\n    }\n\n    // from https://stackoverflow.com/q/1114465\n    var boundingRect = this.canvas.getBoundingClientRect();\n    var x = (event.clientX - boundingRect.left) * this.ratio;\n    var y = (event.clientY - boundingRect.top) * this.ratio;\n\n    this.send_message(name, {\n        x: x,\n        y: y,\n        button: event.button,\n        step: event.step,\n        modifiers: getModifiers(event),\n        guiEvent: simpleKeys(event),\n    });\n\n    return false;\n};\n\nmpl.figure.prototype._key_event_extra = function (_event, _name) {\n    // Handle any extra behaviour associated with a key event\n};\n\nmpl.figure.prototype.key_event = function (event, name) {\n    // Prevent repeat events\n    if (name === 'key_press') {\n        if (event.key === this._key) {\n            return;\n        } else {\n            this._key = event.key;\n        }\n    }\n    if (name === 'key_release') {\n        this._key = null;\n    }\n\n    var value = '';\n    if (event.ctrlKey && event.key !== 'Control') {\n        value += 'ctrl+';\n    }\n    else if (event.altKey && event.key !== 'Alt') {\n        value += 'alt+';\n    }\n    else if (event.shiftKey && event.key !== 'Shift') {\n        value += 'shift+';\n    }\n\n    value += 'k' + event.key;\n\n    this._key_event_extra(event, name);\n\n    this.send_message(name, { key: value, guiEvent: simpleKeys(event) });\n    return false;\n};\n\nmpl.figure.prototype.toolbar_button_onclick = function (name) {\n    if (name === 'download') {\n        this.handle_save(this, null);\n    } else {\n        this.send_message('toolbar_button', { name: name });\n    }\n};\n\nmpl.figure.prototype.toolbar_button_onmouseover = function (tooltip) {\n    this.message.textContent = tooltip;\n};\n\n///////////////// REMAINING CONTENT GENERATED BY embed_js.py /////////////////\n// prettier-ignore\nvar _JSXTOOLS_RESIZE_OBSERVER=function(A){var t,i=new WeakMap,n=new WeakMap,a=new WeakMap,r=new WeakMap,o=new Set;function s(e){if(!(this instanceof s))throw new TypeError(\"Constructor requires 'new' operator\");i.set(this,e)}function h(){throw new TypeError(\"Function is not a constructor\")}function c(e,t,i,n){e=0 in arguments?Number(arguments[0]):0,t=1 in arguments?Number(arguments[1]):0,i=2 in arguments?Number(arguments[2]):0,n=3 in arguments?Number(arguments[3]):0,this.right=(this.x=this.left=e)+(this.width=i),this.bottom=(this.y=this.top=t)+(this.height=n),Object.freeze(this)}function d(){t=requestAnimationFrame(d);var s=new WeakMap,p=new Set;o.forEach((function(t){r.get(t).forEach((function(i){var r=t instanceof window.SVGElement,o=a.get(t),d=r?0:parseFloat(o.paddingTop),f=r?0:parseFloat(o.paddingRight),l=r?0:parseFloat(o.paddingBottom),u=r?0:parseFloat(o.paddingLeft),g=r?0:parseFloat(o.borderTopWidth),m=r?0:parseFloat(o.borderRightWidth),w=r?0:parseFloat(o.borderBottomWidth),b=u+f,F=d+l,v=(r?0:parseFloat(o.borderLeftWidth))+m,W=g+w,y=r?0:t.offsetHeight-W-t.clientHeight,E=r?0:t.offsetWidth-v-t.clientWidth,R=b+v,z=F+W,M=r?t.width:parseFloat(o.width)-R-E,O=r?t.height:parseFloat(o.height)-z-y;if(n.has(t)){var k=n.get(t);if(k[0]===M&&k[1]===O)return}n.set(t,[M,O]);var S=Object.create(h.prototype);S.target=t,S.contentRect=new c(u,d,M,O),s.has(i)||(s.set(i,[]),p.add(i)),s.get(i).push(S)}))})),p.forEach((function(e){i.get(e).call(e,s.get(e),e)}))}return s.prototype.observe=function(i){if(i instanceof window.Element){r.has(i)||(r.set(i,new Set),o.add(i),a.set(i,window.getComputedStyle(i)));var n=r.get(i);n.has(this)||n.add(this),cancelAnimationFrame(t),t=requestAnimationFrame(d)}},s.prototype.unobserve=function(i){if(i instanceof window.Element&&r.has(i)){var n=r.get(i);n.has(this)&&(n.delete(this),n.size||(r.delete(i),o.delete(i))),n.size||r.delete(i),o.size||cancelAnimationFrame(t)}},A.DOMRectReadOnly=c,A.ResizeObserver=s,A.ResizeObserverEntry=h,A}; // eslint-disable-line\nmpl.toolbar_items = [[\"Home\", \"Reset original view\", \"fa fa-home\", \"home\"], [\"Back\", \"Back to previous view\", \"fa fa-arrow-left\", \"back\"], [\"Forward\", \"Forward to next view\", \"fa fa-arrow-right\", \"forward\"], [\"\", \"\", \"\", \"\"], [\"Pan\", \"Left button pans, Right button zooms\\nx/y fixes axis, CTRL fixes aspect\", \"fa fa-arrows\", \"pan\"], [\"Zoom\", \"Zoom to rectangle\\nx/y fixes axis\", \"fa fa-square-o\", \"zoom\"], [\"\", \"\", \"\", \"\"], [\"Download\", \"Download plot\", \"fa fa-floppy-o\", \"download\"]];\n\nmpl.extensions = [\"eps\", \"jpeg\", \"pgf\", \"pdf\", \"png\", \"ps\", \"raw\", \"svg\", \"tif\", \"webp\"];\n\nmpl.default_extension = \"png\";/* global mpl */\n\nvar comm_websocket_adapter = function (comm) {\n    // Create a \"websocket\"-like object which calls the given IPython comm\n    // object with the appropriate methods. Currently this is a non binary\n    // socket, so there is still some room for performance tuning.\n    var ws = {};\n\n    ws.binaryType = comm.kernel.ws.binaryType;\n    ws.readyState = comm.kernel.ws.readyState;\n    function updateReadyState(_event) {\n        if (comm.kernel.ws) {\n            ws.readyState = comm.kernel.ws.readyState;\n        } else {\n            ws.readyState = 3; // Closed state.\n        }\n    }\n    comm.kernel.ws.addEventListener('open', updateReadyState);\n    comm.kernel.ws.addEventListener('close', updateReadyState);\n    comm.kernel.ws.addEventListener('error', updateReadyState);\n\n    ws.close = function () {\n        comm.close();\n    };\n    ws.send = function (m) {\n        //console.log('sending', m);\n        comm.send(m);\n    };\n    // Register the callback with on_msg.\n    comm.on_msg(function (msg) {\n        //console.log('receiving', msg['content']['data'], msg);\n        var data = msg['content']['data'];\n        if (data['blob'] !== undefined) {\n            data = {\n                data: new Blob(msg['buffers'], { type: data['blob'] }),\n            };\n        }\n        // Pass the mpl event to the overridden (by mpl) onmessage function.\n        ws.onmessage(data);\n    });\n    return ws;\n};\n\nmpl.mpl_figure_comm = function (comm, msg) {\n    // This is the function which gets called when the mpl process\n    // starts-up an IPython Comm through the \"matplotlib\" channel.\n\n    var id = msg.content.data.id;\n    // Get hold of the div created by the display call when the Comm\n    // socket was opened in Python.\n    var element = document.getElementById(id);\n    var ws_proxy = comm_websocket_adapter(comm);\n\n    function ondownload(figure, _format) {\n        window.open(figure.canvas.toDataURL());\n    }\n\n    var fig = new mpl.figure(id, ws_proxy, ondownload, element);\n\n    // Call onopen now - mpl needs it, as it is assuming we've passed it a real\n    // web socket which is closed, not our websocket->open comm proxy.\n    ws_proxy.onopen();\n\n    fig.parent_element = element;\n    fig.cell_info = mpl.find_output_cell(\"<div id='\" + id + \"'></div>\");\n    if (!fig.cell_info) {\n        console.error('Failed to find cell for figure', id, fig);\n        return;\n    }\n    fig.cell_info[0].output_area.element.on(\n        'cleared',\n        { fig: fig },\n        fig._remove_fig_handler\n    );\n};\n\nmpl.figure.prototype.handle_close = function (fig, msg) {\n    var width = fig.canvas.width / fig.ratio;\n    fig.cell_info[0].output_area.element.off(\n        'cleared',\n        fig._remove_fig_handler\n    );\n    fig.resizeObserverInstance.unobserve(fig.canvas_div);\n\n    // Update the output cell to use the data from the current canvas.\n    fig.push_to_output();\n    var dataURL = fig.canvas.toDataURL();\n    // Re-enable the keyboard manager in IPython - without this line, in FF,\n    // the notebook keyboard shortcuts fail.\n    IPython.keyboard_manager.enable();\n    fig.parent_element.innerHTML =\n        '<img src=\"' + dataURL + '\" width=\"' + width + '\">';\n    fig.close_ws(fig, msg);\n};\n\nmpl.figure.prototype.close_ws = function (fig, msg) {\n    fig.send_message('closing', msg);\n    // fig.ws.close()\n};\n\nmpl.figure.prototype.push_to_output = function (_remove_interactive) {\n    // Turn the data on the canvas into data in the output cell.\n    var width = this.canvas.width / this.ratio;\n    var dataURL = this.canvas.toDataURL();\n    this.cell_info[1]['text/html'] =\n        '<img src=\"' + dataURL + '\" width=\"' + width + '\">';\n};\n\nmpl.figure.prototype.updated_canvas_event = function () {\n    // Tell IPython that the notebook contents must change.\n    IPython.notebook.set_dirty(true);\n    this.send_message('ack', {});\n    var fig = this;\n    // Wait a second, then push the new image to the DOM so\n    // that it is saved nicely (might be nice to debounce this).\n    setTimeout(function () {\n        fig.push_to_output();\n    }, 1000);\n};\n\nmpl.figure.prototype._init_toolbar = function () {\n    var fig = this;\n\n    var toolbar = document.createElement('div');\n    toolbar.classList = 'btn-toolbar';\n    this.root.appendChild(toolbar);\n\n    function on_click_closure(name) {\n        return function (_event) {\n            return fig.toolbar_button_onclick(name);\n        };\n    }\n\n    function on_mouseover_closure(tooltip) {\n        return function (event) {\n            if (!event.currentTarget.disabled) {\n                return fig.toolbar_button_onmouseover(tooltip);\n            }\n        };\n    }\n\n    fig.buttons = {};\n    var buttonGroup = document.createElement('div');\n    buttonGroup.classList = 'btn-group';\n    var button;\n    for (var toolbar_ind in mpl.toolbar_items) {\n        var name = mpl.toolbar_items[toolbar_ind][0];\n        var tooltip = mpl.toolbar_items[toolbar_ind][1];\n        var image = mpl.toolbar_items[toolbar_ind][2];\n        var method_name = mpl.toolbar_items[toolbar_ind][3];\n\n        if (!name) {\n            /* Instead of a spacer, we start a new button group. */\n            if (buttonGroup.hasChildNodes()) {\n                toolbar.appendChild(buttonGroup);\n            }\n            buttonGroup = document.createElement('div');\n            buttonGroup.classList = 'btn-group';\n            continue;\n        }\n\n        button = fig.buttons[name] = document.createElement('button');\n        button.classList = 'btn btn-default';\n        button.href = '#';\n        button.title = name;\n        button.innerHTML = '<i class=\"fa ' + image + ' fa-lg\"></i>';\n        button.addEventListener('click', on_click_closure(method_name));\n        button.addEventListener('mouseover', on_mouseover_closure(tooltip));\n        buttonGroup.appendChild(button);\n    }\n\n    if (buttonGroup.hasChildNodes()) {\n        toolbar.appendChild(buttonGroup);\n    }\n\n    // Add the status bar.\n    var status_bar = document.createElement('span');\n    status_bar.classList = 'mpl-message pull-right';\n    toolbar.appendChild(status_bar);\n    this.message = status_bar;\n\n    // Add the close button to the window.\n    var buttongrp = document.createElement('div');\n    buttongrp.classList = 'btn-group inline pull-right';\n    button = document.createElement('button');\n    button.classList = 'btn btn-mini btn-primary';\n    button.href = '#';\n    button.title = 'Stop Interaction';\n    button.innerHTML = '<i class=\"fa fa-power-off icon-remove icon-large\"></i>';\n    button.addEventListener('click', function (_evt) {\n        fig.handle_close(fig, {});\n    });\n    button.addEventListener(\n        'mouseover',\n        on_mouseover_closure('Stop Interaction')\n    );\n    buttongrp.appendChild(button);\n    var titlebar = this.root.querySelector('.ui-dialog-titlebar');\n    titlebar.insertBefore(buttongrp, titlebar.firstChild);\n};\n\nmpl.figure.prototype._remove_fig_handler = function (event) {\n    var fig = event.data.fig;\n    if (event.target !== this) {\n        // Ignore bubbled events from children.\n        return;\n    }\n    fig.close_ws(fig, {});\n};\n\nmpl.figure.prototype._root_extra_style = function (el) {\n    el.style.boxSizing = 'content-box'; // override notebook setting of border-box.\n};\n\nmpl.figure.prototype._canvas_extra_style = function (el) {\n    // this is important to make the div 'focusable\n    el.setAttribute('tabindex', 0);\n    // reach out to IPython and tell the keyboard manager to turn it's self\n    // off when our div gets focus\n\n    // location in version 3\n    if (IPython.notebook.keyboard_manager) {\n        IPython.notebook.keyboard_manager.register_events(el);\n    } else {\n        // location in version 2\n        IPython.keyboard_manager.register_events(el);\n    }\n};\n\nmpl.figure.prototype._key_event_extra = function (event, _name) {\n    // Check for shift+enter\n    if (event.shiftKey && event.which === 13) {\n        this.canvas_div.blur();\n        // select the cell after this one\n        var index = IPython.notebook.find_cell_index(this.cell_info[0]);\n        IPython.notebook.select(index + 1);\n    }\n};\n\nmpl.figure.prototype.handle_save = function (fig, _msg) {\n    fig.ondownload(fig, null);\n};\n\nmpl.find_output_cell = function (html_output) {\n    // Return the cell and output element which can be found *uniquely* in the notebook.\n    // Note - this is a bit hacky, but it is done because the \"notebook_saving.Notebook\"\n    // IPython event is triggered only after the cells have been serialised, which for\n    // our purposes (turning an active figure into a static one), is too late.\n    var cells = IPython.notebook.get_cells();\n    var ncells = cells.length;\n    for (var i = 0; i < ncells; i++) {\n        var cell = cells[i];\n        if (cell.cell_type === 'code') {\n            for (var j = 0; j < cell.output_area.outputs.length; j++) {\n                var data = cell.output_area.outputs[j];\n                if (data.data) {\n                    // IPython >= 3 moved mimebundle to data attribute of output\n                    data = data.data;\n                }\n                if (data['text/html'] === html_output) {\n                    return [cell, data, j];\n                }\n            }\n        }\n    }\n};\n\n// Register the function which deals with the matplotlib target/channel.\n// The kernel may be null if the page has been refreshed.\nif (IPython.notebook.kernel !== null) {\n    IPython.notebook.kernel.comm_manager.register_target(\n        'matplotlib',\n        mpl.mpl_figure_comm\n    );\n}\n",
      "text/plain": [
       "<IPython.core.display.Javascript object>"
      ]
     },
     "metadata": {},
     "output_type": "display_data"
    },
    {
     "data": {
      "text/html": [
       "<div id='c95f9b25-a16f-4cc1-a8ab-185a857c1833'></div>"
      ],
      "text/plain": [
       "<IPython.core.display.HTML object>"
      ]
     },
     "metadata": {},
     "output_type": "display_data"
    }
   ],
   "source": [
    "A = np.array([[-1, 3], [0, 2]])\n",
    "# Tomamos un vector aleatorio con coordenadas en [-1,1]\n",
    "v_0 = 2*np.random.rand(2) - 1\n",
    "\n",
    "# Aplicamos el método de la potencia y guardamos todas las aproximaciones\n",
    "v = v_0\n",
    "max_iter = 100\n",
    "Vks = [v]\n",
    "r_ant = np.inf\n",
    "r_k = v @ (A @ v) / (v @ v)\n",
    "k = 1\n",
    "while k < max_iter:\n",
    "    v_ant = v.copy()  # Guardamos v_(k-1)\n",
    "    r_ant = r_k\n",
    "    w = A @ v\n",
    "    v = w / np.linalg.norm(w)\n",
    "    r_k = v @ (A @ v) / (v @ v)\n",
    "    k += 1\n",
    "    Vks.append(v)\n",
    "\n",
    "# Acá comienza la parte de graficar: \n",
    "\n",
    "fig, ax = plt.subplots()\n",
    "ax.set_xlim(-1.1, 1.1)\n",
    "ax.set_ylim(-1.1, 1.1)\n",
    "ax.set_aspect(1)\n",
    "\n",
    "line, = ax.plot([])\n",
    "eigv_approx, = ax.plot([], 'C0*', label=r'Aproximación de $u_1$')\n",
    "\n",
    "circunferencia = plt.Circle((0,0), 1, color='red', fill=False, linestyle='--', label='Circunferencia unitaria')\n",
    "ax.add_artist(circunferencia)\n",
    "\n",
    "origen = plt.plot(0,0,'o', label=r'(0,0)')[0]\n",
    "ax.add_artist(origen)\n",
    "\n",
    "# Calculamos los autovectores de A con numpy para graficar <u_1>\n",
    "eigvals, C = np.linalg.eig(A)\n",
    "u_1 = C[:, np.argmax(np.abs(eigvals))]\n",
    "\n",
    "# Graficamos <u_1>\n",
    "subesp_u1 = plt.axline((0,0), u_1, label=u'$<u_1>$', alpha=0.4)\n",
    "ax.add_artist(subesp_u1)\n",
    "\n",
    "def animate(frame):\n",
    "    v = Vks[frame]\n",
    "    line.set_data((np.array([0, v[0]]), np.array([0, v[1]])))\n",
    "    eigv_approx.set_data(*v)\n",
    "    eigv_approx.set(marker='*', markersize=15, color='C0', label='test')\n",
    "    return line\n",
    "\n",
    "anim = FuncAnimation(fig, animate, frames=max_iter, interval=650)\n",
    "\n",
    "plt.legend(loc='upper center', bbox_to_anchor=(0.5, 1.15), ncol=3)\n",
    "plt.show()"
   ]
  },
  {
   "cell_type": "markdown",
   "id": "48006c4c",
   "metadata": {},
   "source": [
    "### ¿Qué pasa si le aplicamos el método a una matriz que no tiene único autovalor de  máximo módulo?\n",
    "\n",
    "Sea:\n",
    "$$A = \\begin{pmatrix}\n",
    "0 & 0 & -3 \\\\\n",
    "1 & 1 & -1 \\\\\n",
    "-3 & 0 & 0\n",
    "\\end{pmatrix}$$\n",
    "se puede calcular que los autovalores y autovectores de $A$ son:\n",
    "$$\\lambda_1=3 \\quad \\lambda_2=-3 \\quad \\lambda_3=1$$\n",
    "$$u_1 = (1, 1, -1) \\quad u_2=(1,0,1) \\quad u_3=(0,1,0)$$\n",
    "\n",
    "Veamos qué pasa cuando aplicamos el método:"
   ]
  },
  {
   "cell_type": "code",
   "execution_count": 9,
   "id": "c1971361",
   "metadata": {},
   "outputs": [
    {
     "name": "stdout",
     "output_type": "stream",
     "text": [
      "Aproximación del autovalor de módulo máximo:  2.4104427395031185\n",
      "Aproximación de su correspondiente autovector:  [-0.76990408 -0.54825219  0.32659951]\n",
      "Autovalores de A:  [ 1.  3. -3.]\n"
     ]
    }
   ],
   "source": [
    "A = np.array([[0,0,-3], [1,1,-1], [-3,0,0]])\n",
    "v_0 = 2*np.random.rand(3) - 1\n",
    "lamb, u = metodo_potencia(A, v_0)\n",
    "print('Aproximación del autovalor de módulo máximo: ', lamb)\n",
    "print('Aproximación de su correspondiente autovector: ', u)\n",
    "print('Autovalores de A: ', np.linalg.eigvals(A))"
   ]
  },
  {
   "cell_type": "markdown",
   "id": "e8c38949",
   "metadata": {},
   "source": [
    "Converge a un valor erróneo. <br>\n",
    "\n",
    "### Pero si tiene único autovalor de máximo módulo con multiplicidad $\\geq1$, funciona"
   ]
  },
  {
   "cell_type": "code",
   "execution_count": 10,
   "id": "7ddec618",
   "metadata": {},
   "outputs": [
    {
     "name": "stdout",
     "output_type": "stream",
     "text": [
      "Aproximación del autovalor de módulo máximo:  2.0\n",
      "Aproximación de su correspondiente autovector:  [0.67951816 0.27660469 0.67951816]\n",
      "Autovalores de A:  [2. 2. 0.]\n"
     ]
    }
   ],
   "source": [
    "A = np.array([[1, 0, 1], [-1, 2, 1], [1, 0, 1]])\n",
    "v_0 = 2*np.random.rand(3) - 1\n",
    "lamb, u = metodo_potencia(A, v_0)\n",
    "print('Aproximación del autovalor de módulo máximo: ', lamb)\n",
    "print('Aproximación de su correspondiente autovector: ', u)\n",
    "print('Autovalores de A: ', np.linalg.eigvals(A))"
   ]
  },
  {
   "cell_type": "markdown",
   "id": "c3815ebc",
   "metadata": {},
   "source": [
    "**Obs:** en este caso el método devuelve un vector del autoespacio $E_2$"
   ]
  },
  {
   "cell_type": "markdown",
   "id": "ab6f1248",
   "metadata": {},
   "source": [
    "### Método de la potencia inversa"
   ]
  },
  {
   "cell_type": "markdown",
   "id": "c64174eb",
   "metadata": {},
   "source": [
    "**Proposición:** sea $A \\in \\mathbb{C}^{n\\times n}$ inversible, si $\\lambda$ es autovalor de $A$, entonces $\\frac{1}{\\lambda}$ es autovalor de A con el mismo autovector.\n",
    "\n",
    "**Idea:** si aplico el método de la potencia a $A^{-1}$, obtengo $\\mu$ su autovalor de módulo máximo. Como $\\mu=\\frac{1}{\\lambda}$ para $\\lambda$ algún autovalor de $A$, significa que $\\lambda$ es de módulo mínimo.\n",
    "\n",
    "**Obs:** ahora tenemos que inicializar con $v^{(0)}$ que no tenga coordenada en $u_n$ nula."
   ]
  },
  {
   "cell_type": "code",
   "execution_count": 11,
   "id": "60425289",
   "metadata": {},
   "outputs": [],
   "source": [
    "# Implementación del método de la potencia\n",
    "\n",
    "def metodo_potencia_inversa(A, v, tol=1e-6, max_iter=100):\n",
    "    r_ant = np.inf\n",
    "    Ainv_v = np.linalg.solve(A, v) # Con esto evitamos tener que invertir A para calcular A^(-1)v\n",
    "    r_k = v @ Ainv_v / (v @ v)\n",
    "    k = 1\n",
    "    while k < max_iter and np.abs(r_ant - r_k) > tol:\n",
    "        r_ant = r_k\n",
    "        w = Ainv_v\n",
    "        v = w / np.linalg.norm(w)\n",
    "        Ainv_v = np.linalg.solve(A, v)\n",
    "        r_k = v @ Ainv_v / (v @ v)\n",
    "        k += 1\n",
    "    if k == max_iter:\n",
    "        print('Maximo de interaciones alcanzado')\n",
    "    return 1/r_k, v  # Devolvemos 1/r_k pues r_k es el autovalor de la inversa de A"
   ]
  },
  {
   "cell_type": "code",
   "execution_count": 12,
   "id": "3c46e795",
   "metadata": {},
   "outputs": [
    {
     "name": "stdout",
     "output_type": "stream",
     "text": [
      "Aproximación del autovalor de módulo mínimo:  2.000003814733642\n",
      "Aproximación de su correspondiente autovector:  [-7.07109478e-01 -5.39477603e-06  7.07104084e-01]\n"
     ]
    }
   ],
   "source": [
    "# Aplicándolo a la matriz del ejemplo visto en clase \n",
    "\n",
    "A = np.array([[-3, 7, -5], [0, 4, 0], [-5, 5, -3]])\n",
    "v_0 = np.array([-1, -1,  4])\n",
    "lamb, u = metodo_potencia_inversa(A, v_0)\n",
    "# lamb, u = metodo_potencia(np.linalg.inv(A), v_0)\n",
    "print('Aproximación del autovalor de módulo mínimo: ', lamb)\n",
    "print('Aproximación de su correspondiente autovector: ', u)"
   ]
  },
  {
   "cell_type": "markdown",
   "id": "d06ba9c0",
   "metadata": {},
   "source": [
    "### ¿Y si quiero todos los autovalores?\n",
    "\n",
    "Bajo las hipótesis del teorema, sean $B=\\{u_1,\\dots,u_n\\}$ los autovectores normalizados de $A$ (en orden descendiente según el módulo de sus autovalores correspondientes), entonces se puede ver que:\n",
    "\n",
    "$$ A = CDC^{-1} = \\displaystyle\\sum_{i=1}^n \\lambda_iu_iu_i^t$$\n",
    "\n",
    "**Idea:** Iterativamente vamos \"eliminando\" el autovector correspondiente al autovalor de módulo máximo:\n",
    "\n",
    "$A_1 = A$ <br>\n",
    "$\\lambda_1, \\hat{u}_1$ = ``metodo_potencia(``$A_1$ ``, v_0)``<br>\n",
    "for $k=2,\\dots,n$:<br>\n",
    "&nbsp;&nbsp;&nbsp;&nbsp; $A_k = A_{(k-1)} - \\lambda_{k-1}\\hat{u}_{k-1}\\hat{u}_{k-1}^t$<br>\n",
    "&nbsp;&nbsp;&nbsp;&nbsp; $\\lambda_k, \\hat{u}_k$ = ``metodo_potencia(``$A_{k}$ ``, v_0)``<br>\n",
    "\n",
    "**Obs:** $v^{(0)}$ no debería tener ninguna coordenada nula en $B=\\{u_1,\\dots,u_n\\}$ <br>\n",
    "**Obs:** en general $\\hat{u}_k$ no son los autovectores de $A$\n",
    "\n",
    "En la materia veremos otros métodos que nos permitirán también recuperar los autovectores."
   ]
  },
  {
   "cell_type": "code",
   "execution_count": 13,
   "id": "2d7296a8",
   "metadata": {},
   "outputs": [],
   "source": [
    "def encontrar_autovalores(A, v_0, tol=1e-6):\n",
    "    autovals = []\n",
    "    n = A.shape[0]\n",
    "    u = np.zeros(n)\n",
    "    lamb = 0\n",
    "    for k in range(n):\n",
    "        A = A - lamb*(np.outer(u,u))\n",
    "        lamb, u = metodo_potencia(A, v_0, tol)\n",
    "        autovals.append(lamb)\n",
    "    return autovals"
   ]
  },
  {
   "cell_type": "code",
   "execution_count": 14,
   "id": "576906ca",
   "metadata": {},
   "outputs": [
    {
     "name": "stdout",
     "output_type": "stream",
     "text": [
      "Autovalores de A:  [-8.000000323217204, 4.000000063569689, 1.999998579990913]\n"
     ]
    }
   ],
   "source": [
    "# Esta matriz tiene autovalores {-8, 4, 2}\n",
    "A = np.array([[-3, 7, -5], [0, 4, 0], [-5, 5, -3]])\n",
    "v_0 = np.random.rand(3)\n",
    "autovals = encontrar_autovalores(A, v_0)\n",
    "print('Autovalores de A: ', autovals)"
   ]
  },
  {
   "cell_type": "code",
   "execution_count": 15,
   "id": "250aa790",
   "metadata": {},
   "outputs": [
    {
     "name": "stdout",
     "output_type": "stream",
     "text": [
      "Autovalores de A:  [1.9999998309292384, -1.0000003381413232]\n"
     ]
    }
   ],
   "source": [
    "# Esta matriz tiene autovalores {2, -1}\n",
    "A = np.array([[-1, 3], [0, 2]])\n",
    "v_0 = np.random.rand(2)\n",
    "autovals = encontrar_autovalores(A, v_0)\n",
    "print('Autovalores de A: ', autovals)"
   ]
  },
  {
   "cell_type": "code",
   "execution_count": 16,
   "id": "6fccae7e",
   "metadata": {},
   "outputs": [
    {
     "name": "stdout",
     "output_type": "stream",
     "text": [
      "Autovalores de A:  [2.0, 2.0, -2.255364136002869e-16]\n"
     ]
    }
   ],
   "source": [
    "# Esta matriz tiene autovalores {2,2,0}\n",
    "A = np.array([[1, 0, 1], [-1, 2, 1], [1, 0, 1]])\n",
    "v_0 = 2*np.random.rand(3) - 1\n",
    "autovals = encontrar_autovalores(A, v_0)\n",
    "print('Autovalores de A: ', autovals)"
   ]
  }
 ],
 "metadata": {
  "kernelspec": {
   "display_name": "Python 3 (ipykernel)",
   "language": "python",
   "name": "python3"
  },
  "language_info": {
   "codemirror_mode": {
    "name": "ipython",
    "version": 3
   },
   "file_extension": ".py",
   "mimetype": "text/x-python",
   "name": "python",
   "nbconvert_exporter": "python",
   "pygments_lexer": "ipython3",
   "version": "3.12.2"
  }
 },
 "nbformat": 4,
 "nbformat_minor": 5
}
