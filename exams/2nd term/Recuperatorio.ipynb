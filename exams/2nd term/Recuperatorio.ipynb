{
  "nbformat": 4,
  "nbformat_minor": 0,
  "metadata": {
    "colab": {
      "name": "Recuperatorio del Segundo Parcial ALC.ipynb",
      "provenance": []
    },
    "kernelspec": {
      "name": "python3",
      "display_name": "Python 3"
    },
    "language_info": {
      "name": "python"
    }
  },
  "cells": [
    {
      "cell_type": "code",
      "execution_count": null,
      "metadata": {
        "id": "Lwqifwypy_zN"
      },
      "outputs": [],
      "source": [
        "import numpy as np\n",
        "import matplotlib.pyplot as plt"
      ]
    },
    {
      "cell_type": "markdown",
      "source": [
        "# EJ 1"
      ],
      "metadata": {
        "id": "ZIqSiJXQ0tEs"
      }
    },
    {
      "cell_type": "code",
      "source": [
        "# Item A\n",
        "A = np.array([[1/3,1/2,1/2,0],[1/3,1/2,0,0],[1/3,0,1/2,0],[0,0,0,1]])\n",
        "print(A)"
      ],
      "metadata": {
        "colab": {
          "base_uri": "https://localhost:8080/"
        },
        "id": "k4zj3jQ48pvz",
        "outputId": "4a637799-c63c-42c9-e5a2-81728d26e9b2"
      },
      "execution_count": null,
      "outputs": [
        {
          "output_type": "stream",
          "name": "stdout",
          "text": [
            "[[0.33333333 0.5        0.5        0.        ]\n",
            " [0.33333333 0.5        0.         0.        ]\n",
            " [0.33333333 0.         0.5        0.        ]\n",
            " [0.         0.         0.         1.        ]]\n"
          ]
        }
      ]
    },
    {
      "cell_type": "code",
      "source": [
        "e = np.linalg.eig(A)\n",
        "print(e[0])\n",
        "print(e[1])"
      ],
      "metadata": {
        "colab": {
          "base_uri": "https://localhost:8080/"
        },
        "id": "9fn2Aj-X8ppT",
        "outputId": "3eadccc0-7b3c-4fac-bd92-a4687273022c"
      },
      "execution_count": null,
      "outputs": [
        {
          "output_type": "stream",
          "name": "stdout",
          "text": [
            "[-0.16666667  1.          0.5         1.        ]\n",
            "[[-8.16496581e-01  7.27606875e-01  1.17756934e-16  0.00000000e+00]\n",
            " [ 4.08248290e-01  4.85071250e-01 -7.07106781e-01  0.00000000e+00]\n",
            " [ 4.08248290e-01  4.85071250e-01  7.07106781e-01  0.00000000e+00]\n",
            " [ 0.00000000e+00  0.00000000e+00  0.00000000e+00  1.00000000e+00]]\n"
          ]
        }
      ]
    },
    {
      "cell_type": "code",
      "source": [
        "w1 = e[1][:,1]\n",
        "w1 = w1/np.linalg.norm(w1,1)\n",
        "print('w1 = ',w1)\n",
        "\n",
        "w2 = e[1][:,3]\n",
        "w2 = w2/np.linalg.norm(w2,1)\n",
        "print('w2 =',w2)\n",
        "\n",
        "A_inf = np.c_[w1,w1,w1,w2]\n",
        "\n",
        "print('La matriz inf sera =')\n",
        "print(A_inf)"
      ],
      "metadata": {
        "colab": {
          "base_uri": "https://localhost:8080/"
        },
        "id": "9l18QGBXghHb",
        "outputId": "78410041-6dfa-402f-a01c-4baab5a0996e"
      },
      "execution_count": null,
      "outputs": [
        {
          "output_type": "stream",
          "name": "stdout",
          "text": [
            "w1 =  [0.42857143 0.28571429 0.28571429 0.        ]\n",
            "w2 = [0. 0. 0. 1.]\n",
            "La matriz inf sera =\n",
            "[[0.42857143 0.42857143 0.42857143 0.        ]\n",
            " [0.28571429 0.28571429 0.28571429 0.        ]\n",
            " [0.28571429 0.28571429 0.28571429 0.        ]\n",
            " [0.         0.         0.         1.        ]]\n"
          ]
        }
      ]
    },
    {
      "cell_type": "code",
      "source": [
        "#chequeo por simulacion\n",
        "\n",
        "def matriz_inf(A,k):\n",
        "  A_old = A.copy()\n",
        "  for i in range(k):\n",
        "    A_new = A@A_old\n",
        "    A_old = A_new\n",
        "  return(A_new)"
      ],
      "metadata": {
        "id": "1A7KW0AY8ptm"
      },
      "execution_count": null,
      "outputs": []
    },
    {
      "cell_type": "code",
      "source": [
        "matriz_inf(A,1000)"
      ],
      "metadata": {
        "colab": {
          "base_uri": "https://localhost:8080/"
        },
        "id": "efDwe8-v8pra",
        "outputId": "d5483231-2247-411f-bb8b-a99e863aac35"
      },
      "execution_count": null,
      "outputs": [
        {
          "output_type": "execute_result",
          "data": {
            "text/plain": [
              "array([[0.42857143, 0.42857143, 0.42857143, 0.        ],\n",
              "       [0.28571429, 0.28571429, 0.28571429, 0.        ],\n",
              "       [0.28571429, 0.28571429, 0.28571429, 0.        ],\n",
              "       [0.        , 0.        , 0.        , 1.        ]])"
            ]
          },
          "metadata": {},
          "execution_count": 187
        }
      ]
    },
    {
      "cell_type": "code",
      "source": [
        "#Item B\n",
        "\n",
        "v0 = np.array([160,20,10,80])"
      ],
      "metadata": {
        "id": "2XLm-FRV_qLl"
      },
      "execution_count": null,
      "outputs": []
    },
    {
      "cell_type": "code",
      "source": [
        "def estado(A,v,k):\n",
        "  for i in range(k):\n",
        "    v = A@v\n",
        "  return(v)"
      ],
      "metadata": {
        "id": "1PX3q_rp_qJj"
      },
      "execution_count": null,
      "outputs": []
    },
    {
      "cell_type": "code",
      "source": [
        "print('v3 = ', estado(A,v0,3))"
      ],
      "metadata": {
        "colab": {
          "base_uri": "https://localhost:8080/"
        },
        "id": "O9EfRbdu_qF7",
        "outputId": "113dbdf6-cf49-4206-cc9e-994fe4c24b1d"
      },
      "execution_count": null,
      "outputs": [
        {
          "output_type": "stream",
          "name": "stdout",
          "text": [
            "v3 =  [81.06481481 55.09259259 53.84259259 80.        ]\n"
          ]
        }
      ]
    },
    {
      "cell_type": "code",
      "source": [
        "#Item C\n",
        "\n",
        "lim = A_inf@v0\n",
        "print('El estado limite para v0 =', lim)"
      ],
      "metadata": {
        "colab": {
          "base_uri": "https://localhost:8080/"
        },
        "id": "_xZhSOd7i5aT",
        "outputId": "1006db67-8648-42d7-a304-baa0a5fc32e1"
      },
      "execution_count": null,
      "outputs": [
        {
          "output_type": "stream",
          "name": "stdout",
          "text": [
            "El estado limite para v0 = [81.42857143 54.28571429 54.28571429 80.        ]\n"
          ]
        }
      ]
    },
    {
      "cell_type": "code",
      "source": [
        "#chequeo por simulacion\n",
        "print(estado(A,v0,10))\n",
        "print(estado(A,v0,100))\n",
        "print(estado(A,v0,1000))\n",
        "print(estado(A,v0,1001))"
      ],
      "metadata": {
        "colab": {
          "base_uri": "https://localhost:8080/"
        },
        "id": "hqGvLRh98ph6",
        "outputId": "14639bb0-1f87-43a7-98de-c85a3ac95613"
      },
      "execution_count": null,
      "outputs": [
        {
          "output_type": "stream",
          "name": "stdout",
          "text": [
            "[81.42857273 54.29059645 54.28083082 80.        ]\n",
            "[81.42857143 54.28571429 54.28571429 80.        ]\n",
            "[81.42857143 54.28571429 54.28571429 80.        ]\n",
            "[81.42857143 54.28571429 54.28571429 80.        ]\n"
          ]
        }
      ]
    },
    {
      "cell_type": "markdown",
      "source": [
        "# EJ 2"
      ],
      "metadata": {
        "id": "6yVqix5_0vhr"
      }
    },
    {
      "cell_type": "code",
      "source": [
        "# Item C\n",
        "\n",
        "A = np.array([[-1,0,-(2/3)],[0,1,0],[2/3,0,1]])\n",
        "print(A)"
      ],
      "metadata": {
        "colab": {
          "base_uri": "https://localhost:8080/"
        },
        "id": "WADpLNtS00cU",
        "outputId": "95e27de6-3cd2-40cb-b918-148e40a69e90"
      },
      "execution_count": null,
      "outputs": [
        {
          "output_type": "stream",
          "name": "stdout",
          "text": [
            "[[-1.          0.         -0.66666667]\n",
            " [ 0.          1.          0.        ]\n",
            " [ 0.66666667  0.          1.        ]]\n"
          ]
        }
      ]
    },
    {
      "cell_type": "code",
      "source": [
        "D = np.array([[-1,0,0],[0,1,0],[0,0,1]])\n",
        "print(D)\n",
        "print(np.linalg.inv(D))"
      ],
      "metadata": {
        "colab": {
          "base_uri": "https://localhost:8080/"
        },
        "id": "k982O_Tq1QSj",
        "outputId": "36192f07-7856-4067-ee4a-d073ba684b52"
      },
      "execution_count": null,
      "outputs": [
        {
          "output_type": "stream",
          "name": "stdout",
          "text": [
            "[[-1  0  0]\n",
            " [ 0  1  0]\n",
            " [ 0  0  1]]\n",
            "[[-1. -0. -0.]\n",
            " [ 0.  1.  0.]\n",
            " [ 0.  0.  1.]]\n"
          ]
        }
      ]
    },
    {
      "cell_type": "code",
      "source": [
        "L = np.array([[0,0,0],[0,0,0],[2/3,0,0]])\n",
        "print(L)"
      ],
      "metadata": {
        "colab": {
          "base_uri": "https://localhost:8080/"
        },
        "id": "Svevahuw1QQR",
        "outputId": "5cc7663c-7b95-457f-8696-2443877b1fdb"
      },
      "execution_count": null,
      "outputs": [
        {
          "output_type": "stream",
          "name": "stdout",
          "text": [
            "[[0.         0.         0.        ]\n",
            " [0.         0.         0.        ]\n",
            " [0.66666667 0.         0.        ]]\n"
          ]
        }
      ]
    },
    {
      "cell_type": "code",
      "source": [
        "U = np.array([[0,0,-(2/3)],[0,0,0],[0,0,0]])\n",
        "print(U)"
      ],
      "metadata": {
        "colab": {
          "base_uri": "https://localhost:8080/"
        },
        "id": "eU569ndz1QNo",
        "outputId": "3bfdb067-66dd-46f3-d747-b7abcf45fa27"
      },
      "execution_count": null,
      "outputs": [
        {
          "output_type": "stream",
          "name": "stdout",
          "text": [
            "[[ 0.          0.         -0.66666667]\n",
            " [ 0.          0.          0.        ]\n",
            " [ 0.          0.          0.        ]]\n"
          ]
        }
      ]
    },
    {
      "cell_type": "code",
      "source": [
        "A == (U+D+L)"
      ],
      "metadata": {
        "colab": {
          "base_uri": "https://localhost:8080/"
        },
        "id": "y2zubX5H1QLF",
        "outputId": "bd92f9fe-0183-43fc-f502-5b118bbf6b6e"
      },
      "execution_count": null,
      "outputs": [
        {
          "output_type": "execute_result",
          "data": {
            "text/plain": [
              "array([[ True,  True,  True],\n",
              "       [ True,  True,  True],\n",
              "       [ True,  True,  True]])"
            ]
          },
          "metadata": {},
          "execution_count": 197
        }
      ]
    },
    {
      "cell_type": "code",
      "source": [
        "M_i = (np.linalg.inv(D+(3/4)*L))@((1/4)*D - (3/4)*U)\n",
        "print(M_i)"
      ],
      "metadata": {
        "colab": {
          "base_uri": "https://localhost:8080/"
        },
        "id": "B22Rhcg919Zt",
        "outputId": "4dc64ee0-e5ea-49fb-b9e7-d3552a389ee4"
      },
      "execution_count": null,
      "outputs": [
        {
          "output_type": "stream",
          "name": "stdout",
          "text": [
            "[[ 0.25   0.    -0.5  ]\n",
            " [ 0.     0.25   0.   ]\n",
            " [-0.125  0.     0.5  ]]\n"
          ]
        }
      ]
    },
    {
      "cell_type": "code",
      "source": [
        "print(np.linalg.eig(M_i)[0])"
      ],
      "metadata": {
        "colab": {
          "base_uri": "https://localhost:8080/"
        },
        "id": "m9CBAL9d19X5",
        "outputId": "ecfd2ba0-d246-4495-db92-16567b05527c"
      },
      "execution_count": null,
      "outputs": [
        {
          "output_type": "stream",
          "name": "stdout",
          "text": [
            "[0.0954915 0.6545085 0.25     ]\n"
          ]
        }
      ]
    },
    {
      "cell_type": "markdown",
      "source": [
        "# EJ 3\n"
      ],
      "metadata": {
        "id": "TxnK0QvB0vtL"
      }
    },
    {
      "cell_type": "code",
      "source": [
        "x = np.array([0.0,1.0,2.0,3.0,4.0,5.0])\n",
        "y = np.array([40.0,27.5,19.8,15.0,6.1,3.8])"
      ],
      "metadata": {
        "id": "9craSuh6E2u_"
      },
      "execution_count": null,
      "outputs": []
    },
    {
      "cell_type": "code",
      "source": [
        "#Item A\n",
        "A = np.c_[np.ones(len(x)),x,x**2]\n",
        "c = np.linalg.solve(A.T@A,A.T@y)\n",
        "\n",
        "xs = np.linspace(0,6,200)\n",
        "ys = c[0] + c[1]*xs + c[2]*(xs**2)\n",
        "\n",
        "estimadoA = c[0] + c[1]*6 + c[2]*(6**2)\n",
        "\n",
        "plt.figure(figsize = (7,7))\n",
        "plt.scatter(x,y,150,'k')\n",
        "plt.scatter(6,estimadoA,150)\n",
        "plt.plot(xs,ys,'C3',lw = 3)\n",
        "plt.xlabel('Dias transcurridos desde deteccion')\n",
        "plt.ylabel('Distancia a la tierra en km')\n",
        "plt.show()\n",
        "print('La distancia estimada para el dia 6 es = ', np.round(estimadoA,1))"
      ],
      "metadata": {
        "colab": {
          "base_uri": "https://localhost:8080/",
          "height": 459
        },
        "id": "Y3ymW1szE2sp",
        "outputId": "a3f70eb4-4c8b-4bea-9bba-da7f017e617a"
      },
      "execution_count": null,
      "outputs": [
        {
          "output_type": "display_data",
          "data": {
            "text/plain": [
              "<Figure size 504x504 with 1 Axes>"
            ],
            "image/png": "[encoded data removed]"
          },
          "metadata": {
            "needs_background": "light"
          }
        },
        {
          "output_type": "stream",
          "name": "stdout",
          "text": [
            "La distancia estimada para el dia 6 es =  1.4\n"
          ]
        }
      ]
    },
    {
      "cell_type": "code",
      "source": [
        "# Item B\n",
        "\n",
        "#idea:\n",
        "#y = (d0+d1x)**2\n",
        "#sqrt(y) = d0+d1x -> hacer el ajuste y obtener d0,d1\n",
        "#sqrt(y)**2 = (d0+d1x)**2\n",
        "#y = (d0+d1x)**2\n",
        "\n",
        "raiz_y = np.sqrt(y)\n",
        "\n",
        "B = np.c_[np.ones(len(x)),x]\n",
        "d = np.linalg.solve(B.T@B,B.T@raiz_y)\n",
        "\n",
        "xss = np.linspace(0,6,200)\n",
        "yss = (d[0]+d[1]*xss)**2\n",
        "\n",
        "estimadoB = (d[0]+d[1]*6)**2\n",
        "\n",
        "plt.figure(figsize = (7,7))\n",
        "plt.scatter(x,y,150,'k')\n",
        "plt.scatter(6,estimadoB,150)\n",
        "plt.plot(xss,yss,'C3',lw = 3)\n",
        "plt.xlabel('Dias transcurridos desde deteccion')\n",
        "plt.ylabel('Distancia a la tierra en km')\n",
        "plt.show()\n",
        "print('La distancia estimada para el dia 6 es = ', np.round(estimadoB,1))"
      ],
      "metadata": {
        "colab": {
          "base_uri": "https://localhost:8080/",
          "height": 459
        },
        "id": "9_ouippME2qW",
        "outputId": "96a9aaa5-7442-49ed-98a2-96ea1c52768a"
      },
      "execution_count": null,
      "outputs": [
        {
          "output_type": "display_data",
          "data": {
            "text/plain": [
              "<Figure size 504x504 with 1 Axes>"
            ],
            "image/png": "[encoded data removed]"
          },
          "metadata": {
            "needs_background": "light"
          }
        },
        {
          "output_type": "stream",
          "name": "stdout",
          "text": [
            "La distancia estimada para el dia 6 es =  0.9\n"
          ]
        }
      ]
    },
    {
      "cell_type": "code",
      "source": [
        "#Item C\n",
        "print('Primer ajuste = ', estimadoA)\n",
        "print('Segundo ajuste = ',estimadoB)"
      ],
      "metadata": {
        "colab": {
          "base_uri": "https://localhost:8080/"
        },
        "id": "Y9jRa-3njj5A",
        "outputId": "4c6a629b-166a-450f-f960-ed3874375c0b"
      },
      "execution_count": null,
      "outputs": [
        {
          "output_type": "stream",
          "name": "stdout",
          "text": [
            "Primer ajuste =  1.399999999999931\n",
            "Segundo ajuste =  0.9490787245434223\n"
          ]
        }
      ]
    },
    {
      "cell_type": "code",
      "source": [
        ""
      ],
      "metadata": {
        "id": "KhrrbjQcjsUL"
      },
      "execution_count": null,
      "outputs": []
    }
  ]
}