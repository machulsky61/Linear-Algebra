{
 "cells": [
  {
   "cell_type": "markdown",
   "id": "688f35e3",
   "metadata": {
    "id": "688f35e3"
   },
   "source": [
    "Recordar que en el parcial se pueden utilizar las siguientes funciones:\n",
    "\n",
    "``np.linalg.solve\n",
    "np.linalg.det\n",
    "np.linalg.qr\n",
    "np.linalg.eig\n",
    "np.linalg.eigvals\n",
    "np.linalg.svd\n",
    "np.log  --> calcula el logatirmo natural de un numero o de cada elemento de un array\n",
    "np.exp  --> para calcular e elevado a un numero o a cada elemento de un array``\n",
    "\n",
    "También se puede utilizar ``row_echelon``."
   ]
  },
  {
   "cell_type": "markdown",
   "id": "9e17e2b2",
   "metadata": {
    "id": "9e17e2b2"
   },
   "source": [
    "---\n",
    "\n",
    "Puede utilizar la siguiente plantilla para realizar los gráficos del ejercicio 3 del parcial:"
   ]
  },
  {
   "cell_type": "code",
   "execution_count": 3,
   "id": "a754a02d",
   "metadata": {
    "id": "a754a02d"
   },
   "outputs": [],
   "source": [
    "import numpy as np\n",
    "import matplotlib.pyplot as plt"
   ]
  },
  {
   "cell_type": "markdown",
   "id": "Uo2DDN4RuxzK",
   "metadata": {
    "id": "Uo2DDN4RuxzK"
   },
   "source": [
    "Ejercicio 1"
   ]
  },
  {
   "cell_type": "markdown",
   "id": "hiohQ2W4zwjM",
   "metadata": {
    "id": "hiohQ2W4zwjM"
   },
   "source": [
    "a)"
   ]
  },
  {
   "cell_type": "code",
   "execution_count": 4,
   "id": "4y7KNAqDuwgQ",
   "metadata": {
    "id": "4y7KNAqDuwgQ"
   },
   "outputs": [],
   "source": [
    "P = np.array([[0.25,0.4,0.2,0],[0.5,0.4,0.5,0.5],[0.25,0,0.1,0.4],[0,0.2,0.2,0.1]])"
   ]
  },
  {
   "cell_type": "markdown",
   "id": "PCJFbZMnw6zK",
   "metadata": {
    "id": "PCJFbZMnw6zK"
   },
   "source": [
    "Matriz de transición"
   ]
  },
  {
   "cell_type": "code",
   "execution_count": 5,
   "id": "14Mec4yWw0BC",
   "metadata": {
    "colab": {
     "base_uri": "https://localhost:8080/"
    },
    "id": "14Mec4yWw0BC",
    "outputId": "75fe6d1d-13e6-40c8-9969-8226bd6dad15"
   },
   "outputs": [
    {
     "name": "stdout",
     "output_type": "stream",
     "text": [
      "[[0.25 0.4  0.2  0.  ]\n",
      " [0.5  0.4  0.5  0.5 ]\n",
      " [0.25 0.   0.1  0.4 ]\n",
      " [0.   0.2  0.2  0.1 ]]\n"
     ]
    }
   ],
   "source": [
    "print(P)"
   ]
  },
  {
   "cell_type": "markdown",
   "id": "8pWlE-ZHw3wl",
   "metadata": {
    "id": "8pWlE-ZHw3wl"
   },
   "source": [
    "Verifico que sea markov"
   ]
  },
  {
   "cell_type": "code",
   "execution_count": 6,
   "id": "R26Zf0D0w1ox",
   "metadata": {
    "colab": {
     "base_uri": "https://localhost:8080/"
    },
    "id": "R26Zf0D0w1ox",
    "outputId": "f2696b60-8e46-483d-8e54-9f8819293b20"
   },
   "outputs": [
    {
     "data": {
      "text/plain": [
       "array([1., 1., 1., 1.])"
      ]
     },
     "execution_count": 6,
     "metadata": {},
     "output_type": "execute_result"
    }
   ],
   "source": [
    "sum(P)"
   ]
  },
  {
   "cell_type": "markdown",
   "id": "D9Lck6EMzzWB",
   "metadata": {
    "id": "D9Lck6EMzzWB"
   },
   "source": [
    "b)"
   ]
  },
  {
   "cell_type": "markdown",
   "id": "Rq_1XgbdxLMd",
   "metadata": {
    "id": "Rq_1XgbdxLMd"
   },
   "source": [
    "Turistas iniciales por destino"
   ]
  },
  {
   "cell_type": "code",
   "execution_count": 7,
   "id": "DtU0kxmnxCJ_",
   "metadata": {
    "id": "DtU0kxmnxCJ_"
   },
   "outputs": [],
   "source": [
    "x = np.array([400,500,500,600])"
   ]
  },
  {
   "cell_type": "markdown",
   "id": "QMjtE8BXxQdw",
   "metadata": {
    "id": "QMjtE8BXxQdw"
   },
   "source": [
    "Convierto a estado"
   ]
  },
  {
   "cell_type": "code",
   "execution_count": 8,
   "id": "nG6oxQgWxSMa",
   "metadata": {
    "colab": {
     "base_uri": "https://localhost:8080/"
    },
    "id": "nG6oxQgWxSMa",
    "outputId": "06079942-862f-4c36-b8bc-f0f2636f28fc"
   },
   "outputs": [
    {
     "data": {
      "text/plain": [
       "array([0.2 , 0.25, 0.25, 0.3 ])"
      ]
     },
     "execution_count": 8,
     "metadata": {},
     "output_type": "execute_result"
    }
   ],
   "source": [
    "x0 = x/sum(x)\n",
    "x0"
   ]
  },
  {
   "cell_type": "code",
   "execution_count": 9,
   "id": "q2427SZExpc_",
   "metadata": {
    "colab": {
     "base_uri": "https://localhost:8080/"
    },
    "id": "q2427SZExpc_",
    "outputId": "2efb5145-5159-4abe-e564-3bb717bfea29"
   },
   "outputs": [
    {
     "name": "stdout",
     "output_type": "stream",
     "text": [
      "[0.27505 0.45475 0.1407  0.1295 ]\n"
     ]
    }
   ],
   "source": [
    "v = np.copy(x0)\n",
    "for i in range(3):\n",
    "  v = P@v\n",
    "print(v)  "
   ]
  },
  {
   "cell_type": "markdown",
   "id": "b3b8BAiSyrSM",
   "metadata": {
    "id": "b3b8BAiSyrSM"
   },
   "source": [
    "Turistas en A luego de 3 dias"
   ]
  },
  {
   "cell_type": "code",
   "execution_count": 10,
   "id": "qJOeFmYHyI2k",
   "metadata": {
    "colab": {
     "base_uri": "https://localhost:8080/"
    },
    "id": "qJOeFmYHyI2k",
    "outputId": "71200d7d-6fd2-48c2-85d5-101c3938bac7"
   },
   "outputs": [
    {
     "name": "stdout",
     "output_type": "stream",
     "text": [
      "550.1\n"
     ]
    }
   ],
   "source": [
    "print(v[0]*sum(x))"
   ]
  },
  {
   "cell_type": "code",
   "execution_count": 11,
   "id": "k20h77dOyqgt",
   "metadata": {
    "colab": {
     "base_uri": "https://localhost:8080/"
    },
    "id": "k20h77dOyqgt",
    "outputId": "06f9c0e3-1838-4650-be98-a19c6de96a53"
   },
   "outputs": [
    {
     "name": "stdout",
     "output_type": "stream",
     "text": [
      "[0.27843713 0.4545475  0.13597988 0.1310355 ]\n"
     ]
    }
   ],
   "source": [
    "v = np.copy(x0)\n",
    "for i in range(5):\n",
    "  v = P@v\n",
    "print(v)  "
   ]
  },
  {
   "cell_type": "markdown",
   "id": "sQ_ZBBqHzOR-",
   "metadata": {
    "id": "sQ_ZBBqHzOR-"
   },
   "source": [
    "Turistas en D luego de 5 dias"
   ]
  },
  {
   "cell_type": "code",
   "execution_count": 12,
   "id": "AiVXNYUxzQqr",
   "metadata": {
    "colab": {
     "base_uri": "https://localhost:8080/"
    },
    "id": "AiVXNYUxzQqr",
    "outputId": "6b430d63-77e7-4034-8ad1-a5c51d851770"
   },
   "outputs": [
    {
     "name": "stdout",
     "output_type": "stream",
     "text": [
      "262.071\n"
     ]
    }
   ],
   "source": [
    "print(v[3]*sum(x))"
   ]
  },
  {
   "cell_type": "markdown",
   "id": "N72AYU9iz1Ox",
   "metadata": {
    "id": "N72AYU9iz1Ox"
   },
   "source": [
    "c)"
   ]
  },
  {
   "cell_type": "code",
   "execution_count": 13,
   "id": "pT5ePq8Sz48R",
   "metadata": {
    "id": "pT5ePq8Sz48R"
   },
   "outputs": [],
   "source": [
    "aVals, aVects = np.linalg.eig(P)"
   ]
  },
  {
   "cell_type": "code",
   "execution_count": 14,
   "id": "mL5auUxy0CTv",
   "metadata": {
    "colab": {
     "base_uri": "https://localhost:8080/"
    },
    "id": "mL5auUxy0CTv",
    "outputId": "8992afc1-5a6a-425d-ac87-7b23953180be"
   },
   "outputs": [
    {
     "data": {
      "text/plain": [
       "array([ 1.        , -0.23860009, -0.1       ,  0.18860009])"
      ]
     },
     "execution_count": 14,
     "metadata": {},
     "output_type": "execute_result"
    }
   ],
   "source": [
    "aVals"
   ]
  },
  {
   "cell_type": "markdown",
   "id": "IgTKP2aT0ylQ",
   "metadata": {
    "id": "IgTKP2aT0ylQ"
   },
   "source": [
    "Busco las coordenadas del estado inicial en base de autovectores de P"
   ]
  },
  {
   "cell_type": "code",
   "execution_count": 15,
   "id": "7tdWId1907M2",
   "metadata": {
    "colab": {
     "base_uri": "https://localhost:8080/"
    },
    "id": "7tdWId1907M2",
    "outputId": "3a9bcb85-25e6-4a3a-8e53-e14e52c07126"
   },
   "outputs": [
    {
     "data": {
      "text/plain": [
       "array([[-4.92629619e-01, -3.32402035e-01,  1.53235892e-17,\n",
       "        -7.96945997e-01],\n",
       "       [-8.03722025e-01,  3.82128289e-16, -4.08248290e-01,\n",
       "         1.19286721e-16],\n",
       "       [-2.39917022e-01,  8.12058328e-01,  8.16496581e-01,\n",
       "         2.44662048e-01],\n",
       "       [-2.31919788e-01, -4.79656293e-01, -4.08248290e-01,\n",
       "         5.52283949e-01]])"
      ]
     },
     "execution_count": 15,
     "metadata": {},
     "output_type": "execute_result"
    }
   ],
   "source": [
    "aVects"
   ]
  },
  {
   "cell_type": "code",
   "execution_count": 16,
   "id": "WEyHzI5ezkyq",
   "metadata": {
    "colab": {
     "base_uri": "https://localhost:8080/"
    },
    "id": "WEyHzI5ezkyq",
    "outputId": "16c51d4b-d7c6-44eb-fa8b-5317af2cf9ed"
   },
   "outputs": [
    {
     "data": {
      "text/plain": [
       "array([-0.56555058, -0.44915979,  0.50103199,  0.28597746])"
      ]
     },
     "execution_count": 16,
     "metadata": {},
     "output_type": "execute_result"
    }
   ],
   "source": [
    "v = np.copy(x0)\n",
    "alphas = np.linalg.solve(aVects,v)\n",
    "alphas"
   ]
  },
  {
   "cell_type": "markdown",
   "id": "vJC1JgxDVGh4",
   "metadata": {
    "id": "vJC1JgxDVGh4"
   },
   "source": [
    "Verifico"
   ]
  },
  {
   "cell_type": "code",
   "execution_count": 17,
   "id": "yQ2MiSgx1FFL",
   "metadata": {
    "colab": {
     "base_uri": "https://localhost:8080/"
    },
    "id": "yQ2MiSgx1FFL",
    "outputId": "ff85119b-2dff-4397-c71f-582eea002480"
   },
   "outputs": [
    {
     "data": {
      "text/plain": [
       "array([0.2 , 0.25, 0.25, 0.3 ])"
      ]
     },
     "execution_count": 17,
     "metadata": {},
     "output_type": "execute_result"
    }
   ],
   "source": [
    "aVects@alphas"
   ]
  },
  {
   "cell_type": "markdown",
   "id": "SkiJ5OKm2OQS",
   "metadata": {
    "id": "SkiJ5OKm2OQS"
   },
   "source": [
    "convierto w1 a un estado"
   ]
  },
  {
   "cell_type": "code",
   "execution_count": 18,
   "id": "p9dNAVSl1lPy",
   "metadata": {
    "colab": {
     "base_uri": "https://localhost:8080/"
    },
    "id": "p9dNAVSl1lPy",
    "outputId": "d67ce14b-bf93-484b-d5f5-9cd848ed549d"
   },
   "outputs": [
    {
     "data": {
      "text/plain": [
       "array([0.27860697, 0.45454545, 0.13568521, 0.13116237])"
      ]
     },
     "execution_count": 18,
     "metadata": {},
     "output_type": "execute_result"
    }
   ],
   "source": [
    "vInf = aVects[:,0]/sum(aVects[:,0])\n",
    "vInf"
   ]
  },
  {
   "cell_type": "markdown",
   "id": "e5zk9RguCy0U",
   "metadata": {
    "id": "e5zk9RguCy0U"
   },
   "source": [
    "Verifico (no cuenta como demostración)"
   ]
  },
  {
   "cell_type": "code",
   "execution_count": 19,
   "id": "vKkLbjW6Cw4q",
   "metadata": {
    "colab": {
     "base_uri": "https://localhost:8080/"
    },
    "id": "vKkLbjW6Cw4q",
    "outputId": "53a4178b-03f0-47c8-eef9-58ec41780ebd"
   },
   "outputs": [
    {
     "name": "stdout",
     "output_type": "stream",
     "text": [
      "[0.27860697 0.45454545 0.13568521 0.13116237]\n",
      "[0.27860697 0.45454545 0.13568521 0.13116237]\n"
     ]
    }
   ],
   "source": [
    "v = np.copy(x0)\n",
    "for i in range(1000):\n",
    "  v = P@v\n",
    "print(v)\n",
    "print(P@v)"
   ]
  },
  {
   "cell_type": "markdown",
   "id": "OpwhA4q-ACTq",
   "metadata": {
    "id": "OpwhA4q-ACTq"
   },
   "source": [
    "d)"
   ]
  },
  {
   "cell_type": "markdown",
   "id": "WxgnEjaKAIWO",
   "metadata": {
    "id": "WxgnEjaKAIWO"
   },
   "source": [
    "Verifico que la factorizacion A = C@D@C^1 anda bien"
   ]
  },
  {
   "cell_type": "code",
   "execution_count": 20,
   "id": "dFVeOsQPAEWq",
   "metadata": {
    "colab": {
     "base_uri": "https://localhost:8080/"
    },
    "id": "dFVeOsQPAEWq",
    "outputId": "4e22c779-f686-45a6-b685-610e5883e34a"
   },
   "outputs": [
    {
     "data": {
      "text/plain": [
       "array([[0.25, 0.4 , 0.2 , 0.  ],\n",
       "       [0.5 , 0.4 , 0.5 , 0.5 ],\n",
       "       [0.25, 0.  , 0.1 , 0.4 ],\n",
       "       [0.  , 0.2 , 0.2 , 0.1 ]])"
      ]
     },
     "execution_count": 20,
     "metadata": {},
     "output_type": "execute_result"
    }
   ],
   "source": [
    "D = np.diag(aVals)\n",
    "P2 = aVects @ D @ np.linalg.inv(aVects)\n",
    "for i in range(len(P2)):\n",
    "  for j in range(len(P2[0])):\n",
    "    P2[i][j] = round(P2[i][j],2)\n",
    "P2"
   ]
  },
  {
   "cell_type": "code",
   "execution_count": 21,
   "id": "UdZ7kPckAEUQ",
   "metadata": {
    "colab": {
     "base_uri": "https://localhost:8080/"
    },
    "id": "UdZ7kPckAEUQ",
    "outputId": "805b6df4-0b58-4185-a706-941ca16a8023"
   },
   "outputs": [
    {
     "data": {
      "text/plain": [
       "array([[1., 0., 0., 0.],\n",
       "       [0., 0., 0., 0.],\n",
       "       [0., 0., 0., 0.],\n",
       "       [0., 0., 0., 0.]])"
      ]
     },
     "execution_count": 21,
     "metadata": {},
     "output_type": "execute_result"
    }
   ],
   "source": [
    "Dinf = np.zeros((len(P),len(P[0])))\n",
    "Dinf[0][0] = 1\n",
    "Dinf"
   ]
  },
  {
   "cell_type": "code",
   "execution_count": 22,
   "id": "JjMWrWdqAERp",
   "metadata": {
    "colab": {
     "base_uri": "https://localhost:8080/"
    },
    "id": "JjMWrWdqAERp",
    "outputId": "c8d8af82-1b74-4190-ef7b-5847ad6f7d29"
   },
   "outputs": [
    {
     "data": {
      "text/plain": [
       "array([[0.27860697, 0.27860697, 0.27860697, 0.27860697],\n",
       "       [0.45454545, 0.45454545, 0.45454545, 0.45454545],\n",
       "       [0.13568521, 0.13568521, 0.13568521, 0.13568521],\n",
       "       [0.13116237, 0.13116237, 0.13116237, 0.13116237]])"
      ]
     },
     "execution_count": 22,
     "metadata": {},
     "output_type": "execute_result"
    }
   ],
   "source": [
    "Pinf = aVects @ Dinf @ np.linalg.inv(aVects)\n",
    "Pinf"
   ]
  },
  {
   "cell_type": "markdown",
   "id": "TroRviQhCmTb",
   "metadata": {
    "id": "TroRviQhCmTb"
   },
   "source": [
    "Verifico (no cuenta como demostración)"
   ]
  },
  {
   "cell_type": "code",
   "execution_count": 23,
   "id": "mZ_EFa4YAEPC",
   "metadata": {
    "colab": {
     "base_uri": "https://localhost:8080/"
    },
    "id": "mZ_EFa4YAEPC",
    "outputId": "d25aecb7-ac60-4183-ee2b-a7095ef9b5b5"
   },
   "outputs": [
    {
     "name": "stdout",
     "output_type": "stream",
     "text": [
      "[[0.27860697 0.27860697 0.27860697 0.27860697]\n",
      " [0.45454545 0.45454545 0.45454545 0.45454545]\n",
      " [0.13568521 0.13568521 0.13568521 0.13568521]\n",
      " [0.13116237 0.13116237 0.13116237 0.13116237]]\n",
      "[[0.27860697 0.27860697 0.27860697 0.27860697]\n",
      " [0.45454545 0.45454545 0.45454545 0.45454545]\n",
      " [0.13568521 0.13568521 0.13568521 0.13568521]\n",
      " [0.13116237 0.13116237 0.13116237 0.13116237]]\n"
     ]
    }
   ],
   "source": [
    "for i in range(100):\n",
    "  P = P@P/sum(P@P)\n",
    "print(P)\n",
    "print(P@P)"
   ]
  },
  {
   "cell_type": "markdown",
   "id": "FRtkXpzhP-WW",
   "metadata": {
    "id": "FRtkXpzhP-WW"
   },
   "source": [
    "Ejercicio 2"
   ]
  },
  {
   "cell_type": "code",
   "execution_count": 24,
   "id": "fEKv9vVhQBx1",
   "metadata": {
    "colab": {
     "base_uri": "https://localhost:8080/"
    },
    "id": "fEKv9vVhQBx1",
    "outputId": "a584bd3b-47ab-46bc-e69b-993c8e463154"
   },
   "outputs": [
    {
     "name": "stdout",
     "output_type": "stream",
     "text": [
      "[[1.  0.  0. ]\n",
      " [2.  1.  0.5]\n",
      " [0.  0.5 1. ]]\n",
      "[[1.  0.  0. ]\n",
      " [2.  1.  0. ]\n",
      " [0.  0.5 1. ]]\n",
      "[[0.  0.  0. ]\n",
      " [0.  0.  0.5]\n",
      " [0.  0.  0. ]]\n"
     ]
    }
   ],
   "source": [
    "M = np.array([[1,0,0],[2,1,0.5],[0,0.5,1]])\n",
    "B = np.array([[1,0,0],[2,1,0],[0,0.5,1]]) # L + D\n",
    "C = M - B\n",
    "print(M)\n",
    "print(B)\n",
    "print(C)"
   ]
  },
  {
   "cell_type": "code",
   "execution_count": 25,
   "id": "Wwu4cxl4R-ek",
   "metadata": {
    "colab": {
     "base_uri": "https://localhost:8080/"
    },
    "id": "Wwu4cxl4R-ek",
    "outputId": "f8125481-0884-4fb1-904b-c7611e91e17d"
   },
   "outputs": [
    {
     "name": "stdout",
     "output_type": "stream",
     "text": [
      "[[ 1.   0.   0. ]\n",
      " [-2.   1.  -0. ]\n",
      " [ 1.  -0.5  1. ]]\n",
      "[[1. 0. 0.]\n",
      " [0. 1. 0.]\n",
      " [0. 0. 1.]]\n"
     ]
    }
   ],
   "source": [
    "Binv = np.linalg.inv(B)\n",
    "print(Binv)\n",
    "print(Binv@B)"
   ]
  },
  {
   "cell_type": "code",
   "execution_count": 26,
   "id": "oDqb1RW7RvlY",
   "metadata": {
    "id": "oDqb1RW7RvlY"
   },
   "outputs": [
    {
     "data": {
      "text/plain": [
       "array([[ 0.  ,  0.  ,  0.  ],\n",
       "       [ 0.  ,  0.  , -0.5 ],\n",
       "       [ 0.  ,  0.  ,  0.25]])"
      ]
     },
     "execution_count": 26,
     "metadata": {},
     "output_type": "execute_result"
    }
   ],
   "source": [
    "Mi = -Binv@C\n",
    "Mi"
   ]
  },
  {
   "cell_type": "code",
   "execution_count": 27,
   "id": "0m9uCC-rQBv7",
   "metadata": {
    "id": "0m9uCC-rQBv7"
   },
   "outputs": [],
   "source": [
    "aValsM = np.linalg.eigvals(Mi)"
   ]
  },
  {
   "cell_type": "code",
   "execution_count": 28,
   "id": "uso5oZi1QBtn",
   "metadata": {
    "colab": {
     "base_uri": "https://localhost:8080/"
    },
    "id": "uso5oZi1QBtn",
    "outputId": "2d610277-49a5-4fee-821a-13eed9ba3d8b"
   },
   "outputs": [
    {
     "data": {
      "text/plain": [
       "array([0.  , 0.  , 0.25])"
      ]
     },
     "execution_count": 28,
     "metadata": {},
     "output_type": "execute_result"
    }
   ],
   "source": [
    "aValsM"
   ]
  },
  {
   "cell_type": "markdown",
   "id": "Lflwiyyf4rfF",
   "metadata": {
    "id": "Lflwiyyf4rfF"
   },
   "source": [
    "Ejercicio 3"
   ]
  },
  {
   "cell_type": "markdown",
   "id": "x62Md83M_Q9P",
   "metadata": {
    "id": "x62Md83M_Q9P"
   },
   "source": [
    "a)"
   ]
  },
  {
   "cell_type": "code",
   "execution_count": 29,
   "id": "_t2ttg1g2IFb",
   "metadata": {
    "id": "_t2ttg1g2IFb"
   },
   "outputs": [],
   "source": [
    "x = np.array([0.0,1.0,2.0,3.0,4.0,5.0,6.0,7.0])\n",
    "y = np.array([0.13,0.68,1.49,1.6,1.85,1.96,2.2,2.27])"
   ]
  },
  {
   "cell_type": "code",
   "execution_count": 30,
   "id": "GGwoAChc408b",
   "metadata": {
    "colab": {
     "base_uri": "https://localhost:8080/"
    },
    "id": "GGwoAChc408b",
    "outputId": "4a9d408a-b474-40f5-a6a3-f57f4b47a233"
   },
   "outputs": [
    {
     "name": "stdout",
     "output_type": "stream",
     "text": [
      "[0. 1. 2. 3. 4. 5. 6. 7.]\n",
      "[0.13 0.68 1.49 1.6  1.85 1.96 2.2  2.27]\n"
     ]
    }
   ],
   "source": [
    "print(x)\n",
    "print(y)"
   ]
  },
  {
   "cell_type": "code",
   "execution_count": 31,
   "id": "vrCD0Fmx41qz",
   "metadata": {
    "id": "vrCD0Fmx41qz"
   },
   "outputs": [],
   "source": [
    "const = np.ones((len(x),1))\n",
    "cuad = x**2"
   ]
  },
  {
   "cell_type": "code",
   "execution_count": 32,
   "id": "mEtCJmji5Ssz",
   "metadata": {
    "colab": {
     "base_uri": "https://localhost:8080/"
    },
    "id": "mEtCJmji5Ssz",
    "outputId": "88eb6f1c-b3be-415c-9dfd-e18c4eeb6082"
   },
   "outputs": [
    {
     "data": {
      "text/plain": [
       "array([[ 1.,  0.,  0.],\n",
       "       [ 1.,  1.,  1.],\n",
       "       [ 1.,  2.,  4.],\n",
       "       [ 1.,  3.,  9.],\n",
       "       [ 1.,  4., 16.],\n",
       "       [ 1.,  5., 25.],\n",
       "       [ 1.,  6., 36.],\n",
       "       [ 1.,  7., 49.]])"
      ]
     },
     "execution_count": 32,
     "metadata": {},
     "output_type": "execute_result"
    }
   ],
   "source": [
    "Af = np.c_[const,x,cuad]\n",
    "Af"
   ]
  },
  {
   "cell_type": "code",
   "execution_count": 33,
   "id": "0bIg-bna52FB",
   "metadata": {
    "colab": {
     "base_uri": "https://localhost:8080/"
    },
    "id": "0bIg-bna52FB",
    "outputId": "454c586a-e23f-42fe-e046-aa5525bbfe9c"
   },
   "outputs": [
    {
     "data": {
      "text/plain": [
       "array([ 0.1825    ,  0.61857143, -0.04714286])"
      ]
     },
     "execution_count": 33,
     "metadata": {},
     "output_type": "execute_result"
    }
   ],
   "source": [
    "alphasF = np.linalg.solve(Af.T@Af,Af.T@y)\n",
    "alphasF"
   ]
  },
  {
   "cell_type": "code",
   "execution_count": 34,
   "id": "GJ5gPTLT6D5R",
   "metadata": {
    "id": "GJ5gPTLT6D5R"
   },
   "outputs": [],
   "source": [
    "f = lambda x : alphasF[0] + alphasF[1] * x + alphasF[2] * x**2"
   ]
  },
  {
   "cell_type": "code",
   "execution_count": 35,
   "id": "_4XCGybtNr5T",
   "metadata": {
    "colab": {
     "base_uri": "https://localhost:8080/",
     "height": 282
    },
    "id": "_4XCGybtNr5T",
    "outputId": "e2e171da-6e54-41e0-ae30-5535f3fd0d31"
   },
   "outputs": [
    {
     "data": {
      "text/plain": [
       "[<matplotlib.lines.Line2D at 0x250ebcc75b0>]"
      ]
     },
     "execution_count": 35,
     "metadata": {},
     "output_type": "execute_result"
    },
    {
     "data": {
      "image/png": "[encoded data removed]",
      "text/plain": [
       "<Figure size 432x288 with 1 Axes>"
      ]
     },
     "metadata": {
      "needs_background": "light"
     },
     "output_type": "display_data"
    }
   ],
   "source": [
    "xs = np.linspace(x[0], x[-1], 200) \n",
    "ysF = f(xs)\n",
    "\n",
    "plt.scatter(x, y)\n",
    "plt.plot(xs, ysF,\"r\")"
   ]
  },
  {
   "cell_type": "markdown",
   "id": "h3LD6HrgDwBs",
   "metadata": {
    "id": "h3LD6HrgDwBs"
   },
   "source": [
    "b)"
   ]
  },
  {
   "cell_type": "code",
   "execution_count": 36,
   "id": "hp85cwk86bZt",
   "metadata": {
    "colab": {
     "base_uri": "https://localhost:8080/"
    },
    "id": "hp85cwk86bZt",
    "outputId": "6b7db573-b0e4-48c5-be70-5a8f3e9b7b8c"
   },
   "outputs": [
    {
     "data": {
      "text/plain": [
       "array([1.13882838, 1.97387773, 4.43709552, 4.95303242, 6.35981952,\n",
       "       7.09932707, 9.0250135 , 9.67940081])"
      ]
     },
     "execution_count": 36,
     "metadata": {},
     "output_type": "execute_result"
    }
   ],
   "source": [
    "yExp = np.e**y\n",
    "yExp"
   ]
  },
  {
   "cell_type": "code",
   "execution_count": 37,
   "id": "JBK-jxSL6y1t",
   "metadata": {
    "colab": {
     "base_uri": "https://localhost:8080/"
    },
    "id": "JBK-jxSL6y1t",
    "outputId": "8514351e-26c7-42e1-8d50-de7f8a624c3a"
   },
   "outputs": [
    {
     "data": {
      "text/plain": [
       "array([[1., 0.],\n",
       "       [1., 1.],\n",
       "       [1., 2.],\n",
       "       [1., 3.],\n",
       "       [1., 4.],\n",
       "       [1., 5.],\n",
       "       [1., 6.],\n",
       "       [1., 7.]])"
      ]
     },
     "execution_count": 37,
     "metadata": {},
     "output_type": "execute_result"
    }
   ],
   "source": [
    "Ag = np.c_[const,x]\n",
    "Ag"
   ]
  },
  {
   "cell_type": "code",
   "execution_count": 38,
   "id": "mEynJYvZ7Hsx",
   "metadata": {
    "colab": {
     "base_uri": "https://localhost:8080/"
    },
    "id": "mEynJYvZ7Hsx",
    "outputId": "5b6f4abd-f1f2-42ab-c215-a9af7cfe6fdb"
   },
   "outputs": [
    {
     "data": {
      "text/plain": [
       "array([1.23191739, 1.243252  ])"
      ]
     },
     "execution_count": 38,
     "metadata": {},
     "output_type": "execute_result"
    }
   ],
   "source": [
    "alphasG = np.linalg.solve(Ag.T@Ag,Ag.T@yExp)\n",
    "alphasG"
   ]
  },
  {
   "cell_type": "code",
   "execution_count": 39,
   "id": "abzmxzn57UjY",
   "metadata": {
    "id": "abzmxzn57UjY"
   },
   "outputs": [],
   "source": [
    "g = lambda x : np.log(alphasG[0] + alphasG[1] * x)"
   ]
  },
  {
   "cell_type": "code",
   "execution_count": 40,
   "id": "3HLEdpSxNhLR",
   "metadata": {
    "colab": {
     "base_uri": "https://localhost:8080/",
     "height": 282
    },
    "id": "3HLEdpSxNhLR",
    "outputId": "58477f9a-83a1-4126-8feb-8cf0a628ebd8"
   },
   "outputs": [
    {
     "data": {
      "text/plain": [
       "[<matplotlib.lines.Line2D at 0x250ebdbf700>]"
      ]
     },
     "execution_count": 40,
     "metadata": {},
     "output_type": "execute_result"
    },
    {
     "data": {
      "image/png": "[encoded data removed]",
      "text/plain": [
       "<Figure size 432x288 with 1 Axes>"
      ]
     },
     "metadata": {
      "needs_background": "light"
     },
     "output_type": "display_data"
    }
   ],
   "source": [
    "xs = np.linspace(x[0], x[-1], 200) \n",
    "ysG = g(xs)\n",
    "\n",
    "plt.scatter(x, y)\n",
    "plt.plot(xs, ysG,\"g\")"
   ]
  },
  {
   "cell_type": "markdown",
   "id": "50bwwzrxNhze",
   "metadata": {
    "id": "50bwwzrxNhze"
   },
   "source": [
    "Las dos funciones juntas"
   ]
  },
  {
   "cell_type": "code",
   "execution_count": 41,
   "id": "X2vH7y0t7iuV",
   "metadata": {
    "colab": {
     "base_uri": "https://localhost:8080/",
     "height": 282
    },
    "id": "X2vH7y0t7iuV",
    "outputId": "385ea423-0e13-40e7-8f97-9bf8fb6200ca"
   },
   "outputs": [
    {
     "data": {
      "text/plain": [
       "[<matplotlib.lines.Line2D at 0x250ebe2acd0>]"
      ]
     },
     "execution_count": 41,
     "metadata": {},
     "output_type": "execute_result"
    },
    {
     "data": {
      "image/png": "[encoded data removed]",
      "text/plain": [
       "<Figure size 432x288 with 1 Axes>"
      ]
     },
     "metadata": {
      "needs_background": "light"
     },
     "output_type": "display_data"
    }
   ],
   "source": [
    "xs = np.linspace(x[0], x[-1], 200) \n",
    "ysF = f(xs)\n",
    "ysG = g(xs)\n",
    "\n",
    "plt.scatter(x, y)\n",
    "plt.plot(xs, ysF,\"r\") # F\n",
    "plt.plot(xs, ysG,\"g\") # G"
   ]
  },
  {
   "cell_type": "markdown",
   "id": "bpI7WfQ__SkJ",
   "metadata": {
    "id": "bpI7WfQ__SkJ"
   },
   "source": [
    "c)"
   ]
  },
  {
   "cell_type": "code",
   "execution_count": 42,
   "id": "Fez2r4lC7l_A",
   "metadata": {
    "colab": {
     "base_uri": "https://localhost:8080/"
    },
    "id": "Fez2r4lC7l_A",
    "outputId": "66cf2535-d40a-4ea1-c4f5-ecedcb528448"
   },
   "outputs": [
    {
     "name": "stdout",
     "output_type": "stream",
     "text": [
      "2.113928571428571\n",
      "2.4139415980413745\n"
     ]
    }
   ],
   "source": [
    "print(f(8))\n",
    "print(g(8))"
   ]
  },
  {
   "cell_type": "code",
   "execution_count": null,
   "id": "JUpM-Uo8V8Zn",
   "metadata": {
    "id": "JUpM-Uo8V8Zn"
   },
   "outputs": [],
   "source": []
  }
 ],
 "metadata": {
  "colab": {
   "collapsed_sections": [],
   "name": "2do Parcial ALC_Martin Acuña.ipynb",
   "provenance": []
  },
  "kernelspec": {
   "display_name": "Python 3 (ipykernel)",
   "language": "python",
   "name": "python3"
  },
  "language_info": {
   "codemirror_mode": {
    "name": "ipython",
    "version": 3
   },
   "file_extension": ".py",
   "mimetype": "text/x-python",
   "name": "python",
   "nbconvert_exporter": "python",
   "pygments_lexer": "ipython3",
   "version": "3.9.12"
  }
 },
 "nbformat": 4,
 "nbformat_minor": 5
}
