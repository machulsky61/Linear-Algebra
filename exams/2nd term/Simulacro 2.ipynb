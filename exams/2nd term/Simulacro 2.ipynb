{
 "cells": [
  {
   "cell_type": "code",
   "execution_count": 1,
   "id": "0ee0cd53",
   "metadata": {},
   "outputs": [],
   "source": [
    "import numpy as np\n",
    "import matplotlib.pyplot as plt\n",
    "import pandas as pd"
   ]
  },
  {
   "cell_type": "markdown",
   "id": "be43b649",
   "metadata": {},
   "source": [
    "Ejercicio 1: Procesos de Markov"
   ]
  },
  {
   "cell_type": "code",
   "execution_count": 2,
   "id": "69a3bb2c",
   "metadata": {},
   "outputs": [
    {
     "name": "stdout",
     "output_type": "stream",
     "text": [
      "[[0.  0.  0.  0.  0.1]\n",
      " [0.1 0.  0.1 0.1 0. ]\n",
      " [0.6 0.  0.2 0.7 0. ]\n",
      " [0.3 0.3 0.7 0.  0.3]\n",
      " [0.  0.7 0.  0.2 0.6]]\n"
     ]
    }
   ],
   "source": [
    "M = np.array([[0,0,0,0,0.1],[0.1,0,0.1,0.1,0],[0.6,0,0.2,0.7,0],[0.3,0.3,0.7,0,0.3],[0,0.7,0,0.2,0.6]])\n",
    "print(M)"
   ]
  },
  {
   "cell_type": "markdown",
   "id": "38318ffa",
   "metadata": {},
   "source": [
    "Calculamos los autovalores de $M$ para saber si existe un estado límite"
   ]
  },
  {
   "cell_type": "code",
   "execution_count": 3,
   "id": "da86fba6",
   "metadata": {},
   "outputs": [
    {
     "name": "stdout",
     "output_type": "stream",
     "text": [
      "[ 1.         -0.63989587  0.37337934 -0.03348347  0.1       ]\n"
     ]
    }
   ],
   "source": [
    "eig = np.linalg.eig(M)[0]\n",
    "print(eig)"
   ]
  },
  {
   "cell_type": "markdown",
   "id": "9fb0dcb6",
   "metadata": {},
   "source": [
    "Calculamos el estado límite de $M$. Empezamos calculando un autovector del $1$ para $M$."
   ]
  },
  {
   "cell_type": "code",
   "execution_count": 4,
   "id": "df8d676d",
   "metadata": {},
   "outputs": [
    {
     "name": "stdout",
     "output_type": "stream",
     "text": [
      "[[-0.05238026 -0.01727787 -0.20476594  0.69410125  0.54433105]\n",
      " [-0.12413132  0.0204781   0.16150973  0.34940057 -0.27216553]\n",
      " [-0.57578749  0.64332958  0.50677563 -0.32432745 -0.40824829]\n",
      " [-0.61314548 -0.7570902   0.30103426 -0.48676522 -0.40824829]\n",
      " [-0.52380255  0.11056039 -0.76455369 -0.23240915  0.54433105]]\n"
     ]
    },
    {
     "data": {
      "text/plain": [
       "True"
      ]
     },
     "execution_count": 4,
     "metadata": {},
     "output_type": "execute_result"
    }
   ],
   "source": [
    "Cbe = np.linalg.eig(M)[1]\n",
    "print(Cbe)\n",
    "w = Cbe[:,0]\n",
    "np.all(np.isclose(w,M@w))"
   ]
  },
  {
   "cell_type": "code",
   "execution_count": 5,
   "id": "95c6104e",
   "metadata": {},
   "outputs": [
    {
     "name": "stdout",
     "output_type": "stream",
     "text": [
      "[-0.05238026 -0.12413132 -0.57578749 -0.61314548 -0.52380255]\n"
     ]
    }
   ],
   "source": [
    "print(w)"
   ]
  },
  {
   "cell_type": "markdown",
   "id": "fc552aa2",
   "metadata": {},
   "source": [
    "Este $w$, ¿es un estado límite de la matriz $M$?\n",
    "\n",
    "No: porque sus coordenadas no son positivas ni suman $1$."
   ]
  },
  {
   "cell_type": "code",
   "execution_count": 6,
   "id": "88f4f94d",
   "metadata": {},
   "outputs": [
    {
     "name": "stdout",
     "output_type": "stream",
     "text": [
      "[0.02772547 0.06570412 0.30477087 0.32454488 0.27725466]\n",
      "1.0\n"
     ]
    }
   ],
   "source": [
    "w_inf = -w/np.linalg.norm(w,1)\n",
    "print(w_inf)\n",
    "print(np.linalg.norm(w_inf,1))"
   ]
  },
  {
   "cell_type": "markdown",
   "id": "efc88172",
   "metadata": {},
   "source": [
    "Esto sí es un estado límite de $M$.\n",
    "\n",
    "Ahora hagamos una simulación computacional para ver si efectivamente $w_\\inf$ es un estado límite. Esto no es necesario para resolver el ejercicio, pero nos sirve como verificación de que hicimos las cosas bien."
   ]
  },
  {
   "cell_type": "code",
   "execution_count": 7,
   "id": "7be7a300",
   "metadata": {},
   "outputs": [
    {
     "name": "stdout",
     "output_type": "stream",
     "text": [
      "Terminamos con 25 iteraciones.\n"
     ]
    },
    {
     "data": {
      "text/plain": [
       "True"
      ]
     },
     "execution_count": 7,
     "metadata": {},
     "output_type": "execute_result"
    }
   ],
   "source": [
    "x0 = np.random.rand(5)\n",
    "x0 = x0/np.linalg.norm(x0,1)\n",
    "\n",
    "def markov_test(M,x0, n_iter=500):\n",
    "    x_old = x0\n",
    "    for i in range(n_iter):\n",
    "        x_new = M@x_old\n",
    "        if np.all(np.isclose(x_new,x_old)):\n",
    "            print(\"Terminamos con\", i, \"iteraciones.\")\n",
    "            return x_new\n",
    "        x_old = x_new\n",
    "    print(\"Advertencia: cantidad máxima de iteraciones alcanzada.\")\n",
    "    return x_new\n",
    "\n",
    "x = markov_test(M,x0)\n",
    "np.all(np.isclose(x,w_inf))"
   ]
  },
  {
   "cell_type": "markdown",
   "id": "7d15411d",
   "metadata": {},
   "source": [
    "En este caso, la matriz límite $M_\\infty$ existe y va a tener a $w_\\inf$ en todas sus columnas. De nuevo, no es necesario hacer esto, pero verifiquémoslo computacionalmente."
   ]
  },
  {
   "cell_type": "code",
   "execution_count": 8,
   "id": "6aa535af",
   "metadata": {},
   "outputs": [
    {
     "name": "stdout",
     "output_type": "stream",
     "text": [
      "Terminamos con 28 iteraciones.\n",
      "[[0.02772547 0.02772546 0.02772545 0.02772549 0.02772546]\n",
      " [0.06570411 0.06570413 0.06570414 0.0657041  0.06570413]\n",
      " [0.30477063 0.304771   0.30477148 0.30477013 0.30477107]\n",
      " [0.32454516 0.32454473 0.32454417 0.32454576 0.32454465]\n",
      " [0.27725461 0.27725468 0.27725476 0.27725453 0.27725469]]\n",
      "[0.02772547 0.06570412 0.30477087 0.32454488 0.27725466]\n"
     ]
    }
   ],
   "source": [
    "def markov_limit(M,n_iter=500):\n",
    "    M_old = M.copy()\n",
    "\n",
    "    for i in range(n_iter):\n",
    "        M_next = M@M_old\n",
    "        if np.all(np.isclose(M_next,M_old)):\n",
    "            print(\"Terminamos con\", i, \"iteraciones.\")\n",
    "            return M_next\n",
    "        M_old = M_next\n",
    "    print(\"Advertencia: cantidad máxima de iteraciones alcanzada.\")\n",
    "    return M_next\n",
    "\n",
    "M_inf = markov_limit(M)\n",
    "print(M_inf)\n",
    "print(w_inf)"
   ]
  },
  {
   "cell_type": "markdown",
   "id": "9bbc40ce",
   "metadata": {},
   "source": [
    "Ejercicio 2a: determinar para qué valores de $\\alpha$ ese método iterativo converge."
   ]
  },
  {
   "cell_type": "code",
   "execution_count": 9,
   "id": "83190750",
   "metadata": {},
   "outputs": [
    {
     "name": "stdout",
     "output_type": "stream",
     "text": [
      "[[10 -1  0]\n",
      " [-1 20  0]\n",
      " [ 0  0  3]]\n"
     ]
    }
   ],
   "source": [
    "A = np.array([[10,-1,0],[-1,20,0],[0,0,3]])\n",
    "print(A)"
   ]
  },
  {
   "cell_type": "markdown",
   "id": "62328ee3",
   "metadata": {},
   "source": [
    "Este ejercicio se resuelve mayormente a mano. Acá dejo el número $x_0$ que verifica ($\\alpha\\in(0,x_0)$ si y sólo si el método iterativo propuesto converge).  "
   ]
  },
  {
   "cell_type": "code",
   "execution_count": 10,
   "id": "8e639b5f",
   "metadata": {},
   "outputs": [
    {
     "name": "stdout",
     "output_type": "stream",
     "text": [
      "1.8679182349373773\n"
     ]
    }
   ],
   "source": [
    "x0 = 20*np.sqrt(2)/(10*np.sqrt(2)+1)\n",
    "print(x0)"
   ]
  },
  {
   "cell_type": "markdown",
   "id": "30503062",
   "metadata": {},
   "source": [
    "Ejercicio 2b: encontrar matriz singular más cercana en norma-2 a $A$"
   ]
  },
  {
   "cell_type": "code",
   "execution_count": 11,
   "id": "bab007a6",
   "metadata": {},
   "outputs": [
    {
     "name": "stdout",
     "output_type": "stream",
     "text": [
      "[[101 -30   0]\n",
      " [-30 401   0]\n",
      " [  0   0   9]]\n"
     ]
    }
   ],
   "source": [
    "B = A@A\n",
    "print(B)"
   ]
  },
  {
   "cell_type": "code",
   "execution_count": 12,
   "id": "c88a838c",
   "metadata": {},
   "outputs": [
    {
     "name": "stdout",
     "output_type": "stream",
     "text": [
      "Los autovalores son:\n",
      " [ 98.02941459 403.97058541   9.        ]\n",
      "La matriz de cambio de base es:\n",
      " [[-0.99513333  0.09853762  0.        ]\n",
      " [-0.09853762 -0.99513333  0.        ]\n",
      " [ 0.          0.          1.        ]]\n"
     ]
    }
   ],
   "source": [
    "eig = np.linalg.eig(B)\n",
    "print(\"Los autovalores son:\\n\", eig[0])\n",
    "print(\"La matriz de cambio de base es:\\n\", eig[1])"
   ]
  },
  {
   "cell_type": "markdown",
   "id": "e48f7319",
   "metadata": {},
   "source": [
    "Tenemos que reordenar los VS para que estén de mayor a menor, y hacer el mismo reordenamiento con las columnas de $V$."
   ]
  },
  {
   "cell_type": "code",
   "execution_count": 13,
   "id": "c0fe0d56",
   "metadata": {},
   "outputs": [
    {
     "name": "stdout",
     "output_type": "stream",
     "text": [
      "[[20.09901951  0.          0.        ]\n",
      " [ 0.          9.90098049  0.        ]\n",
      " [ 0.          0.          3.        ]]\n",
      "[[ 0.09853762 -0.99513333  0.        ]\n",
      " [-0.99513333 -0.09853762  0.        ]\n",
      " [ 0.          0.          1.        ]]\n"
     ]
    }
   ],
   "source": [
    "valores_singulares = np.sqrt(eig[0])[[1,0,2]]\n",
    "S = np.diag(valores_singulares)\n",
    "V = ((eig[1]).T[[1,0,2]]).T\n",
    "print(S)\n",
    "print(V)"
   ]
  },
  {
   "cell_type": "markdown",
   "id": "37d24073",
   "metadata": {},
   "source": [
    "Ahora calculemos $U$."
   ]
  },
  {
   "cell_type": "code",
   "execution_count": 14,
   "id": "abc43d73",
   "metadata": {},
   "outputs": [
    {
     "name": "stdout",
     "output_type": "stream",
     "text": [
      "[[ 0.09853762 -0.99513333  0.        ]\n",
      " [-0.99513333 -0.09853762  0.        ]\n",
      " [ 0.          0.          1.        ]]\n",
      "[[ 1.00000000e+00 -4.24218662e-17  0.00000000e+00]\n",
      " [-4.24218662e-17  1.00000000e+00  0.00000000e+00]\n",
      " [ 0.00000000e+00  0.00000000e+00  1.00000000e+00]]\n",
      "[[10. -1.  0.]\n",
      " [-1. 20.  0.]\n",
      " [ 0.  0.  3.]]\n"
     ]
    }
   ],
   "source": [
    "U = np.zeros((3,3))\n",
    "for i in range(3):\n",
    "    U[:,i] = (A@V[:,i])/S[i,i]\n",
    "print(U)\n",
    "print(U@U.T)\n",
    "print(U@S@V.T)"
   ]
  },
  {
   "cell_type": "markdown",
   "id": "346616ad",
   "metadata": {},
   "source": [
    "Efectivamente vale que $U$ es ortogonal y $USV^t$ es descomposición SVD de $A$. Sólo nos queda calcular la matriz singular más cercana a $A$, que la obtenemos truncando $S$. "
   ]
  },
  {
   "cell_type": "code",
   "execution_count": 15,
   "id": "a4423f0f",
   "metadata": {},
   "outputs": [
    {
     "name": "stdout",
     "output_type": "stream",
     "text": [
      "[[20.09901951  0.          0.        ]\n",
      " [ 0.          9.90098049  0.        ]\n",
      " [ 0.          0.          0.        ]]\n"
     ]
    }
   ],
   "source": [
    "S_2 = S.copy()\n",
    "S_2[2,2]=0\n",
    "print(S_2)"
   ]
  },
  {
   "cell_type": "code",
   "execution_count": 16,
   "id": "ac2e71b6",
   "metadata": {},
   "outputs": [
    {
     "name": "stdout",
     "output_type": "stream",
     "text": [
      "[[10. -1.  0.]\n",
      " [-1. 20.  0.]\n",
      " [ 0.  0.  0.]]\n",
      "3.0\n"
     ]
    }
   ],
   "source": [
    "A_aprox = U@S_2@V.T\n",
    "print(A_aprox)\n",
    "print(np.linalg.norm(A-A_aprox,2))"
   ]
  },
  {
   "cell_type": "markdown",
   "id": "f677768d",
   "metadata": {},
   "source": [
    "Ejercicio 3"
   ]
  },
  {
   "cell_type": "code",
   "execution_count": 24,
   "id": "b2b76c5f",
   "metadata": {},
   "outputs": [
    {
     "data": {
      "text/html": [
       "<div>\n",
       "<style scoped>\n",
       "    .dataframe tbody tr th:only-of-type {\n",
       "        vertical-align: middle;\n",
       "    }\n",
       "\n",
       "    .dataframe tbody tr th {\n",
       "        vertical-align: top;\n",
       "    }\n",
       "\n",
       "    .dataframe thead th {\n",
       "        text-align: right;\n",
       "    }\n",
       "</style>\n",
       "<table border=\"1\" class=\"dataframe\">\n",
       "  <thead>\n",
       "    <tr style=\"text-align: right;\">\n",
       "      <th></th>\n",
       "      <th>Año</th>\n",
       "      <th>C14</th>\n",
       "    </tr>\n",
       "  </thead>\n",
       "  <tbody>\n",
       "    <tr>\n",
       "      <th>0</th>\n",
       "      <td>0</td>\n",
       "      <td>11510</td>\n",
       "    </tr>\n",
       "    <tr>\n",
       "      <th>1</th>\n",
       "      <td>750</td>\n",
       "      <td>10485</td>\n",
       "    </tr>\n",
       "    <tr>\n",
       "      <th>2</th>\n",
       "      <td>1530</td>\n",
       "      <td>9686</td>\n",
       "    </tr>\n",
       "    <tr>\n",
       "      <th>3</th>\n",
       "      <td>2370</td>\n",
       "      <td>8722</td>\n",
       "    </tr>\n",
       "    <tr>\n",
       "      <th>4</th>\n",
       "      <td>3230</td>\n",
       "      <td>7620</td>\n",
       "    </tr>\n",
       "    <tr>\n",
       "      <th>5</th>\n",
       "      <td>3860</td>\n",
       "      <td>7424</td>\n",
       "    </tr>\n",
       "    <tr>\n",
       "      <th>6</th>\n",
       "      <td>4570</td>\n",
       "      <td>6441</td>\n",
       "    </tr>\n",
       "    <tr>\n",
       "      <th>7</th>\n",
       "      <td>5580</td>\n",
       "      <td>5933</td>\n",
       "    </tr>\n",
       "    <tr>\n",
       "      <th>8</th>\n",
       "      <td>6340</td>\n",
       "      <td>5535</td>\n",
       "    </tr>\n",
       "    <tr>\n",
       "      <th>9</th>\n",
       "      <td>7050</td>\n",
       "      <td>5211</td>\n",
       "    </tr>\n",
       "    <tr>\n",
       "      <th>10</th>\n",
       "      <td>7740</td>\n",
       "      <td>4738</td>\n",
       "    </tr>\n",
       "    <tr>\n",
       "      <th>11</th>\n",
       "      <td>8420</td>\n",
       "      <td>4218</td>\n",
       "    </tr>\n",
       "    <tr>\n",
       "      <th>12</th>\n",
       "      <td>9130</td>\n",
       "      <td>3859</td>\n",
       "    </tr>\n",
       "    <tr>\n",
       "      <th>13</th>\n",
       "      <td>9810</td>\n",
       "      <td>3710</td>\n",
       "    </tr>\n",
       "    <tr>\n",
       "      <th>14</th>\n",
       "      <td>10590</td>\n",
       "      <td>3109</td>\n",
       "    </tr>\n",
       "    <tr>\n",
       "      <th>15</th>\n",
       "      <td>11630</td>\n",
       "      <td>2865</td>\n",
       "    </tr>\n",
       "    <tr>\n",
       "      <th>16</th>\n",
       "      <td>12460</td>\n",
       "      <td>2683</td>\n",
       "    </tr>\n",
       "    <tr>\n",
       "      <th>17</th>\n",
       "      <td>13390</td>\n",
       "      <td>2479</td>\n",
       "    </tr>\n",
       "    <tr>\n",
       "      <th>18</th>\n",
       "      <td>14050</td>\n",
       "      <td>2376</td>\n",
       "    </tr>\n",
       "  </tbody>\n",
       "</table>\n",
       "</div>"
      ],
      "text/plain": [
       "      Año    C14\n",
       "0       0  11510\n",
       "1     750  10485\n",
       "2    1530   9686\n",
       "3    2370   8722\n",
       "4    3230   7620\n",
       "5    3860   7424\n",
       "6    4570   6441\n",
       "7    5580   5933\n",
       "8    6340   5535\n",
       "9    7050   5211\n",
       "10   7740   4738\n",
       "11   8420   4218\n",
       "12   9130   3859\n",
       "13   9810   3710\n",
       "14  10590   3109\n",
       "15  11630   2865\n",
       "16  12460   2683\n",
       "17  13390   2479\n",
       "18  14050   2376"
      ]
     },
     "metadata": {},
     "output_type": "display_data"
    }
   ],
   "source": [
    "# Cargo los datos desde el archivo\n",
    "data_frame = pd.read_csv('carbono14.csv')\n",
    "display(data_frame)\n",
    "\n",
    "# Lo convierto a una matriz de numpy\n",
    "xy = data_frame.to_numpy(dtype='float')\n",
    "#display(xy)"
   ]
  },
  {
   "cell_type": "markdown",
   "id": "ecb62500",
   "metadata": {},
   "source": [
    "Ejercicio 3a: ajustamos con una recta."
   ]
  },
  {
   "cell_type": "code",
   "execution_count": 40,
   "id": "c955686c",
   "metadata": {},
   "outputs": [
    {
     "name": "stdout",
     "output_type": "stream",
     "text": [
      "[ 1.01330937e+04 -6.33394562e-01]\n"
     ]
    },
    {
     "data": {
      "text/plain": [
       "[<matplotlib.lines.Line2D at 0x27513805160>]"
      ]
     },
     "execution_count": 40,
     "metadata": {},
     "output_type": "execute_result"
    },
    {
     "data": {
      "image/png": "[encoded data removed]",
      "text/plain": [
       "<Figure size 432x288 with 1 Axes>"
      ]
     },
     "metadata": {
      "needs_background": "light"
     },
     "output_type": "display_data"
    }
   ],
   "source": [
    "x = xy[:,0]\n",
    "y = xy[:,1]\n",
    "\n",
    "ones = np.ones((len(xy),1))\n",
    "px = x\n",
    "A = np.c_[ones,px]\n",
    "c = np.linalg.solve(A.T@A,A.T@y)\n",
    "print(c)\n",
    "\n",
    "plt.scatter(x,y)\n",
    "\n",
    "#xs = np.linspace(0,14050,10)#esta mal, hay q poner valores pasando el ultimo para q se evalue uno para cada punto en y\n",
    "xs = np.linspace(0,14050,15000)\n",
    "ys = c[0]+c[1]*xs\n",
    "plt.plot(xs,ys)"
   ]
  },
  {
   "cell_type": "code",
   "execution_count": 41,
   "id": "974e8abc",
   "metadata": {},
   "outputs": [
    {
     "name": "stdout",
     "output_type": "stream",
     "text": [
      "[    0.          1561.11111111  3122.22222222  4683.33333333\n",
      "  6244.44444444  7805.55555556  9366.66666667 10927.77777778\n",
      " 12488.88888889 14050.        ]\n",
      "[10133.09365538  9144.29436707  8155.49507877  7166.69579046\n",
      "  6177.89650216  5189.09721386  4200.29792555  3211.49863725\n",
      "  2222.69934894  1233.90006064]\n"
     ]
    }
   ],
   "source": [
    "print(xs)\n",
    "print(ys)"
   ]
  },
  {
   "cell_type": "markdown",
   "id": "7277da23",
   "metadata": {},
   "source": [
    "Ejercicio 3b: repetimos con una función de la forma $a+bx^2$"
   ]
  },
  {
   "cell_type": "code",
   "execution_count": 21,
   "id": "b0a9611d",
   "metadata": {},
   "outputs": [
    {
     "name": "stdout",
     "output_type": "stream",
     "text": [
      "[ 8.32350663e+03 -3.91480264e-05]\n"
     ]
    },
    {
     "data": {
      "text/plain": [
       "[<matplotlib.lines.Line2D at 0x275121d5ca0>]"
      ]
     },
     "execution_count": 21,
     "metadata": {},
     "output_type": "execute_result"
    },
    {
     "data": {
      "image/png": "[encoded data removed]",
      "text/plain": [
       "<Figure size 432x288 with 1 Axes>"
      ]
     },
     "metadata": {
      "needs_background": "light"
     },
     "output_type": "display_data"
    }
   ],
   "source": [
    "px = x**2\n",
    "B = np.c_[ones,px]\n",
    "c = np.linalg.solve(B.T@B,B.T@y)\n",
    "print(c)\n",
    "\n",
    "plt.scatter(x,y)\n",
    "\n",
    "xs = np.linspace(0,14050,15000)\n",
    "ys = c[0]+c[1]*(xs*xs)\n",
    "plt.plot(xs,ys)"
   ]
  },
  {
   "cell_type": "markdown",
   "id": "0a579b84",
   "metadata": {},
   "source": [
    "Ejercicio 3bbonus: repetimos con una función de la forma $a+bx+cx^2$"
   ]
  },
  {
   "cell_type": "code",
   "execution_count": 22,
   "id": "bab54c78",
   "metadata": {},
   "outputs": [
    {
     "name": "stdout",
     "output_type": "stream",
     "text": [
      "[ 1.13199787e+04 -1.16619836e+00  3.79651625e-05]\n"
     ]
    },
    {
     "data": {
      "text/plain": [
       "[<matplotlib.lines.Line2D at 0x27512252490>]"
      ]
     },
     "execution_count": 22,
     "metadata": {},
     "output_type": "execute_result"
    },
    {
     "data": {
      "image/png": "[encoded data removed]",
      "text/plain": [
       "<Figure size 432x288 with 1 Axes>"
      ]
     },
     "metadata": {
      "needs_background": "light"
     },
     "output_type": "display_data"
    }
   ],
   "source": [
    "px = x**2\n",
    "BB = np.c_[ones,x,px]\n",
    "c = np.linalg.solve(BB.T@BB,BB.T@y)\n",
    "print(c)\n",
    "\n",
    "plt.scatter(x,y)\n",
    "\n",
    "xs = np.linspace(0,14050,15000)\n",
    "ys = c[0]+c[1]*xs+c[2]*(xs**2)\n",
    "plt.plot(xs,ys)"
   ]
  },
  {
   "cell_type": "markdown",
   "id": "decfea3e",
   "metadata": {},
   "source": [
    "Ejercicio 3c: repetimos con una función de la forma $ae^{bx}$"
   ]
  },
  {
   "cell_type": "code",
   "execution_count": 23,
   "id": "38e8bb03",
   "metadata": {},
   "outputs": [
    {
     "name": "stdout",
     "output_type": "stream",
     "text": [
      "[ 9.33900632e+00 -1.15622728e-04]\n"
     ]
    },
    {
     "data": {
      "text/plain": [
       "[<matplotlib.lines.Line2D at 0x275122c11c0>]"
      ]
     },
     "execution_count": 23,
     "metadata": {},
     "output_type": "execute_result"
    },
    {
     "data": {
      "image/png": "[encoded data removed]",
      "text/plain": [
       "<Figure size 432x288 with 1 Axes>"
      ]
     },
     "metadata": {
      "needs_background": "light"
     },
     "output_type": "display_data"
    }
   ],
   "source": [
    "px = x\n",
    "log_y = np.log(y)\n",
    "C = np.c_[ones,px]\n",
    "c = np.linalg.solve(C.T@C,C.T@log_y)\n",
    "print(c)\n",
    "\n",
    "c[0]=np.e**(c[0])\n",
    "\n",
    "plt.scatter(x,y)\n",
    "\n",
    "xs = np.linspace(0,14050,15000)\n",
    "ys = c[0]*np.e**(c[1]*xs)\n",
    "plt.plot(xs,ys)"
   ]
  },
  {
   "cell_type": "code",
   "execution_count": null,
   "id": "8f72e2db",
   "metadata": {},
   "outputs": [],
   "source": []
  }
 ],
 "metadata": {
  "kernelspec": {
   "display_name": "Python 3 (ipykernel)",
   "language": "python",
   "name": "python3"
  },
  "language_info": {
   "codemirror_mode": {
    "name": "ipython",
    "version": 3
   },
   "file_extension": ".py",
   "mimetype": "text/x-python",
   "name": "python",
   "nbconvert_exporter": "python",
   "pygments_lexer": "ipython3",
   "version": "3.9.12"
  }
 },
 "nbformat": 4,
 "nbformat_minor": 5
}
