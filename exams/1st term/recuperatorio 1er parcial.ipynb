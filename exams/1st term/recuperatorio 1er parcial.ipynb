{
  "cells": [
    {
      "cell_type": "code",
      "execution_count": null,
      "metadata": {
        "id": "ByfBeku6xIzU"
      },
      "outputs": [],
      "source": [
        "import numpy as np\n",
        "import scipy.linalg\n",
        "\n",
        "def row_echelon(M):\n",
        "    \"\"\" Return Row Echelon Form of matrix A \"\"\"\n",
        "    A = np.copy(M)\n",
        "    if (issubclass(A.dtype.type, np.integer)):\n",
        "        A = A.astype(float)\n",
        "    #A = M.astype(float)\n",
        "    # if matrix A has no columns or rows,\n",
        "    # it is already in REF, so we return itself\n",
        "    r, c = A.shape\n",
        "    if r == 0 or c == 0:\n",
        "        return A\n",
        "\n",
        "    # we search for non-zero element in the first column\n",
        "    for i in range(len(A)):\n",
        "        if A[i,0] != 0:\n",
        "            break\n",
        "    else:\n",
        "        # if all elements in the first column is zero,\n",
        "        # we perform REF on matrix from second column\n",
        "        B = row_echelon(A[:,1:])\n",
        "        # and then add the first zero-column back\n",
        "        return np.hstack([A[:,:1], B])\n",
        "\n",
        "    # if non-zero element happens not in the first row,\n",
        "    # we switch rows\n",
        "    if i > 0:\n",
        "        ith_row = A[i].copy()\n",
        "        A[i] = A[0]\n",
        "        A[0] = ith_row\n",
        "\n",
        "    # we divide first row by first element in it\n",
        "    A[0] = A[0] / A[0,0]\n",
        "    # we subtract all subsequent rows with first row (it has 1 now as first element)\n",
        "    # multiplied by the corresponding element in the first column\n",
        "    A[1:] -= A[0] * A[1:,0:1]\n",
        "\n",
        "    # we perform REF on matrix from second row, from second column\n",
        "    B = row_echelon(A[1:,1:])\n",
        "\n",
        "    # we add first row and first (zero) column, and return\n",
        "    return np.vstack([A[:1], np.hstack([A[1:,:1], B]) ])\n"
      ]
    },
    {
      "cell_type": "markdown",
      "metadata": {
        "id": "naE2dIphA03t"
      },
      "source": [
        "# EJ1\n"
      ]
    },
    {
      "cell_type": "code",
      "execution_count": null,
      "metadata": {
        "colab": {
          "base_uri": "https://localhost:8080/"
        },
        "id": "vOj970t6xbyh",
        "outputId": "6d3d02f3-d18f-474c-b214-14a7550e7b8e"
      },
      "outputs": [
        {
          "name": "stdout",
          "output_type": "stream",
          "text": [
            "[[ 2  1  0  0]\n",
            " [ 1  1  1 -1]\n",
            " [ 0  0 -1  1]\n",
            " [ 0  0  1 -1]]\n",
            "IM(f) =  [[ 1.   0.5  0.   0. ]\n",
            " [ 0.   1.   0.   0. ]\n",
            " [ 0.   0.   1.  -1. ]\n",
            " [ 0.   0.   0.   0. ]]\n",
            "NU(f) =  [[ 1.   0.5  0.   0. ]\n",
            " [ 0.   1.   2.  -2. ]\n",
            " [ 0.   0.   1.  -1. ]\n",
            " [ 0.   0.   0.   0. ]]\n"
          ]
        },
        {
          "data": {
            "text/plain": [
              "array([[ 0.00000000e+00],\n",
              "       [-5.28614384e-17],\n",
              "       [ 7.07106781e-01],\n",
              "       [ 7.07106781e-01]])"
            ]
          },
          "execution_count": 2,
          "metadata": {},
          "output_type": "execute_result"
        }
      ],
      "source": [
        "a = 1\n",
        "A =np.array([[2,1,0,0],[1,a,a,-1],[0,0,-a,1],[0,0,a,-1]])\n",
        "print(A)\n",
        "print(\"IM(f) = \", row_echelon(A.T))\n",
        "print(\"NU(f) = \", row_echelon(A))\n",
        "scipy.linalg.null_space(A)"
      ]
    },
    {
      "cell_type": "code",
      "execution_count": null,
      "metadata": {
        "colab": {
          "base_uri": "https://localhost:8080/"
        },
        "id": "JqiNNhYtyvj2",
        "outputId": "9c9772aa-c25f-49a0-ee6c-95f36f79f81c"
      },
      "outputs": [
        {
          "data": {
            "text/plain": [
              "array([[ 1. ,  1. ,  1. , -3. ],\n",
              "       [ 0. ,  1. ,  0.5, -1.5],\n",
              "       [ 0. ,  0. ,  0. ,  1. ]])"
            ]
          },
          "execution_count": 3,
          "metadata": {},
          "output_type": "execute_result"
        }
      ],
      "source": [
        "T=np.array([[1,1,1,-3],[1,-1,0,0],[1,-3,-1,-3]])\n",
        "row_echelon(T)"
      ]
    },
    {
      "cell_type": "code",
      "execution_count": null,
      "metadata": {
        "id": "IPCU9D7B2VoS"
      },
      "outputs": [],
      "source": [
        "S = np.array([[1,1,-2,0],[0,0,-1,1]])"
      ]
    },
    {
      "cell_type": "code",
      "execution_count": null,
      "metadata": {
        "id": "_K8EfjAd3l5r"
      },
      "outputs": [],
      "source": [
        "veo1 = np.c_[S.T,T[0]]"
      ]
    },
    {
      "cell_type": "code",
      "execution_count": null,
      "metadata": {
        "colab": {
          "base_uri": "https://localhost:8080/"
        },
        "id": "4mRQOd-54H7a",
        "outputId": "f3c37b4a-b0cb-4403-915d-a31615e51118"
      },
      "outputs": [
        {
          "data": {
            "text/plain": [
              "array([[ 1.,  1., -2.,  0.],\n",
              "       [ 0.,  0.,  1., -1.],\n",
              "       [ 0.,  0.,  0.,  0.]])"
            ]
          },
          "execution_count": 6,
          "metadata": {},
          "output_type": "execute_result"
        }
      ],
      "source": [
        "row_echelon(veo1.T)"
      ]
    },
    {
      "cell_type": "code",
      "execution_count": null,
      "metadata": {
        "colab": {
          "base_uri": "https://localhost:8080/"
        },
        "id": "VEDezvfm3wHy",
        "outputId": "66ae349a-2708-481d-fd02-1602a224088c"
      },
      "outputs": [
        {
          "data": {
            "text/plain": [
              "array([[ 1.,  1., -2.,  0.],\n",
              "       [ 0.,  1., -1., -0.],\n",
              "       [ 0.,  0.,  1., -1.]])"
            ]
          },
          "execution_count": 7,
          "metadata": {},
          "output_type": "execute_result"
        }
      ],
      "source": [
        "veo2 = np.c_[S.T,T[1]]\n",
        "row_echelon(veo2.T)"
      ]
    },
    {
      "cell_type": "code",
      "execution_count": null,
      "metadata": {
        "colab": {
          "base_uri": "https://localhost:8080/"
        },
        "id": "w67kOGHo4LEb",
        "outputId": "8f4df8f2-9248-4eeb-f555-92cb1dd39c08"
      },
      "outputs": [
        {
          "data": {
            "text/plain": [
              "array([[ 1.,  1., -2.,  0.],\n",
              "       [ 0.,  1., -1., -0.],\n",
              "       [ 0.,  0.,  1., -1.]])"
            ]
          },
          "execution_count": 8,
          "metadata": {},
          "output_type": "execute_result"
        }
      ],
      "source": [
        "veo3 = np.c_[S.T,T[2]]\n",
        "row_echelon(veo2.T)"
      ]
    },
    {
      "cell_type": "code",
      "execution_count": null,
      "metadata": {
        "colab": {
          "base_uri": "https://localhost:8080/"
        },
        "id": "bj5sYo0Z4Nkq",
        "outputId": "a99273be-ab24-4d8c-b851-f522ec8f50db"
      },
      "outputs": [
        {
          "data": {
            "text/plain": [
              "array([[ 1. ,  1. ,  1. , -3. ],\n",
              "       [ 0. ,  1. ,  0.5, -1.5],\n",
              "       [ 0. ,  0. ,  1. , -1. ],\n",
              "       [ 0. ,  0. ,  0. ,  1. ],\n",
              "       [ 0. ,  0. ,  0. ,  0. ]])"
            ]
          },
          "execution_count": 9,
          "metadata": {},
          "output_type": "execute_result"
        }
      ],
      "source": [
        "ST= np.c_[T.T,S[0]]\n",
        "ST =np.c_[ST,S[1]]\n",
        "row_echelon(ST.T) #S+T pertenece R4"
      ]
    },
    {
      "cell_type": "code",
      "execution_count": null,
      "metadata": {
        "colab": {
          "base_uri": "https://localhost:8080/"
        },
        "id": "Vbkt0OXW7MWy",
        "outputId": "f711c57c-2c31-4106-f561-c3a37434f84f"
      },
      "outputs": [
        {
          "data": {
            "text/plain": [
              "array([[ 1. ,  1. ,  1. , -3. ],\n",
              "       [ 0. ,  1. ,  0.5, -1.5],\n",
              "       [ 0. ,  0. ,  1. , -1. ],\n",
              "       [ 0. ,  0. ,  0. ,  1. ],\n",
              "       [ 0. ,  0. ,  0. ,  0. ],\n",
              "       [ 0. ,  0. ,  0. ,  0. ]])"
            ]
          },
          "execution_count": 10,
          "metadata": {},
          "output_type": "execute_result"
        }
      ],
      "source": [
        "STNU = np.c_[ST,np.array([0,0,1,1])]\n",
        "row_echelon(STNU.T)"
      ]
    },
    {
      "cell_type": "code",
      "execution_count": null,
      "metadata": {
        "id": "J0p8bBx374pb"
      },
      "outputs": [],
      "source": [
        "g = np.array([[1,1,-2,0, 2,1,0,0],[0,0,-1,1, 0,1,0,0], [1,-1,0,0, 0,-1,1,-1],[1,-3,-1,-3,0,0,0,0]])"
      ]
    },
    {
      "cell_type": "code",
      "execution_count": null,
      "metadata": {
        "colab": {
          "base_uri": "https://localhost:8080/"
        },
        "id": "OzrVF6g89wMc",
        "outputId": "3b4eeffd-369e-49bf-b4d5-d40027975a4c"
      },
      "outputs": [
        {
          "name": "stdout",
          "output_type": "stream",
          "text": [
            "[[ 1.          1.         -2.          0.          2.          1.\n",
            "   0.          0.        ]\n",
            " [ 0.          1.         -1.         -0.          1.          1.\n",
            "  -0.5         0.5       ]\n",
            " [ 0.          0.          1.         -1.         -0.         -1.\n",
            "  -0.         -0.        ]\n",
            " [ 0.          0.          0.          1.         -0.33333333 -0.\n",
            "   0.33333333 -0.33333333]]\n"
          ]
        }
      ],
      "source": [
        "print(row_echelon(g))"
      ]
    },
    {
      "cell_type": "code",
      "execution_count": null,
      "metadata": {
        "colab": {
          "base_uri": "https://localhost:8080/"
        },
        "id": "YkF0AGx59x2y",
        "outputId": "b7578b47-c9d4-4eee-9006-3d510142f865"
      },
      "outputs": [
        {
          "name": "stdout",
          "output_type": "stream",
          "text": [
            "[[ 2  1  0  0]\n",
            " [ 1  1  1 -1]\n",
            " [ 0  0 -1  1]\n",
            " [ 0  0  1 -1]]\n",
            "[[ 1 -1  0]\n",
            " [ 0  0  1]\n",
            " [ 0  1 -2]\n",
            " [ 1  0  0]]\n"
          ]
        }
      ],
      "source": [
        "a = 1\n",
        "Af =np.array([[2,1,0,0],[1,a,a,-1],[0,0,-a,1],[0,0,a,-1]])\n",
        "print(Af)\n",
        "Ah = np.array([[1,-1,0],[0,0,1],[0,1,-2],[1,0,0]])\n",
        "print(Ah)"
      ]
    },
    {
      "cell_type": "code",
      "execution_count": null,
      "metadata": {
        "colab": {
          "base_uri": "https://localhost:8080/"
        },
        "id": "2iv_j8-E_A0k",
        "outputId": "4b4c6675-9bc3-4596-9720-c9a15b67158a"
      },
      "outputs": [
        {
          "data": {
            "text/plain": [
              "array([[ 2, -2,  1],\n",
              "       [ 0,  0, -1],\n",
              "       [ 1, -1,  2],\n",
              "       [-1,  1, -2]])"
            ]
          },
          "execution_count": 14,
          "metadata": {},
          "output_type": "execute_result"
        }
      ],
      "source": [
        "AFAH= Af@Ah\n",
        "AFAH\n"
      ]
    },
    {
      "cell_type": "code",
      "execution_count": null,
      "metadata": {
        "colab": {
          "base_uri": "https://localhost:8080/"
        },
        "id": "3eiwZUc6_EVc",
        "outputId": "e5f1550d-3223-4e2c-b006-c87d70d0a0a1"
      },
      "outputs": [
        {
          "data": {
            "text/plain": [
              "array([[ 1. , -1. ,  0.5],\n",
              "       [ 0. ,  0. ,  1. ],\n",
              "       [ 0. ,  0. ,  0. ],\n",
              "       [ 0. ,  0. ,  0. ]])"
            ]
          },
          "execution_count": 15,
          "metadata": {},
          "output_type": "execute_result"
        }
      ],
      "source": [
        "row_echelon(AFAH)"
      ]
    },
    {
      "cell_type": "code",
      "execution_count": null,
      "metadata": {
        "colab": {
          "base_uri": "https://localhost:8080/"
        },
        "id": "Uw6jhkZ8_qDX",
        "outputId": "0ff4b765-d631-47e8-bf12-d6e782feee29"
      },
      "outputs": [
        {
          "data": {
            "text/plain": [
              "array([[7.07106781e-01],\n",
              "       [7.07106781e-01],\n",
              "       [1.11022302e-16]])"
            ]
          },
          "execution_count": 16,
          "metadata": {},
          "output_type": "execute_result"
        }
      ],
      "source": [
        "scipy.linalg.null_space(AFAH)"
      ]
    },
    {
      "cell_type": "markdown",
      "metadata": {
        "id": "u6ssaLnYAw9q"
      },
      "source": [
        "# EJ2\n",
        "\n",
        "\n",
        "* me falta ver que cond_2 -> inf tambien"
      ]
    },
    {
      "cell_type": "code",
      "execution_count": null,
      "metadata": {
        "colab": {
          "base_uri": "https://localhost:8080/"
        },
        "id": "6XPFkyYCAY_b",
        "outputId": "7b331f3a-be60-4090-d978-d8ef0b7e6aeb"
      },
      "outputs": [
        {
          "data": {
            "text/plain": [
              "array([[1, 2, 1],\n",
              "       [2, 3, 2],\n",
              "       [0, 1, 0]])"
            ]
          },
          "execution_count": 17,
          "metadata": {},
          "output_type": "execute_result"
        }
      ],
      "source": [
        "e = 0\n",
        "A = np.array([[1,2,1],[2,3-e,2+e],[0,1+e,e]])\n",
        "A"
      ]
    },
    {
      "cell_type": "code",
      "execution_count": null,
      "metadata": {
        "colab": {
          "base_uri": "https://localhost:8080/"
        },
        "id": "Uu5CSFr4Bjfb",
        "outputId": "af04aa03-73fc-4a34-a278-2bb1bd25443c"
      },
      "outputs": [
        {
          "name": "stdout",
          "output_type": "stream",
          "text": [
            "cond inf =  inf\n",
            "cond 2 =  3.640099130599161e+16\n"
          ]
        }
      ],
      "source": [
        "print(\"cond inf = \",np.linalg.cond(A,np.inf))\n",
        "print(\"cond 2 = \",np.linalg.cond(A,2))"
      ]
    },
    {
      "cell_type": "code",
      "execution_count": null,
      "metadata": {
        "colab": {
          "base_uri": "https://localhost:8080/"
        },
        "id": "uyTG-cAPB-qA",
        "outputId": "4ac02166-53ee-4807-bd49-e62e10ab095f"
      },
      "outputs": [
        {
          "data": {
            "text/plain": [
              "0.0"
            ]
          },
          "execution_count": 19,
          "metadata": {},
          "output_type": "execute_result"
        }
      ],
      "source": [
        "np.linalg.det(A)"
      ]
    },
    {
      "cell_type": "code",
      "execution_count": null,
      "metadata": {
        "colab": {
          "base_uri": "https://localhost:8080/"
        },
        "id": "kDPXuPOPBqIv",
        "outputId": "bb1c3fc1-9141-4865-b72d-ceb1f0a1065d"
      },
      "outputs": [
        {
          "data": {
            "text/plain": [
              "array([[ 9.99001998e+02, -4.99000999e+02, -5.00999001e+02],\n",
              "       [ 9.99000999e-01, -4.99500500e-01,  4.99500500e-01],\n",
              "       [-1.00000000e+03,  5.00000000e+02,  5.00000000e+02]])"
            ]
          },
          "execution_count": 20,
          "metadata": {},
          "output_type": "execute_result"
        }
      ],
      "source": [
        "e = 10**(-3)\n",
        "A = np.array([[1,2,1],[2,3-e,2+e],[0,1+e,e]])\n",
        "A\n",
        "np.linalg.inv(A)"
      ]
    },
    {
      "cell_type": "code",
      "execution_count": null,
      "metadata": {
        "colab": {
          "base_uri": "https://localhost:8080/"
        },
        "id": "v6X_AJEVsISF",
        "outputId": "237cd00e-73a0-4b85-c9bb-cc198d0749fa"
      },
      "outputs": [
        {
          "data": {
            "text/plain": [
              "array([0, 0, 0])"
            ]
          },
          "execution_count": 21,
          "metadata": {},
          "output_type": "execute_result"
        }
      ],
      "source": [
        "e = 0\n",
        "A = np.array([[1,2,1],[2,3-e,2+e],[0,1+e,e]])\n",
        "A@np.array([1,0,-1])"
      ]
    },
    {
      "cell_type": "code",
      "execution_count": null,
      "metadata": {
        "colab": {
          "base_uri": "https://localhost:8080/"
        },
        "id": "gL2OCm5KB8QD",
        "outputId": "1d06aae5-777a-4cac-8551-5ed5951b4fb5"
      },
      "outputs": [
        {
          "name": "stdout",
          "output_type": "stream",
          "text": [
            "[[ 1  0  0]\n",
            " [ 2  1  0]\n",
            " [ 0 -1  1]]\n",
            "[[ 1  2  1]\n",
            " [ 0 -1  0]\n",
            " [ 0  0  0]]\n"
          ]
        }
      ],
      "source": [
        "L = np.array([[1,0,0],[2 ,1,0],[0 ,-1 ,1]])\n",
        "U = np.array([[1,2,1],[0,-1-e,e],[0,0,2*e]])\n",
        "print(L)\n",
        "print(U)"
      ]
    },
    {
      "cell_type": "code",
      "execution_count": null,
      "metadata": {
        "id": "M5cfSLToHwdI"
      },
      "outputs": [],
      "source": [
        "b = np.array([0,0.1,0.1])"
      ]
    },
    {
      "cell_type": "code",
      "execution_count": null,
      "metadata": {
        "colab": {
          "base_uri": "https://localhost:8080/",
          "height": 354
        },
        "id": "reWu5n3XIvOZ",
        "outputId": "c3fa7ea8-d237-425c-992d-b56058ebd39b"
      },
      "outputs": [
        {
          "ename": "LinAlgError",
          "evalue": "ignored",
          "output_type": "error",
          "traceback": [
            "\u001b[0;31m---------------------------------------------------------------------------\u001b[0m",
            "\u001b[0;31mLinAlgError\u001b[0m                               Traceback (most recent call last)",
            "\u001b[0;32m<ipython-input-24-36718354ad3a>\u001b[0m in \u001b[0;36m<module>\u001b[0;34m()\u001b[0m\n\u001b[0;32m----> 1\u001b[0;31m \u001b[0mnp\u001b[0m\u001b[0;34m.\u001b[0m\u001b[0mlinalg\u001b[0m\u001b[0;34m.\u001b[0m\u001b[0msolve\u001b[0m\u001b[0;34m(\u001b[0m\u001b[0mA\u001b[0m\u001b[0;34m,\u001b[0m\u001b[0mb\u001b[0m\u001b[0;34m)\u001b[0m\u001b[0;34m\u001b[0m\u001b[0;34m\u001b[0m\u001b[0m\n\u001b[0m",
            "\u001b[0;32m<__array_function__ internals>\u001b[0m in \u001b[0;36msolve\u001b[0;34m(*args, **kwargs)\u001b[0m\n",
            "\u001b[0;32m/usr/local/lib/python3.7/dist-packages/numpy/linalg/linalg.py\u001b[0m in \u001b[0;36msolve\u001b[0;34m(a, b)\u001b[0m\n\u001b[1;32m    391\u001b[0m     \u001b[0msignature\u001b[0m \u001b[0;34m=\u001b[0m \u001b[0;34m'DD->D'\u001b[0m \u001b[0;32mif\u001b[0m \u001b[0misComplexType\u001b[0m\u001b[0;34m(\u001b[0m\u001b[0mt\u001b[0m\u001b[0;34m)\u001b[0m \u001b[0;32melse\u001b[0m \u001b[0;34m'dd->d'\u001b[0m\u001b[0;34m\u001b[0m\u001b[0;34m\u001b[0m\u001b[0m\n\u001b[1;32m    392\u001b[0m     \u001b[0mextobj\u001b[0m \u001b[0;34m=\u001b[0m \u001b[0mget_linalg_error_extobj\u001b[0m\u001b[0;34m(\u001b[0m\u001b[0m_raise_linalgerror_singular\u001b[0m\u001b[0;34m)\u001b[0m\u001b[0;34m\u001b[0m\u001b[0;34m\u001b[0m\u001b[0m\n\u001b[0;32m--> 393\u001b[0;31m     \u001b[0mr\u001b[0m \u001b[0;34m=\u001b[0m \u001b[0mgufunc\u001b[0m\u001b[0;34m(\u001b[0m\u001b[0ma\u001b[0m\u001b[0;34m,\u001b[0m \u001b[0mb\u001b[0m\u001b[0;34m,\u001b[0m \u001b[0msignature\u001b[0m\u001b[0;34m=\u001b[0m\u001b[0msignature\u001b[0m\u001b[0;34m,\u001b[0m \u001b[0mextobj\u001b[0m\u001b[0;34m=\u001b[0m\u001b[0mextobj\u001b[0m\u001b[0;34m)\u001b[0m\u001b[0;34m\u001b[0m\u001b[0;34m\u001b[0m\u001b[0m\n\u001b[0m\u001b[1;32m    394\u001b[0m \u001b[0;34m\u001b[0m\u001b[0m\n\u001b[1;32m    395\u001b[0m     \u001b[0;32mreturn\u001b[0m \u001b[0mwrap\u001b[0m\u001b[0;34m(\u001b[0m\u001b[0mr\u001b[0m\u001b[0;34m.\u001b[0m\u001b[0mastype\u001b[0m\u001b[0;34m(\u001b[0m\u001b[0mresult_t\u001b[0m\u001b[0;34m,\u001b[0m \u001b[0mcopy\u001b[0m\u001b[0;34m=\u001b[0m\u001b[0;32mFalse\u001b[0m\u001b[0;34m)\u001b[0m\u001b[0;34m)\u001b[0m\u001b[0;34m\u001b[0m\u001b[0;34m\u001b[0m\u001b[0m\n",
            "\u001b[0;32m/usr/local/lib/python3.7/dist-packages/numpy/linalg/linalg.py\u001b[0m in \u001b[0;36m_raise_linalgerror_singular\u001b[0;34m(err, flag)\u001b[0m\n\u001b[1;32m     86\u001b[0m \u001b[0;34m\u001b[0m\u001b[0m\n\u001b[1;32m     87\u001b[0m \u001b[0;32mdef\u001b[0m \u001b[0m_raise_linalgerror_singular\u001b[0m\u001b[0;34m(\u001b[0m\u001b[0merr\u001b[0m\u001b[0;34m,\u001b[0m \u001b[0mflag\u001b[0m\u001b[0;34m)\u001b[0m\u001b[0;34m:\u001b[0m\u001b[0;34m\u001b[0m\u001b[0;34m\u001b[0m\u001b[0m\n\u001b[0;32m---> 88\u001b[0;31m     \u001b[0;32mraise\u001b[0m \u001b[0mLinAlgError\u001b[0m\u001b[0;34m(\u001b[0m\u001b[0;34m\"Singular matrix\"\u001b[0m\u001b[0;34m)\u001b[0m\u001b[0;34m\u001b[0m\u001b[0;34m\u001b[0m\u001b[0m\n\u001b[0m\u001b[1;32m     89\u001b[0m \u001b[0;34m\u001b[0m\u001b[0m\n\u001b[1;32m     90\u001b[0m \u001b[0;32mdef\u001b[0m \u001b[0m_raise_linalgerror_nonposdef\u001b[0m\u001b[0;34m(\u001b[0m\u001b[0merr\u001b[0m\u001b[0;34m,\u001b[0m \u001b[0mflag\u001b[0m\u001b[0;34m)\u001b[0m\u001b[0;34m:\u001b[0m\u001b[0;34m\u001b[0m\u001b[0;34m\u001b[0m\u001b[0m\n",
            "\u001b[0;31mLinAlgError\u001b[0m: Singular matrix"
          ]
        }
      ],
      "source": [
        "np.linalg.solve(A,b)"
      ]
    },
    {
      "cell_type": "code",
      "execution_count": null,
      "metadata": {
        "id": "csooLvbQI1Qk"
      },
      "outputs": [],
      "source": [
        "2.001-2"
      ]
    },
    {
      "cell_type": "code",
      "execution_count": null,
      "metadata": {
        "id": "vrmXoaJlJgzg"
      },
      "outputs": [],
      "source": [
        "y = np.array([0,0.1,0.2])\n",
        "verdadero= np.array([-100,0,100])"
      ]
    },
    {
      "cell_type": "code",
      "execution_count": null,
      "metadata": {
        "id": "ZJalQmTpLIr_"
      },
      "outputs": [],
      "source": [
        "0.1/0.002"
      ]
    },
    {
      "cell_type": "code",
      "execution_count": null,
      "metadata": {
        "id": "yFzABhuZPxWC"
      },
      "outputs": [],
      "source": [
        "-1.001*2\n"
      ]
    },
    {
      "cell_type": "markdown",
      "metadata": {
        "id": "kK9mPgOsTIxK"
      },
      "source": [
        "# EJ3\n"
      ]
    },
    {
      "cell_type": "code",
      "execution_count": null,
      "metadata": {
        "id": "pf3oBat0TKKk"
      },
      "outputs": [],
      "source": [
        "def estado(A,v,k):\n",
        "  for i in range(k):\n",
        "    Av= A@v\n",
        "    v = Av / np.linalg.norm(Av,2)\n",
        "    r= (v.T@A@v)/(v.T@v)\n",
        "  return(v,r)\n",
        "  "
      ]
    },
    {
      "cell_type": "code",
      "execution_count": null,
      "metadata": {
        "colab": {
          "base_uri": "https://localhost:8080/"
        },
        "id": "xMNU6LZVTi9c",
        "outputId": "fb593b96-ca18-45b4-cecb-96a9c954019b"
      },
      "outputs": [
        {
          "data": {
            "text/plain": [
              "-323.9999999999999"
            ]
          },
          "execution_count": 26,
          "metadata": {},
          "output_type": "execute_result"
        }
      ],
      "source": [
        "A = np.array([[-6,9,3],[0,8,-2],[0,-1,7]])\n",
        "np.linalg.det(A)"
      ]
    },
    {
      "cell_type": "code",
      "execution_count": null,
      "metadata": {
        "colab": {
          "base_uri": "https://localhost:8080/"
        },
        "id": "ZDmwsPlCTrAE",
        "outputId": "8271d3d6-0a2e-41eb-f64f-0984ecae11cf"
      },
      "outputs": [
        {
          "name": "stdout",
          "output_type": "stream",
          "text": [
            "[-6.  9.  6.]\n",
            "[[ 1.          0.40824829  0.57735027]\n",
            " [ 0.          0.81649658  0.57735027]\n",
            " [ 0.         -0.40824829  0.57735027]]\n"
          ]
        }
      ],
      "source": [
        "e = np.linalg.eig(A)\n",
        "print(e[0])\n",
        "print(e[1])"
      ]
    },
    {
      "cell_type": "code",
      "execution_count": null,
      "metadata": {
        "id": "5J8UBxGqTtqa"
      },
      "outputs": [],
      "source": [
        "A - (-6)*np.eye(3)"
      ]
    },
    {
      "cell_type": "code",
      "execution_count": null,
      "metadata": {
        "colab": {
          "base_uri": "https://localhost:8080/"
        },
        "id": "gA-jSgpWVsHP",
        "outputId": "e262040d-4f6d-4357-dcf0-4011a560e105"
      },
      "outputs": [
        {
          "data": {
            "text/plain": [
              "7.999999999999998"
            ]
          },
          "execution_count": 28,
          "metadata": {},
          "output_type": "execute_result"
        }
      ],
      "source": [
        "B = np.array([[5,9,6],[-3,-7,-6],[0,0,-1]])\n",
        "np.linalg.det(B)"
      ]
    },
    {
      "cell_type": "code",
      "execution_count": null,
      "metadata": {
        "colab": {
          "base_uri": "https://localhost:8080/"
        },
        "id": "_6WC1kFkYU9U",
        "outputId": "392afb98-a3b2-4b3b-e1b9-10c302d7ad07"
      },
      "outputs": [
        {
          "name": "stdout",
          "output_type": "stream",
          "text": [
            "[ 2. -4. -1.]\n",
            "[[ 0.9486833  -0.70710678  0.66666667]\n",
            " [-0.31622777  0.70710678 -0.66666667]\n",
            " [ 0.          0.          0.33333333]]\n"
          ]
        }
      ],
      "source": [
        "e = np.linalg.eig(B)\n",
        "print(e[0])\n",
        "print(e[1])"
      ]
    },
    {
      "cell_type": "code",
      "execution_count": null,
      "metadata": {
        "colab": {
          "base_uri": "https://localhost:8080/"
        },
        "id": "6UdAgEfXYZlq",
        "outputId": "03134f99-4b97-4360-f541-b9defdce2bcd"
      },
      "outputs": [
        {
          "data": {
            "text/plain": [
              "array([[ 9.,  9.,  6.],\n",
              "       [-3., -3., -6.],\n",
              "       [ 0.,  0.,  3.]])"
            ]
          },
          "execution_count": 30,
          "metadata": {},
          "output_type": "execute_result"
        }
      ],
      "source": [
        "B - (-4)*np.eye(3)"
      ]
    },
    {
      "cell_type": "code",
      "execution_count": null,
      "metadata": {
        "colab": {
          "base_uri": "https://localhost:8080/"
        },
        "id": "B8g3hiaYZaD7",
        "outputId": "731f5bf9-9053-41ad-a8d8-9a06ee7ed8ff"
      },
      "outputs": [
        {
          "data": {
            "text/plain": [
              "(array([ 0.70710678, -0.70710678,  0.        ]), -3.9999999999999982)"
            ]
          },
          "execution_count": 32,
          "metadata": {},
          "output_type": "execute_result"
        }
      ],
      "source": [
        "alpha = 1\n",
        "v0 = np.array([-1,alpha,-2])\n",
        "\n",
        "estado(B,v0,1000)"
      ]
    },
    {
      "cell_type": "code",
      "execution_count": null,
      "metadata": {
        "colab": {
          "base_uri": "https://localhost:8080/"
        },
        "id": "-mIY_7HmiEso",
        "outputId": "9ea6096e-e137-4185-f2cd-cea84c6fe630"
      },
      "outputs": [
        {
          "data": {
            "text/plain": [
              "(array([ 0.43114846,  0.81606008, -0.38491162]), 8.86045540720657)"
            ]
          },
          "execution_count": 33,
          "metadata": {},
          "output_type": "execute_result"
        }
      ],
      "source": [
        "b0 = np.array([2,1,1])\n",
        "estado(A,b0,100)"
      ]
    }
  ],
  "metadata": {
    "colab": {
      "name": "Untitled3.ipynb",
      "provenance": []
    },
    "kernelspec": {
      "display_name": "Python 3",
      "name": "python3"
    },
    "language_info": {
      "name": "python"
    }
  },
  "nbformat": 4,
  "nbformat_minor": 0
}
