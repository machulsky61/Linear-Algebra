{
  "cells": [
    {
      "cell_type": "code",
      "execution_count": null,
      "metadata": {
        "id": "8p4svbqbUUtF"
      },
      "outputs": [],
      "source": [
        "import numpy as np\n",
        "import scipy.linalg\n",
        "import math\n",
        "def row_echelon(M):\n",
        "    \"\"\" Return Row Echelon Form of matrix A \"\"\"\n",
        "    A = np.copy(M)\n",
        "    if (issubclass(A.dtype.type, np.integer)):\n",
        "        A = A.astype(float)\n",
        "    #A = M.astype(float)\n",
        "    # if matrix A has no columns or rows,\n",
        "    # it is already in REF, so we return itself\n",
        "    r, c = A.shape\n",
        "    if r == 0 or c == 0:\n",
        "        return A\n",
        "\n",
        "    # we search for non-zero element in the first column\n",
        "    for i in range(len(A)):\n",
        "        if A[i,0] != 0:\n",
        "            break\n",
        "    else:\n",
        "        # if all elements in the first column is zero,\n",
        "        # we perform REF on matrix from second column\n",
        "        B = row_echelon(A[:,1:])\n",
        "        # and then add the first zero-column back\n",
        "        return np.hstack([A[:,:1], B])\n",
        "\n",
        "    # if non-zero element happens not in the first row,\n",
        "    # we switch rows\n",
        "    if i > 0:\n",
        "        ith_row = A[i].copy()\n",
        "        A[i] = A[0]\n",
        "        A[0] = ith_row\n",
        "\n",
        "    # we divide first row by first element in it\n",
        "    A[0] = A[0] / A[0,0]\n",
        "    # we subtract all subsequent rows with first row (it has 1 now as first element)\n",
        "    # multiplied by the corresponding element in the first column\n",
        "    A[1:] -= A[0] * A[1:,0:1]\n",
        "\n",
        "    # we perform REF on matrix from second row, from second column\n",
        "    B = row_echelon(A[1:,1:])\n",
        "\n",
        "    # we add first row and first (zero) column, and return\n",
        "    return np.vstack([A[:1], np.hstack([A[1:,:1], B]) ])"
      ]
    },
    {
      "cell_type": "markdown",
      "metadata": {
        "id": "V_UA88w8UXXP"
      },
      "source": [
        "# Primer Parcial 1C 2021\n"
      ]
    },
    {
      "cell_type": "markdown",
      "metadata": {
        "id": "eQotwHndUbWu"
      },
      "source": [
        "## EJ 1\n"
      ]
    },
    {
      "cell_type": "code",
      "execution_count": null,
      "metadata": {
        "id": "Y0IHG4TnUdjo"
      },
      "outputs": [],
      "source": [
        "##ITEM A\n",
        "A = np.array([[1,-1,0],[2,1,3],[1,0,1]])"
      ]
    },
    {
      "cell_type": "code",
      "execution_count": null,
      "metadata": {
        "colab": {
          "base_uri": "https://localhost:8080/"
        },
        "id": "0cxTqGgbHjOm",
        "outputId": "144ea368-87ba-4b1b-f569-5d41238b2d7d"
      },
      "outputs": [
        {
          "data": {
            "text/plain": [
              "array([[1.        , 2.        , 1.        ],\n",
              "       [0.        , 1.        , 0.33333333],\n",
              "       [0.        , 0.        , 0.        ]])"
            ]
          },
          "execution_count": 4,
          "metadata": {},
          "output_type": "execute_result"
        }
      ],
      "source": [
        "#im(A)\n",
        "row_echelon(A.T)"
      ]
    },
    {
      "cell_type": "code",
      "execution_count": null,
      "metadata": {
        "colab": {
          "base_uri": "https://localhost:8080/"
        },
        "id": "uoi8N2bcIIC3",
        "outputId": "1cf64522-dc5c-457f-93b9-95628767298f"
      },
      "outputs": [
        {
          "data": {
            "text/plain": [
              "array([[ 1., -1.,  0.],\n",
              "       [ 0.,  1.,  1.],\n",
              "       [ 0.,  0.,  0.]])"
            ]
          },
          "execution_count": 5,
          "metadata": {},
          "output_type": "execute_result"
        }
      ],
      "source": [
        "row_echelon(A)"
      ]
    },
    {
      "cell_type": "code",
      "execution_count": null,
      "metadata": {
        "colab": {
          "base_uri": "https://localhost:8080/"
        },
        "id": "p-BuIlyrUrGB",
        "outputId": "42b5c749-4e9b-44e7-ba46-459737ff8c05"
      },
      "outputs": [
        {
          "data": {
            "text/plain": [
              "array([[ 0.57735027],\n",
              "       [ 0.57735027],\n",
              "       [-0.57735027]])"
            ]
          },
          "execution_count": 6,
          "metadata": {},
          "output_type": "execute_result"
        }
      ],
      "source": [
        "scipy.linalg.null_space(A)"
      ]
    },
    {
      "cell_type": "code",
      "execution_count": null,
      "metadata": {
        "colab": {
          "base_uri": "https://localhost:8080/"
        },
        "id": "_37-2NUB59NK",
        "outputId": "89f86a89-20b9-42a6-e235-2519cb7802ca"
      },
      "outputs": [
        {
          "data": {
            "text/plain": [
              "array([[ 1., -1.,  0.],\n",
              "       [ 0.,  1.,  1.],\n",
              "       [ 0.,  0.,  1.],\n",
              "       [ 0.,  0.,  0.]])"
            ]
          },
          "execution_count": 7,
          "metadata": {},
          "output_type": "execute_result"
        }
      ],
      "source": [
        "P = np.array([[1,-1,0],[0,1,1],[1,2,1],[0,3,1]])\n",
        "row_echelon(P)"
      ]
    },
    {
      "cell_type": "code",
      "execution_count": null,
      "metadata": {
        "id": "pfN_R0lGEZYl"
      },
      "outputs": [],
      "source": []
    },
    {
      "cell_type": "markdown",
      "metadata": {
        "id": "ZxR7HfPX_Dc8"
      },
      "source": [
        "# Simulacro 1er Parcial 1C 2021\n"
      ]
    },
    {
      "cell_type": "markdown",
      "metadata": {
        "id": "JJ7HTEfF_K1K"
      },
      "source": [
        "## EJ1\n"
      ]
    },
    {
      "cell_type": "code",
      "execution_count": null,
      "metadata": {
        "colab": {
          "base_uri": "https://localhost:8080/"
        },
        "id": "5KD63dyieS0s",
        "outputId": "c659f2c1-cb53-4455-d1c9-9d90dc479f5f"
      },
      "outputs": [
        {
          "data": {
            "text/plain": [
              "array([[ 1.,  1., -1., -1.],\n",
              "       [ 0.,  1.,  0.,  0.],\n",
              "       [ 0.,  0.,  0.,  0.],\n",
              "       [ 0.,  0.,  0.,  0.]])"
            ]
          },
          "execution_count": 8,
          "metadata": {},
          "output_type": "execute_result"
        }
      ],
      "source": [
        "Af = np.array([[0,-1,0,-1],[1,-1,1,0],[0,1,0,1],[0,1,0,1]])\n",
        "row_echelon(Af.T)"
      ]
    },
    {
      "cell_type": "code",
      "execution_count": null,
      "metadata": {
        "colab": {
          "base_uri": "https://localhost:8080/"
        },
        "id": "BRvXMj31edvh",
        "outputId": "b7335865-feef-45ac-d564-0eed5a6e9e37"
      },
      "outputs": [
        {
          "data": {
            "text/plain": [
              "array([[ 1.,  0.,  0.,  0., -2.,  0.,  1.,  1.],\n",
              "       [ 0.,  1.,  0.,  0., -1.,  0.,  1.,  0.],\n",
              "       [ 0.,  0.,  1., -0., -2.,  1.,  1.,  1.],\n",
              "       [ 0.,  0.,  0.,  1., -2.,  1.,  1., -0.]])"
            ]
          },
          "execution_count": 9,
          "metadata": {},
          "output_type": "execute_result"
        }
      ],
      "source": [
        "M = np.array([[1,1,-1,-1, 1,-2,0,0],[0,1,0,0, -1,0,1,0],[-1,-1,0,1, 1,1,-1,-1],[-1,0,1,0, 0,1,0,0]])\n",
        "M = row_echelon(M)\n",
        "M[0] = M[0] - M[1]\n",
        "M[0] = M[0] + M[2]\n",
        "M[0] = M[0] + M[3]\n",
        "M"
      ]
    },
    {
      "cell_type": "code",
      "execution_count": null,
      "metadata": {
        "id": "wYnoyAphjo24"
      },
      "outputs": [],
      "source": [
        "def g(x1,x2,x3,x4):\n",
        "  return(np.array([-2*x1-x2-2*x3-2*x4, x3+x4, x1+x2+x3+x4, x1+x3]))"
      ]
    },
    {
      "cell_type": "code",
      "execution_count": null,
      "metadata": {
        "colab": {
          "base_uri": "https://localhost:8080/"
        },
        "id": "QsKteeRbpCkr",
        "outputId": "53b1e9da-e7a3-4042-9034-ca35178221c9"
      },
      "outputs": [
        {
          "name": "stdout",
          "output_type": "stream",
          "text": [
            "[ 1 -2  0  0]\n",
            "[-1  0  1  0]\n",
            "[ 1  1 -1 -1]\n",
            "[0 1 0 0]\n"
          ]
        }
      ],
      "source": [
        "print(g(1,1,-1,-1))\n",
        "print(g(0,1,0,0))\n",
        "print(g(-1,-1,0,1))\n",
        "print(g(-1,0,1,0))"
      ]
    },
    {
      "cell_type": "code",
      "execution_count": null,
      "metadata": {
        "colab": {
          "base_uri": "https://localhost:8080/"
        },
        "id": "RVFYAwP5_jwo",
        "outputId": "689b995f-d726-4c3f-d40b-5dd772f9b988"
      },
      "outputs": [
        {
          "name": "stdout",
          "output_type": "stream",
          "text": [
            "[]\n"
          ]
        },
        {
          "data": {
            "text/plain": [
              "array([[ 1. ,  0.5,  1. ,  1. , -0. ],\n",
              "       [ 0. ,  1. ,  0. ,  0. ,  0. ],\n",
              "       [ 0. ,  0. ,  1. ,  1. ,  0. ],\n",
              "       [ 0. ,  0. ,  0. ,  1. , -0. ]])"
            ]
          },
          "execution_count": 12,
          "metadata": {},
          "output_type": "execute_result"
        }
      ],
      "source": [
        "Ag = M[:,4:]\n",
        "NUAg = Ag.T\n",
        "print(scipy.linalg.null_space(NUAg))\n",
        "NUAg = np.c_[NUAg,np.zeros(4)]\n",
        "row_echelon(NUAg)\n"
      ]
    },
    {
      "cell_type": "code",
      "execution_count": null,
      "metadata": {
        "colab": {
          "base_uri": "https://localhost:8080/"
        },
        "id": "8RfEp7Sl_qln",
        "outputId": "cdbc71d9-cb96-4fde-9339-b2addda2996a"
      },
      "outputs": [
        {
          "name": "stdout",
          "output_type": "stream",
          "text": [
            "4\n"
          ]
        },
        {
          "data": {
            "text/plain": [
              "array([[ 1. , -0. , -0.5, -0.5],\n",
              "       [ 0. ,  1. ,  0. ,  0. ],\n",
              "       [ 0. ,  0. ,  1. , -1. ],\n",
              "       [ 0. ,  0. ,  0. ,  1. ]])"
            ]
          },
          "execution_count": 13,
          "metadata": {},
          "output_type": "execute_result"
        }
      ],
      "source": [
        "print(np.linalg.matrix_rank(Ag))\n",
        "row_echelon(Ag)"
      ]
    },
    {
      "cell_type": "markdown",
      "metadata": {
        "id": "fJMVFsCXGska"
      },
      "source": [
        "## EJ2\n"
      ]
    },
    {
      "cell_type": "code",
      "execution_count": null,
      "metadata": {
        "colab": {
          "base_uri": "https://localhost:8080/"
        },
        "id": "t3OC81ftGv8a",
        "outputId": "f6dd0014-edc6-4626-967b-9a79cc9cca68"
      },
      "outputs": [
        {
          "name": "stdout",
          "output_type": "stream",
          "text": [
            "0.0\n"
          ]
        },
        {
          "data": {
            "text/plain": [
              "array([[ 1, -1,  0,  1],\n",
              "       [-1,  1,  2, -4],\n",
              "       [ 0,  2, -1,  3],\n",
              "       [ 1,  1,  1,  0]])"
            ]
          },
          "execution_count": 14,
          "metadata": {},
          "output_type": "execute_result"
        }
      ],
      "source": [
        "a = 0\n",
        "A = np.array([[1,-1,0,1],[-1,1,2,-4],[0,2,-1,3],[1,1,1,a]])\n",
        "print(np.linalg.det(A[:2,:2]))\n",
        "A"
      ]
    },
    {
      "cell_type": "code",
      "execution_count": null,
      "metadata": {
        "colab": {
          "base_uri": "https://localhost:8080/"
        },
        "id": "SWOTCdQ_LhmM",
        "outputId": "48820f0d-5cd1-483b-8b18-b499a47d6ed7"
      },
      "outputs": [
        {
          "data": {
            "text/plain": [
              "array([[1, 0, 0, 0],\n",
              "       [0, 0, 0, 1],\n",
              "       [0, 0, 1, 0],\n",
              "       [0, 1, 0, 0]])"
            ]
          },
          "execution_count": 15,
          "metadata": {},
          "output_type": "execute_result"
        }
      ],
      "source": [
        "P = np.array([[1,0,0,0],[0,0,0,1],[0,0,1,0],[0,1,0,0]])\n",
        "P"
      ]
    },
    {
      "cell_type": "code",
      "execution_count": null,
      "metadata": {
        "colab": {
          "base_uri": "https://localhost:8080/"
        },
        "id": "NV0UWiI6LuIF",
        "outputId": "f67be737-f32a-4d51-e88f-39eeb052d83c"
      },
      "outputs": [
        {
          "data": {
            "text/plain": [
              "array([[ 1,  0,  0,  0],\n",
              "       [ 1,  1,  0,  0],\n",
              "       [ 0,  1,  1,  0],\n",
              "       [-1,  0, -1,  1]])"
            ]
          },
          "execution_count": 16,
          "metadata": {},
          "output_type": "execute_result"
        }
      ],
      "source": [
        "L = np.array([[1,0,0,0],[1,1,0,0],[0,1,1,0],[-1,0,-1,1]])\n",
        "L"
      ]
    },
    {
      "cell_type": "code",
      "execution_count": null,
      "metadata": {
        "colab": {
          "base_uri": "https://localhost:8080/"
        },
        "id": "X47GK0R6L_Mu",
        "outputId": "bf137936-76e1-4a75-fdb4-2864fa3b8784"
      },
      "outputs": [
        {
          "data": {
            "text/plain": [
              "array([[ 1, -1,  0,  1],\n",
              "       [ 0,  2,  1, -1],\n",
              "       [ 0,  0, -2,  4],\n",
              "       [ 0,  0,  0,  1]])"
            ]
          },
          "execution_count": 17,
          "metadata": {},
          "output_type": "execute_result"
        }
      ],
      "source": [
        "U = np.array([[1,-1,0,1],[0,2,1,a-1],[0,0,-2,4-a],[0,0,0,1-a]])\n",
        "U"
      ]
    },
    {
      "cell_type": "code",
      "execution_count": null,
      "metadata": {
        "colab": {
          "base_uri": "https://localhost:8080/"
        },
        "id": "E4f4PdZLMTNH",
        "outputId": "d2987868-8c57-4b7e-ac6c-a66c3aecd6c7"
      },
      "outputs": [
        {
          "name": "stdout",
          "output_type": "stream",
          "text": [
            "[[ 1 -1  0  1]\n",
            " [ 1  1  1  0]\n",
            " [ 0  2 -1  3]\n",
            " [-1  1  2 -4]]\n"
          ]
        }
      ],
      "source": [
        "print(P@A)"
      ]
    },
    {
      "cell_type": "code",
      "execution_count": null,
      "metadata": {
        "colab": {
          "base_uri": "https://localhost:8080/"
        },
        "id": "sJRqSHrCMXP5",
        "outputId": "28e14c62-a26b-4c90-dfc4-cc18ab43eb90"
      },
      "outputs": [
        {
          "name": "stdout",
          "output_type": "stream",
          "text": [
            "[[ 1 -1  0  1]\n",
            " [ 1  1  1  0]\n",
            " [ 0  2 -1  3]\n",
            " [-1  1  2 -4]]\n"
          ]
        }
      ],
      "source": [
        "print(L@U)"
      ]
    },
    {
      "cell_type": "code",
      "execution_count": null,
      "metadata": {
        "id": "zcyefzmdMexa"
      },
      "outputs": [],
      "source": []
    },
    {
      "cell_type": "markdown",
      "metadata": {
        "id": "OSGhA1259p_z"
      },
      "source": [
        "## EJ3"
      ]
    },
    {
      "cell_type": "code",
      "execution_count": null,
      "metadata": {
        "id": "OHYYJoCC9snB"
      },
      "outputs": [],
      "source": [
        "def estado(A,v,k):\n",
        "  for i in range(k):\n",
        "    Av = A@v\n",
        "    v = (Av) / np.linalg.norm(Av,2)\n",
        "    r = (np.transpose(v)@A@v) / (np.transpose(v)@v)\n",
        "    return(v,r)"
      ]
    },
    {
      "cell_type": "code",
      "execution_count": null,
      "metadata": {
        "colab": {
          "base_uri": "https://localhost:8080/"
        },
        "id": "RoSIo1XC-Krt",
        "outputId": "21a3a7e8-e468-4e2c-f151-cd94e6fa8170"
      },
      "outputs": [
        {
          "data": {
            "text/plain": [
              "(array([-2.00000000e+00, -7.21644966e-16,  1.00000000e+00]),\n",
              " array([[ 5.77350269e-01,  3.20493781e-16,  7.07106781e-01],\n",
              "        [-5.77350269e-01, -7.07106781e-01,  0.00000000e+00],\n",
              "        [-5.77350269e-01, -7.07106781e-01,  7.07106781e-01]]))"
            ]
          },
          "execution_count": 21,
          "metadata": {},
          "output_type": "execute_result"
        }
      ],
      "source": [
        "A= np.array([[-2,-3,3],[2,2,-2],[2,1,-1]])\n",
        "np.linalg.eig(A)"
      ]
    },
    {
      "cell_type": "code",
      "execution_count": null,
      "metadata": {
        "id": "5o5WRF43AMJB"
      },
      "outputs": [],
      "source": [
        "v0 = np.array([1,2,3])"
      ]
    },
    {
      "cell_type": "code",
      "execution_count": null,
      "metadata": {
        "colab": {
          "base_uri": "https://localhost:8080/"
        },
        "id": "w3_gKRjNAmlJ",
        "outputId": "af704e94-80e5-4355-a45f-c6dc50e3a082"
      },
      "outputs": [
        {
          "name": "stdout",
          "output_type": "stream",
          "text": [
            "[1 0 1]\n",
            "1.4142135623730951\n"
          ]
        }
      ],
      "source": [
        "print(A@v0)\n",
        "print(np.linalg.norm(A@v0))\n",
        "v1 = A@v0/np.linalg.norm(A@v0)"
      ]
    },
    {
      "cell_type": "code",
      "execution_count": null,
      "metadata": {
        "colab": {
          "base_uri": "https://localhost:8080/"
        },
        "id": "5Qkn7qGHAnzb",
        "outputId": "5f9a70e9-58ac-4772-9390-a377661a85e3"
      },
      "outputs": [
        {
          "name": "stdout",
          "output_type": "stream",
          "text": [
            "[0.70710678 0.         0.70710678]\n",
            "0.9999999999999999\n"
          ]
        }
      ],
      "source": [
        "print(A@v1)\n",
        "print(np.linalg.norm(A@v1,2))\n",
        "v2 = A@v1 / np.linalg.norm(A@v1,2)"
      ]
    },
    {
      "cell_type": "code",
      "execution_count": null,
      "metadata": {
        "colab": {
          "base_uri": "https://localhost:8080/"
        },
        "id": "AaxiirTMBT_C",
        "outputId": "2b5492e7-15b5-4d16-e23d-f0770bec3af9"
      },
      "outputs": [
        {
          "data": {
            "text/plain": [
              "(array([0.70710678, 0.        , 0.70710678]), 1.0)"
            ]
          },
          "execution_count": 25,
          "metadata": {},
          "output_type": "execute_result"
        }
      ],
      "source": [
        "estado(A,v0,10)"
      ]
    },
    {
      "cell_type": "code",
      "execution_count": null,
      "metadata": {
        "colab": {
          "base_uri": "https://localhost:8080/"
        },
        "id": "AMnbpKUpBpaM",
        "outputId": "915b519b-878a-466e-909c-937e2386eca5"
      },
      "outputs": [
        {
          "data": {
            "text/plain": [
              "4"
            ]
          },
          "execution_count": 26,
          "metadata": {},
          "output_type": "execute_result"
        }
      ],
      "source": [
        "v0.T@A@v0"
      ]
    },
    {
      "cell_type": "code",
      "execution_count": null,
      "metadata": {
        "colab": {
          "base_uri": "https://localhost:8080/"
        },
        "id": "j5o387W4CB0O",
        "outputId": "4237ef3d-6fed-4038-8b3b-c1693107da59"
      },
      "outputs": [
        {
          "data": {
            "text/plain": [
              "14"
            ]
          },
          "execution_count": 27,
          "metadata": {},
          "output_type": "execute_result"
        }
      ],
      "source": [
        "v0.T@v0"
      ]
    },
    {
      "cell_type": "code",
      "execution_count": null,
      "metadata": {
        "colab": {
          "base_uri": "https://localhost:8080/"
        },
        "id": "0desPKkOCGEz",
        "outputId": "493c4416-a98f-4472-d6b7-11b283d8acaf"
      },
      "outputs": [
        {
          "data": {
            "text/plain": [
              "0.9999999999999998"
            ]
          },
          "execution_count": 28,
          "metadata": {},
          "output_type": "execute_result"
        }
      ],
      "source": [
        "v1.T@A@v1"
      ]
    },
    {
      "cell_type": "code",
      "execution_count": null,
      "metadata": {
        "colab": {
          "base_uri": "https://localhost:8080/"
        },
        "id": "A2CNJppCCqIN",
        "outputId": "2aca445f-f152-4e15-bf19-6b264c8991d1"
      },
      "outputs": [
        {
          "data": {
            "text/plain": [
              "0.9999999999999998"
            ]
          },
          "execution_count": 29,
          "metadata": {},
          "output_type": "execute_result"
        }
      ],
      "source": [
        "v1.T@v1"
      ]
    },
    {
      "cell_type": "code",
      "execution_count": null,
      "metadata": {
        "id": "RgukZYsOCs45"
      },
      "outputs": [],
      "source": [
        "estado(A,v0,0)"
      ]
    },
    {
      "cell_type": "code",
      "execution_count": null,
      "metadata": {
        "colab": {
          "base_uri": "https://localhost:8080/"
        },
        "id": "4Que1QSwDTz-",
        "outputId": "678dd41c-ea2c-4fbd-81e3-0a020ab4a088"
      },
      "outputs": [
        {
          "data": {
            "text/plain": [
              "0.2857142857142857"
            ]
          },
          "execution_count": 31,
          "metadata": {},
          "output_type": "execute_result"
        }
      ],
      "source": [
        "(v0.T@A@v0)/(v0.T@v0)"
      ]
    },
    {
      "cell_type": "code",
      "execution_count": null,
      "metadata": {
        "colab": {
          "base_uri": "https://localhost:8080/"
        },
        "id": "M5GBsVJeD9_m",
        "outputId": "e1b0d50f-22e5-4f6f-ebc4-86c15844779a"
      },
      "outputs": [
        {
          "name": "stdout",
          "output_type": "stream",
          "text": [
            "[-1.  2. -2.]\n",
            "[[ 0.          0.          0.57735027]\n",
            " [-0.70710678 -0.89442719  0.57735027]\n",
            " [-0.70710678 -0.4472136   0.57735027]]\n"
          ]
        }
      ],
      "source": [
        "A = np.array([[-2,0,0],[-1,5,-6],[-1,3,-4]])\n",
        "print(np.linalg.eig(A)[0])\n",
        "print(np.linalg.eig(A)[1])\n",
        "v0 = np.array([1,4,3])"
      ]
    },
    {
      "cell_type": "code",
      "execution_count": null,
      "metadata": {
        "colab": {
          "base_uri": "https://localhost:8080/"
        },
        "id": "jubrRnpwF5-v",
        "outputId": "1fd31101-b18d-4e84-e472-1cd4382a8cf4"
      },
      "outputs": [
        {
          "name": "stdout",
          "output_type": "stream",
          "text": [
            "(array([-0.81649658,  0.40824829, -0.40824829]), -0.666666666666667)\n",
            "(array([-0.81649658,  0.40824829, -0.40824829]), -0.666666666666667)\n"
          ]
        }
      ],
      "source": [
        "print(estado(A,v0,1000))\n",
        "print(estado(A,v0,2000))"
      ]
    },
    {
      "cell_type": "code",
      "execution_count": null,
      "metadata": {
        "id": "F4npAjdJHB_H"
      },
      "outputs": [],
      "source": []
    },
    {
      "cell_type": "markdown",
      "metadata": {
        "id": "tU0sv701mmqZ"
      },
      "source": [
        "# 1er Parcial 2022"
      ]
    },
    {
      "cell_type": "markdown",
      "metadata": {
        "id": "JzL1pnpMwdO6"
      },
      "source": [
        "## EJ1\n"
      ]
    },
    {
      "cell_type": "code",
      "execution_count": null,
      "metadata": {
        "id": "ERqIeJ1Dwfi0"
      },
      "outputs": [],
      "source": [
        "v1= np.array([1,1,1,1])\n",
        "v2 = np.array([1,2,1,0])\n",
        "\n",
        "u1= v1/np.linalg.norm(v1,2)\n",
        "u2 = v2 - (np.dot(v2,u1)/(np.dot(u1,u1)))*u1\n",
        "u2 = u2/ np.linalg.norm(u2,2)"
      ]
    },
    {
      "cell_type": "code",
      "execution_count": null,
      "metadata": {
        "colab": {
          "base_uri": "https://localhost:8080/"
        },
        "id": "fjOPEKgOxBz4",
        "outputId": "e5eba331-29bc-491f-8d63-ea9b2d84a817"
      },
      "outputs": [
        {
          "data": {
            "text/plain": [
              "array([[ 0.25,  0.25,  0.25,  0.25],\n",
              "       [ 0.25,  0.75,  0.25, -0.25],\n",
              "       [ 0.25,  0.25,  0.25,  0.25],\n",
              "       [ 0.25, -0.25,  0.25,  0.75]])"
            ]
          },
          "execution_count": 57,
          "metadata": {},
          "output_type": "execute_result"
        }
      ],
      "source": [
        "U = np.c_[u1,u2]\n",
        "Af = U@np.linalg.inv(U.T@U)@U.T\n",
        "Af"
      ]
    },
    {
      "cell_type": "code",
      "execution_count": null,
      "metadata": {
        "colab": {
          "base_uri": "https://localhost:8080/"
        },
        "id": "R9Lh-4xMzPo5",
        "outputId": "e7b12b26-b193-48d9-82d3-4c79d52c1109"
      },
      "outputs": [
        {
          "data": {
            "text/plain": [
              "array([0, 0, 0, 0])"
            ]
          },
          "execution_count": 46,
          "metadata": {},
          "output_type": "execute_result"
        }
      ],
      "source": [
        "Af@np.array([-1,0,1,0])"
      ]
    },
    {
      "cell_type": "code",
      "execution_count": null,
      "metadata": {
        "colab": {
          "base_uri": "https://localhost:8080/"
        },
        "id": "7FqvfTsOzPZX",
        "outputId": "58a8e45a-0a82-4543-feb0-14dee924b0cc"
      },
      "outputs": [
        {
          "data": {
            "text/plain": [
              "array([-2,  0,  2,  2])"
            ]
          },
          "execution_count": 47,
          "metadata": {},
          "output_type": "execute_result"
        }
      ],
      "source": [
        "Af@np.array([1,1,0,1])"
      ]
    },
    {
      "cell_type": "code",
      "execution_count": null,
      "metadata": {
        "colab": {
          "base_uri": "https://localhost:8080/"
        },
        "id": "GmyU8Os80IY0",
        "outputId": "874f3aca-bf12-40b0-e245-d6318191fd60"
      },
      "outputs": [
        {
          "data": {
            "text/plain": [
              "array([0, 0, 0, 0])"
            ]
          },
          "execution_count": 48,
          "metadata": {},
          "output_type": "execute_result"
        }
      ],
      "source": [
        "Af@np.array([2,0,-2,0])"
      ]
    },
    {
      "cell_type": "code",
      "execution_count": null,
      "metadata": {
        "id": "r5ZL6JWE1kEg"
      },
      "outputs": [],
      "source": [
        "Ah = np.array([[2,4,2,0],[-2,4,2,0],[0,0,0,4]])"
      ]
    },
    {
      "cell_type": "code",
      "execution_count": null,
      "metadata": {
        "colab": {
          "base_uri": "https://localhost:8080/"
        },
        "id": "mASEQ2471j1s",
        "outputId": "79680b06-3f5a-478b-f7fa-2136abdea42f"
      },
      "outputs": [
        {
          "data": {
            "text/plain": [
              "array([[ 2.,  4.,  2.,  0.],\n",
              "       [ 1.,  3.,  1., -1.],\n",
              "       [ 1., -1.,  1.,  3.]])"
            ]
          },
          "execution_count": 62,
          "metadata": {},
          "output_type": "execute_result"
        }
      ],
      "source": [
        "hof = Ah@Af\n",
        "hof"
      ]
    },
    {
      "cell_type": "code",
      "execution_count": null,
      "metadata": {
        "colab": {
          "base_uri": "https://localhost:8080/"
        },
        "id": "P9ye1twp2neb",
        "outputId": "3273687a-a723-4ef8-d31c-f4ee9b0053e3"
      },
      "outputs": [
        {
          "data": {
            "text/plain": [
              "array([[ 1. ,  0.5,  0.5],\n",
              "       [ 0. ,  1. , -3. ],\n",
              "       [ 0. ,  0. ,  0. ],\n",
              "       [ 0. ,  0. ,  0. ]])"
            ]
          },
          "execution_count": 63,
          "metadata": {},
          "output_type": "execute_result"
        }
      ],
      "source": [
        "row_echelon(hof.T)"
      ]
    },
    {
      "cell_type": "code",
      "execution_count": null,
      "metadata": {
        "id": "hL7wM1ms2nV5"
      },
      "outputs": [],
      "source": []
    },
    {
      "cell_type": "code",
      "execution_count": null,
      "metadata": {
        "id": "HuazfSdt2nTl"
      },
      "outputs": [],
      "source": []
    },
    {
      "cell_type": "markdown",
      "metadata": {
        "id": "qlYV1Mr6EC8Q"
      },
      "source": [
        "## EJ2\n"
      ]
    },
    {
      "cell_type": "code",
      "execution_count": null,
      "metadata": {
        "colab": {
          "base_uri": "https://localhost:8080/"
        },
        "id": "NdQUdE--EIKs",
        "outputId": "4f20ef8b-5c70-472c-d999-b9cf9ac68b87"
      },
      "outputs": [
        {
          "name": "stdout",
          "output_type": "stream",
          "text": [
            "[[    1 10000 50000]\n",
            " [    1 30000 30000]\n",
            " [    1 10000 20000]]\n",
            "[[    1 10000 50000]\n",
            " [    1 30000 30000]\n",
            " [    1 10000 20000]]\n",
            "[[     1  10000  50000]\n",
            " [     0  20000 -20000]\n",
            " [     0      0 -30000]]\n"
          ]
        }
      ],
      "source": [
        "n = 10**4\n",
        "A = np.array([[1,10000,50000],[1,30000,30000],[1,10000,20000]])\n",
        "L = np.array([[1,0,0],[1,1,0],[1,0,1]])\n",
        "U = np.array([[1,10000,50000],[0,20000,-20000],[0,0,-30000]])\n",
        "print(A)\n",
        "print(L@U)\n",
        "print(U)"
      ]
    },
    {
      "cell_type": "code",
      "execution_count": null,
      "metadata": {
        "id": "DT9eTg6qJs5S"
      },
      "outputs": [],
      "source": [
        "b = np.array([20000/3,20000/3,10000/3])\n",
        "x_hat = np.array([0,0.1111,0.1111])\n",
        "x= np.array([0,1/9,1/9])"
      ]
    },
    {
      "cell_type": "code",
      "execution_count": null,
      "metadata": {
        "colab": {
          "base_uri": "https://localhost:8080/"
        },
        "id": "lBqTCfe2LOKF",
        "outputId": "c849cead-3d1d-4706-e2c4-ab3988a02cc3"
      },
      "outputs": [
        {
          "data": {
            "text/plain": [
              "array([6666.66666667, 6666.66666667, 3333.33333333])"
            ]
          },
          "execution_count": 37,
          "metadata": {},
          "output_type": "execute_result"
        }
      ],
      "source": [
        "A@x"
      ]
    },
    {
      "cell_type": "code",
      "execution_count": null,
      "metadata": {
        "colab": {
          "base_uri": "https://localhost:8080/"
        },
        "id": "g0jEEXq6LZ51",
        "outputId": "74f872ef-afd7-4cb3-9851-c24d1bc0a873"
      },
      "outputs": [
        {
          "data": {
            "text/plain": [
              "array([6666., 6666., 3333.])"
            ]
          },
          "execution_count": 38,
          "metadata": {},
          "output_type": "execute_result"
        }
      ],
      "source": [
        "A@x_hat"
      ]
    },
    {
      "cell_type": "code",
      "execution_count": null,
      "metadata": {
        "colab": {
          "base_uri": "https://localhost:8080/"
        },
        "id": "yvUVv72wS4lk",
        "outputId": "728eeb64-fc58-49cd-c567-40535d1d21c2"
      },
      "outputs": [
        {
          "data": {
            "text/plain": [
              "9.999999999990572e-05"
            ]
          },
          "execution_count": 39,
          "metadata": {},
          "output_type": "execute_result"
        }
      ],
      "source": [
        "np.linalg.norm((x_hat - x),np.inf)/np.linalg.norm(x,np.inf)\n"
      ]
    },
    {
      "cell_type": "code",
      "execution_count": null,
      "metadata": {
        "id": "Ib2Il-hnT5fe"
      },
      "outputs": [],
      "source": []
    },
    {
      "cell_type": "markdown",
      "metadata": {
        "id": "-Ey6Yx2MmsF4"
      },
      "source": [
        "## EJ 3"
      ]
    },
    {
      "cell_type": "code",
      "execution_count": null,
      "metadata": {
        "colab": {
          "base_uri": "https://localhost:8080/"
        },
        "id": "udFvZd7ZmuyG",
        "outputId": "1a7a0b37-6f7f-4ab8-a5fa-21d77e1c931d"
      },
      "outputs": [
        {
          "name": "stdout",
          "output_type": "stream",
          "text": [
            "[ 2.  1. -1.]\n",
            "[[ 1.          0.70710678  0.        ]\n",
            " [ 0.          0.          0.70710678]\n",
            " [ 0.          0.70710678 -0.70710678]]\n"
          ]
        }
      ],
      "source": [
        "A = np.array([[2,-1,-1],[0,-1,0],[0,2,1]])\n",
        "e = np.linalg.eig(A)\n",
        "print(e[0])\n",
        "print(e[1])"
      ]
    },
    {
      "cell_type": "code",
      "execution_count": null,
      "metadata": {
        "colab": {
          "base_uri": "https://localhost:8080/"
        },
        "id": "fCqLx5L_r5T7",
        "outputId": "84ab898f-8913-4264-eb95-b133a7a14f51"
      },
      "outputs": [
        {
          "name": "stdout",
          "output_type": "stream",
          "text": [
            "[-2.  1. -2.]\n",
            "[[-0.89442719  0.70710678  0.18257419]\n",
            " [ 0.          0.          0.91287093]\n",
            " [ 0.4472136  -0.70710678  0.36514837]]\n"
          ]
        }
      ],
      "source": [
        "B = np.array([[-5,3,-6],[0,-2,0],[3,-3,4]])\n",
        "e = np.linalg.eig(B)\n",
        "print(e[0])\n",
        "print(e[1])"
      ]
    },
    {
      "cell_type": "code",
      "execution_count": null,
      "metadata": {
        "colab": {
          "base_uri": "https://localhost:8080/"
        },
        "id": "dYqEQeLWvZdB",
        "outputId": "59e960b1-c4f4-4cb6-8ead-cacaff4405ee"
      },
      "outputs": [
        {
          "data": {
            "text/plain": [
              "(array([-0.70710678,  0.        ,  0.70710678]), 1.0000000000000002)"
            ]
          },
          "execution_count": 42,
          "metadata": {},
          "output_type": "execute_result"
        }
      ],
      "source": [
        "v0 = np.array([-2,0,2])\n",
        "estado(B,v0,1)"
      ]
    }
  ],
  "metadata": {
    "colab": {
      "name": "Primeros Parciales ALC.ipynb",
      "provenance": []
    },
    "kernelspec": {
      "display_name": "Python 3",
      "name": "python3"
    },
    "language_info": {
      "name": "python"
    }
  },
  "nbformat": 4,
  "nbformat_minor": 0
}
