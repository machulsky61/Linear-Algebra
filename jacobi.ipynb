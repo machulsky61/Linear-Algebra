{
 "cells": [
  {
   "cell_type": "markdown",
   "metadata": {},
   "source": [
    "# Métodos iterativos"
   ]
  },
  {
   "cell_type": "code",
   "execution_count": 1,
   "metadata": {},
   "outputs": [],
   "source": [
    "import numpy as np"
   ]
  },
  {
   "cell_type": "markdown",
   "metadata": {},
   "source": [
    "**Ejercicio 1 de la práctica:**\n",
    "\n",
    "a. Escribir un programa que implemente el método de Jacobi en forma matricial y\n",
    "otro que implemente el método de Gauss-Seidel para la\n",
    "resolución de un sistema lineal $Ax = b$ con las siguientes\n",
    "condiciones:\n",
    "- que finalice si el método se estaciona,\n",
    "- que finalice con una advertencia si se excede cierto tope de iteraciones,\n",
    "\n",
    "Sugerencia: investigar los comandos `np.tril`, `np.triu` y `np.diag`.\n",
    "\n",
    "b. Utilizar el programa para resolver el sistema\n",
    "$$ A={\\begin{bmatrix}16&3\\\\7&-11\\\\\\end{bmatrix}}, \\quad {\\displaystyle b={\\begin{bmatrix}11\\\\13\\end{bmatrix}}}.$$\n",
    "\n",
    "c. Modificar los programas utilizando `np.linalg.solve` en vez del cálculo de inversas."
   ]
  },
  {
   "cell_type": "code",
   "execution_count": 2,
   "metadata": {},
   "outputs": [],
   "source": [
    "def jacobiMat(A, b, x0, s):\n",
    "    n = np.shape(A)[0]\n",
    "    \n",
    "    x = x0\n",
    "    M = np.diag(np.diag(A))\n",
    "    N = A - M\n",
    "    for k in range(s):\n",
    "        x = -(np.linalg.inv(M) @ N) @ x + np.linalg.inv(M) @ b\n",
    "        print(x)\n",
    "    return(x)"
   ]
  },
  {
   "cell_type": "markdown",
   "metadata": {},
   "source": [
    "2. Verificar que el método de Jacobi aplicado a \n",
    "$$\n",
    "A = \\begin{pmatrix} \n",
    "1 & 2 & -2 \\\\\n",
    "1 & 1 & 1 \\\\\n",
    "2 & 2 & 1\n",
    "\\end{pmatrix}, \\quad b = \\begin{pmatrix} 3 \\\\ 6 \\\\ 11 \\end{pmatrix}\n",
    "$$\n",
    "converge en 3 pasos. \n",
    "\n",
    "¿Converge el método de Gauss-Siedel para este ejemplo?"
   ]
  },
  {
   "cell_type": "code",
   "execution_count": 8,
   "metadata": {},
   "outputs": [
    {
     "name": "stdout",
     "output_type": "stream",
     "text": [
      "[[ 1.  2. -2.]\n",
      " [ 1.  1.  1.]\n",
      " [ 2.  2.  1.]]\n",
      "[ 3.  6. 11.]\n",
      "[ 3.  6. 11.]\n",
      "[13. -8. -7.]\n",
      "[5. 0. 1.]\n"
     ]
    },
    {
     "data": {
      "text/plain": [
       "array([5., 0., 1.])"
      ]
     },
     "execution_count": 8,
     "metadata": {},
     "output_type": "execute_result"
    }
   ],
   "source": [
    "A = np.array([[1,2,-2], [1, 1, 1], [2, 2, 1]]).astype(float)\n",
    "b = np.array([3, 6, 11]).astype(float)\n",
    "print(A)\n",
    "print(b)\n",
    "jacobiMat(A,b,np.zeros(3),3)"
   ]
  },
  {
   "cell_type": "markdown",
   "metadata": {},
   "source": [
    "3. Determinar mediante una simulación si el método de Jacobi converge para \n",
    "$$\n",
    "A = \\begin{pmatrix}\n",
    "1 & 2 & 1 \\\\\n",
    "4 & 2 & 2 \\\\\n",
    "0 & 0 & 0.5 \n",
    "\\end{pmatrix},   \\quad b = \\begin{pmatrix} 7 \\\\ 20 \\\\ 2 \\end{pmatrix}$$\n",
    "y vectores $x_0$ aleatorios.\n",
    "\n",
    "Encontrar analíticamente la solución del sistema, y un vector $x_0$ para el cual el método converja, que no sea solución del sistema.\n",
    "\n"
   ]
  },
  {
   "cell_type": "code",
   "execution_count": 4,
   "metadata": {},
   "outputs": [
    {
     "name": "stdout",
     "output_type": "stream",
     "text": [
      "[[1.  2.  1. ]\n",
      " [4.  2.  2. ]\n",
      " [0.  0.  0.5]]\n",
      "[ 7. 20.  2.]\n"
     ]
    }
   ],
   "source": [
    "A = np.array([[1,2,1], [4, 2, 2], [0, 0, 0.5]]).astype(float)\n",
    "b = np.array([7, 20, 2]).astype(float)\n",
    "print(A)\n",
    "print(b)"
   ]
  },
  {
   "cell_type": "markdown",
   "metadata": {},
   "source": [
    "2. Escribir un programa que reciba una matriz $A$, un vector $b$, un vector inicial $x0$ y un natural $s$ y realice $s$ iteraciones del método de Jacobi para resolver el sistema $Ax = b$ utilizando las ecuaciones\n",
    "$$x_i^{(k)}=\\frac{b_i-\\sum_{j \\neq i} a_{ij} x_j^{(k-1)}}{a_{ii}},\\quad i=1,2,\\dots ,n.$$\n",
    "\n",
    "Verificar el programa con el ejemplo anterior."
   ]
  },
  {
   "cell_type": "code",
   "execution_count": 5,
   "metadata": {},
   "outputs": [],
   "source": [
    "def jacobiEq(A, b, x0, s):\n",
    "    n = np.shape(A)[0]\n",
    "    \n",
    "    xOld = x0\n",
    "    xNew = np.zeros(n)\n",
    "    for k in range(s):\n",
    "        for i in range(n):\n",
    "            xNew[i] = (b[i] - (sum(A[i,:]*xOld) - A[i,i] * xOld[i])) / A[i,i]\n",
    "        xOld = xNew.copy()      ## USAR SIEMPRE COPY PARA COPIAR VECTORES Y MATRICES\n",
    "    return(xNew)\n",
    "    "
   ]
  },
  {
   "cell_type": "markdown",
   "metadata": {},
   "source": [
    "4. Escribir un programa que reciba una matriz $A$, un vector $b$, un vector inicial $x0$ y un natural $s$ y realice $s$ iteraciones del método de Gauss-Seidel para resolver el sistema $Ax = b$ utilizando las ecuaciones\n",
    "$$\n",
    "{\\displaystyle x_{i}^{(k)}={\\frac {1}{a_{ii}}}\\left(b_{i}-\\sum _{j=1}^{i-1}a_{ij}x_{j}^{(k)}-\\sum _{j=i+1}^{n}a_{ij}x_{j}^{(k-1)}\\right),\\quad i=1,2,\\dots ,n.}\n",
    "$$\n"
   ]
  },
  {
   "cell_type": "code",
   "execution_count": null,
   "metadata": {},
   "outputs": [],
   "source": []
  },
  {
   "cell_type": "markdown",
   "metadata": {},
   "source": [
    "## 5. Método SOR\n",
    "\n",
    "(Ejercicio 11 de la práctica.)\n",
    "\n",
    "a. Verificar que el sistema $Ax = b$ es equivalente al sistema \n",
    "$$(D+\\omega L) x=((1-\\omega)D - \\omega U) x +\\omega b,$$\n",
    "para $\\omega \\neq 0$. \n",
    "\n",
    "b. Escribir el método SOR en la forma $x^{(k+1)} = B_{sor} x^{(k)} + c$ y verificar que la matriz del método es \n",
    "$$B(\\omega)=(D+\\omega L)^{-1}((1-\\omega)D - \\omega U).$$ \n",
    "\n",
    "Calcular el determinante de $B(\\omega)$ y probar que si el método converge, debe ser $w \\in (0, 2)$.\n",
    "\n",
    "c. Para \n",
    "$$ A={\\begin{bmatrix}16&3\\\\7&-11\\\\\\end{bmatrix}}, \\quad {\\displaystyle b={\\begin{bmatrix}11\\\\13\\end{bmatrix}}}.$$\n",
    "hallar mediante una simulación los valores para los que el método converge. Y estimar el valor para el cuál la convergencia es más rápida."
   ]
  },
  {
   "cell_type": "code",
   "execution_count": null,
   "metadata": {},
   "outputs": [],
   "source": []
  },
  {
   "cell_type": "code",
   "execution_count": null,
   "metadata": {},
   "outputs": [],
   "source": []
  },
  {
   "cell_type": "code",
   "execution_count": null,
   "metadata": {},
   "outputs": [],
   "source": []
  },
  {
   "cell_type": "code",
   "execution_count": null,
   "metadata": {},
   "outputs": [],
   "source": []
  }
 ],
 "metadata": {
  "kernelspec": {
   "display_name": "Python 3 (ipykernel)",
   "language": "python",
   "name": "python3"
  },
  "language_info": {
   "codemirror_mode": {
    "name": "ipython",
    "version": 3
   },
   "file_extension": ".py",
   "mimetype": "text/x-python",
   "name": "python",
   "nbconvert_exporter": "python",
   "pygments_lexer": "ipython3",
   "version": "3.9.12"
  }
 },
 "nbformat": 4,
 "nbformat_minor": 4
}
