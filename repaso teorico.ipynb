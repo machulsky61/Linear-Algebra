{
  "cells": [
    {
      "cell_type": "code",
      "execution_count": null,
      "metadata": {
        "id": "tJe16aiP7Tym"
      },
      "outputs": [],
      "source": [
        "import numpy as np\n",
        "import scipy.linalg\n",
        "import math\n",
        "def row_echelon(M):\n",
        "    \"\"\" Return Row Echelon Form of matrix A \"\"\"\n",
        "    A = np.copy(M)\n",
        "    if (issubclass(A.dtype.type, np.integer)):\n",
        "        A = A.astype(float)\n",
        "    #A = M.astype(float)\n",
        "    # if matrix A has no columns or rows,\n",
        "    # it is already in REF, so we return itself\n",
        "    r, c = A.shape\n",
        "    if r == 0 or c == 0:\n",
        "        return A\n",
        "\n",
        "    # we search for non-zero element in the first column\n",
        "    for i in range(len(A)):\n",
        "        if A[i,0] != 0:\n",
        "            break\n",
        "    else:\n",
        "        # if all elements in the first column is zero,\n",
        "        # we perform REF on matrix from second column\n",
        "        B = row_echelon(A[:,1:])\n",
        "        # and then add the first zero-column back\n",
        "        return np.hstack([A[:,:1], B])\n",
        "\n",
        "    # if non-zero element happens not in the first row,\n",
        "    # we switch rows\n",
        "    if i > 0:\n",
        "        ith_row = A[i].copy()\n",
        "        A[i] = A[0]\n",
        "        A[0] = ith_row\n",
        "\n",
        "    # we divide first row by first element in it\n",
        "    A[0] = A[0] / A[0,0]\n",
        "    # we subtract all subsequent rows with first row (it has 1 now as first element)\n",
        "    # multiplied by the corresponding element in the first column\n",
        "    A[1:] -= A[0] * A[1:,0:1]\n",
        "\n",
        "    # we perform REF on matrix from second row, from second column\n",
        "    B = row_echelon(A[1:,1:])\n",
        "\n",
        "    # we add first row and first (zero) column, and return\n",
        "    return np.vstack([A[:1], np.hstack([A[1:,:1], B]) ])"
      ]
    },
    {
      "cell_type": "markdown",
      "metadata": {
        "id": "MOPAz8b07Wst"
      },
      "source": [
        "#Transformaciones Lineales\n",
        "\n"
      ]
    },
    {
      "cell_type": "markdown",
      "metadata": {
        "id": "eX9Jsv0H7gQv"
      },
      "source": [
        "#Cond"
      ]
    },
    {
      "cell_type": "code",
      "execution_count": null,
      "metadata": {
        "colab": {
          "base_uri": "https://localhost:8080/"
        },
        "id": "SJ0nYjoXmIlU",
        "outputId": "b9a2a080-8541-4912-a428-a5fc1ca27f7e"
      },
      "outputs": [
        {
          "name": "stdout",
          "output_type": "stream",
          "text": [
            "[[ 0  0 -1]\n",
            " [ 2  1  0]\n",
            " [ 0 -4  2]]\n",
            "Norma 1 =  5.0\n",
            "Norma 2 =  4.602892749074813\n",
            "Norma inf =  6.0\n"
          ]
        }
      ],
      "source": [
        "B = np.array([[0,0,-1],[2,1,0],[0,-4,2]])\n",
        "print(B)\n",
        "print('Norma 1 = ', np.linalg.norm(B,1))\n",
        "print('Norma 2 = ', np.linalg.norm(B,2))\n",
        "print('Norma inf = ', np.linalg.norm(B,np.inf))"
      ]
    },
    {
      "cell_type": "code",
      "execution_count": null,
      "metadata": {
        "colab": {
          "base_uri": "https://localhost:8080/"
        },
        "id": "2eTxT2AS0ROU",
        "outputId": "d1061521-2cb2-403c-c41b-b1a6e03fa910"
      },
      "outputs": [
        {
          "name": "stdout",
          "output_type": "stream",
          "text": [
            "[21.18662166  4.07143497  0.74194337]\n"
          ]
        },
        {
          "data": {
            "text/plain": [
              "4.602892749074812"
            ]
          },
          "execution_count": 4,
          "metadata": {},
          "output_type": "execute_result"
        }
      ],
      "source": [
        "print(np.linalg.eig(B.T@B)[0])\n",
        "np.sqrt(np.linalg.eig(B.T@B)[0][0])"
      ]
    },
    {
      "cell_type": "markdown",
      "metadata": {
        "id": "KigSwCvn9asj"
      },
      "source": [
        "* Norma 1 = maximo de la suma de los modulos de los elementos de las columnas\n",
        "* Norma 2 = sqrt(max autovalor de $B^tB$)\n",
        "* Norma $∞$= maximo de la suma de los modulos de los elementos de las filas\n",
        "\n"
      ]
    },
    {
      "cell_type": "code",
      "execution_count": null,
      "metadata": {
        "colab": {
          "base_uri": "https://localhost:8080/"
        },
        "id": "sArAf4MOV1nt",
        "outputId": "6b1e8564-4070-47b0-da6e-8246902a0fc6"
      },
      "outputs": [
        {
          "name": "stdout",
          "output_type": "stream",
          "text": [
            "[[3.   0.   0.  ]\n",
            " [0.   1.25 0.75]\n",
            " [0.   0.75 1.25]]\n",
            "3.0\n",
            "[[ 0.33333333  0.          0.        ]\n",
            " [ 0.          1.25       -0.75      ]\n",
            " [ 0.         -0.75        1.25      ]]\n",
            "2.0\n",
            "cond_inf =  6.0\n"
          ]
        }
      ],
      "source": [
        "A = np.array([[3,0,0],[0,5/4,3/4],[0,3/4,5/4]])\n",
        "Ainv = np.linalg.inv(A)\n",
        "print(A)\n",
        "print(np.linalg.norm(A,np.inf))\n",
        "print(Ainv)\n",
        "print(np.linalg.norm(Ainv,np.inf))\n",
        "print('cond_inf = ' ,np.linalg.norm(A,np.inf)*np.linalg.norm(Ainv,np.inf))"
      ]
    },
    {
      "cell_type": "markdown",
      "metadata": {
        "id": "PZGphm6A8RPj"
      },
      "source": [
        "Para calcular $cond_p$ tenemos que hacer $||A||_p$ $*$ $||A^{-1}||_p$  si A es una matriz cuadrada y regular, si NO es invertible $cond(A) = +∞$\n",
        "\n",
        "Else tenemos que $cond_p = \\frac{||A||_p}{||A_s - A||_p},$ donde $A_s = A$ con el valor de $α$ propuesto\n",
        "\n",
        "* en numpy tenemos np.linalg.cond(A, p)"
      ]
    },
    {
      "cell_type": "code",
      "execution_count": null,
      "metadata": {
        "colab": {
          "base_uri": "https://localhost:8080/"
        },
        "id": "SVcJSspc_Cqv",
        "outputId": "eec0bdc7-c57f-4461-a7f4-ed916b52761e"
      },
      "outputs": [
        {
          "name": "stdout",
          "output_type": "stream",
          "text": [
            "16.22927858185058\n"
          ]
        },
        {
          "data": {
            "text/plain": [
              "21.0"
            ]
          },
          "execution_count": 6,
          "metadata": {},
          "output_type": "execute_result"
        }
      ],
      "source": [
        "P = np.array([[3,1,2],[1,2,4],[2,1,1]])\n",
        "print(np.linalg.norm(P,2)*np.linalg.norm(np.linalg.inv(P),2))\n",
        "np.linalg.cond(P,1)"
      ]
    },
    {
      "cell_type": "code",
      "execution_count": null,
      "metadata": {
        "colab": {
          "base_uri": "https://localhost:8080/"
        },
        "id": "PkIlL1nZ_bNe",
        "outputId": "ccdf3d6e-82ce-4f00-f835-d3dc16f77247"
      },
      "outputs": [
        {
          "name": "stdout",
          "output_type": "stream",
          "text": [
            "606.0606060606054\n",
            "180900.00000022075\n"
          ]
        }
      ],
      "source": [
        "e = 0.01\n",
        "A= np.array([[1,1,1],[1,0,e],[1,0,e**2]])\n",
        "B = np.array([[1,0,1+e],[2,3,4],[1-e,0,1]])\n",
        "print(np.linalg.cond(A,np.inf))\n",
        "print(np.linalg.cond(B,np.inf))"
      ]
    },
    {
      "cell_type": "code",
      "execution_count": null,
      "metadata": {
        "id": "N44z1BosSOrI"
      },
      "outputs": [],
      "source": [
        "n = 10**4\n",
        "A = np.array([[1, n, 5*n],[1, 3*n, 3*n],[1, n, 2*n]])\n",
        "B = np.array([(2*n)/3, (2*n)/3, n/3])\n",
        "x = np.array([0,1/9,1/9])"
      ]
    },
    {
      "cell_type": "code",
      "execution_count": null,
      "metadata": {
        "colab": {
          "base_uri": "https://localhost:8080/"
        },
        "id": "IKmNZ5xvW6KA",
        "outputId": "12aeea40-b3cc-4e71-dea4-db7cae92a1d5"
      },
      "outputs": [
        {
          "data": {
            "text/plain": [
              "array([2.27373675e-13, 1.11111111e-01, 1.11111111e-01])"
            ]
          },
          "execution_count": 9,
          "metadata": {},
          "output_type": "execute_result"
        }
      ],
      "source": [
        "X = np.linalg.solve(A,B)\n",
        "X"
      ]
    },
    {
      "cell_type": "code",
      "execution_count": null,
      "metadata": {
        "colab": {
          "base_uri": "https://localhost:8080/"
        },
        "id": "T8O9apn1XocI",
        "outputId": "40dd9537-0c6f-40e0-ad8c-49b2fe7b3d7d"
      },
      "outputs": [
        {
          "data": {
            "text/plain": [
              "2.0463630789890885e-12"
            ]
          },
          "execution_count": 10,
          "metadata": {},
          "output_type": "execute_result"
        }
      ],
      "source": [
        "np.linalg.norm(X-x,np.inf)/np.linalg.norm(x,np.inf)"
      ]
    },
    {
      "cell_type": "code",
      "execution_count": null,
      "metadata": {
        "colab": {
          "base_uri": "https://localhost:8080/"
        },
        "id": "ROHs8eAwXqrl",
        "outputId": "274a5ba9-941b-46a5-977b-f0a139a58164"
      },
      "outputs": [
        {
          "name": "stdout",
          "output_type": "stream",
          "text": [
            "[0.5 0.5 0.5 0.5] [ 0.          0.70710678  0.         -0.70710678]\n"
          ]
        }
      ],
      "source": [
        "v1 = np.array([1,1,1,1])\n",
        "v2 = np.array([1,2,1,0])\n",
        "v3 = np.array([0,0,1,3])\n",
        "\n",
        "u1 = v1/np.linalg.norm(v1,2)\n",
        "\n",
        "u2 = v2 - (np.dot(v2,u1) / np.dot(u1,u1))*u1\n",
        "u2 = u2/np.linalg.norm(u2)\n",
        "\n",
        "#u3 = v3 - ((np.dot(v3,u2) / np.dot(u2,u2))*u2) - ((np.dot(v3,u1) / np.dot(u1,u1))*u1)\n",
        "\n",
        "print(u1,u2)"
      ]
    },
    {
      "cell_type": "markdown",
      "metadata": {
        "id": "rBNWu5VdO2ky"
      },
      "source": [
        "Para ortonormalizar bases debo usar Gram-Schimidt\n",
        "* Partiendo de una **base** de vectores $v_k$ de un espacio $V = (v_1,v_2,v_3,...,v_k)$\n",
        "* $u_k = v_k - \\sum^{k-1}_{j=1} \\frac{<v_k,u_j>}{<u_j,u_j>}u_j$\n",
        "* $u_k = \\frac{u_k}{||u_k||}$ es decir, normalizo $u_k$\n",
        "\n",
        "\n",
        "La idea atras de esto es ir restando las proyecciones de $v_k$ en todos los $u_n$ anteriores $u_k$"
      ]
    },
    {
      "cell_type": "code",
      "execution_count": null,
      "metadata": {
        "colab": {
          "base_uri": "https://localhost:8080/"
        },
        "id": "zpwXX75bHH9x",
        "outputId": "9a61e359-b785-4ae3-aaa7-cef89151a0f7"
      },
      "outputs": [
        {
          "name": "stdout",
          "output_type": "stream",
          "text": [
            "[[ 0.5         0.        ]\n",
            " [ 0.5         0.70710678]\n",
            " [ 0.5         0.        ]\n",
            " [ 0.5        -0.70710678]]\n"
          ]
        },
        {
          "data": {
            "text/plain": [
              "array([[ 0.25,  0.25,  0.25,  0.25],\n",
              "       [ 0.25,  0.75,  0.25, -0.25],\n",
              "       [ 0.25,  0.25,  0.25,  0.25],\n",
              "       [ 0.25, -0.25,  0.25,  0.75]])"
            ]
          },
          "execution_count": 25,
          "metadata": {},
          "output_type": "execute_result"
        }
      ],
      "source": [
        "S = np.c_[u1,u2]\n",
        "print(S)\n",
        "P = S@np.linalg.inv(S.T@S)@S.T\n",
        "P"
      ]
    },
    {
      "cell_type": "markdown",
      "metadata": {
        "id": "GihV5ytQRIWU"
      },
      "source": [
        "Para hacer la matriz de proyeccion $P$ debo usar:\n",
        "* $P = U(U^tU)^{-1}U^t$\n",
        "\n",
        "La formula de la proyeccion de $v$ en $P$ es:\n",
        "* $w = Pv$"
      ]
    },
    {
      "cell_type": "code",
      "execution_count": null,
      "metadata": {
        "colab": {
          "base_uri": "https://localhost:8080/"
        },
        "id": "x61sltnkrnXz",
        "outputId": "1922c06b-fa4a-4f2e-df70-a93b66744edc"
      },
      "outputs": [
        {
          "data": {
            "text/plain": [
              "array([[ 1, -1,  0,  1],\n",
              "       [-1,  0, -2,  0],\n",
              "       [ 0,  1,  1, -1],\n",
              "       [ 3,  1,  2, -1]])"
            ]
          },
          "execution_count": 13,
          "metadata": {},
          "output_type": "execute_result"
        }
      ],
      "source": [
        "A = np.array([[1,-1,0,1],[-1,0,-2,0],[0,1,1,-1],[3,1,2,-1]])\n",
        "A"
      ]
    },
    {
      "cell_type": "code",
      "execution_count": null,
      "metadata": {
        "colab": {
          "base_uri": "https://localhost:8080/"
        },
        "id": "ECtn49f6s4e4",
        "outputId": "185b01cd-67d3-40d9-963a-7a7810465da3"
      },
      "outputs": [
        {
          "data": {
            "text/plain": [
              "1.4706498512606065e+18"
            ]
          },
          "execution_count": 14,
          "metadata": {},
          "output_type": "execute_result"
        }
      ],
      "source": [
        "np.linalg.cond(A)"
      ]
    },
    {
      "cell_type": "code",
      "execution_count": null,
      "metadata": {
        "colab": {
          "base_uri": "https://localhost:8080/"
        },
        "id": "5Tm2ebuQs8d4",
        "outputId": "e5ed60dd-9230-4725-9637-0b956d9861d5"
      },
      "outputs": [
        {
          "name": "stdout",
          "output_type": "stream",
          "text": [
            "[[ 1 -1  0  1]\n",
            " [-1  0 -2  0]\n",
            " [ 0  1  1 -1]\n",
            " [ 3  1  2 -1]]\n"
          ]
        },
        {
          "data": {
            "text/plain": [
              "array([[ 1, -1,  0,  1],\n",
              "       [-1,  0, -2,  0],\n",
              "       [ 0,  1,  1, -1],\n",
              "       [ 3,  1,  2, -1]])"
            ]
          },
          "execution_count": 15,
          "metadata": {},
          "output_type": "execute_result"
        }
      ],
      "source": [
        "L = np.array([[1,0,0,0],[-1,1,0,0],[0,-1,1,0],[3,-4,6,1]])\n",
        "U = np.array([[1,-1,0,1],[0,-1,-2,1],[0,0,-1,0],[0,0,0,0]])\n",
        "\n",
        "print(A)\n",
        "L@U"
      ]
    },
    {
      "cell_type": "code",
      "execution_count": null,
      "metadata": {
        "colab": {
          "base_uri": "https://localhost:8080/"
        },
        "id": "ZABsxKpTwr0Y",
        "outputId": "fc711848-a1c5-450d-9728-a51d49f7493d"
      },
      "outputs": [
        {
          "data": {
            "text/plain": [
              "array([[ 1., -1.,  0.,  1.],\n",
              "       [ 0.,  1.,  2., -1.],\n",
              "       [ 0.,  0.,  1., -0.],\n",
              "       [ 0.,  0.,  0.,  0.]])"
            ]
          },
          "execution_count": 16,
          "metadata": {},
          "output_type": "execute_result"
        }
      ],
      "source": [
        "V = row_echelon(A)\n",
        "V"
      ]
    },
    {
      "cell_type": "code",
      "execution_count": null,
      "metadata": {
        "id": "-AgngT5PxtnR"
      },
      "outputs": [],
      "source": [
        "v1 = np.array([1,-1,0,1])\n",
        "v2 = np.array([0,1,2,-1])\n",
        "v3 = np.array([0,0,1,0])"
      ]
    },
    {
      "cell_type": "code",
      "execution_count": null,
      "metadata": {
        "colab": {
          "base_uri": "https://localhost:8080/"
        },
        "id": "EQe7MVID5Wkj",
        "outputId": "050e53b8-1256-4d13-a603-af8e1531a131"
      },
      "outputs": [
        {
          "data": {
            "text/plain": [
              "array([ 0.57735027, -0.57735027,  0.        ,  0.57735027])"
            ]
          },
          "execution_count": 18,
          "metadata": {},
          "output_type": "execute_result"
        }
      ],
      "source": [
        "u1 = v1/ np.linalg.norm(v1)\n",
        "u1"
      ]
    },
    {
      "cell_type": "code",
      "execution_count": null,
      "metadata": {
        "colab": {
          "base_uri": "https://localhost:8080/"
        },
        "id": "2HcA26dd5hpo",
        "outputId": "e07ef2c2-846a-4b63-8597-d457faac1ffe"
      },
      "outputs": [
        {
          "data": {
            "text/plain": [
              "array([ 0.3086067 ,  0.15430335,  0.9258201 , -0.15430335])"
            ]
          },
          "execution_count": 19,
          "metadata": {},
          "output_type": "execute_result"
        }
      ],
      "source": [
        "u2 = v2 - (np.dot(v2,u1) / np.dot(u1,u1))*u1\n",
        "u2 = u2 / np.linalg.norm(u2)\n",
        "u2"
      ]
    },
    {
      "cell_type": "code",
      "execution_count": null,
      "metadata": {
        "colab": {
          "base_uri": "https://localhost:8080/"
        },
        "id": "l6ruVCmm5qwb",
        "outputId": "6518ae5a-a8b2-4306-986f-0fe56f2683cb"
      },
      "outputs": [
        {
          "data": {
            "text/plain": [
              "array([-0.75592895, -0.37796447,  0.37796447,  0.37796447])"
            ]
          },
          "execution_count": 20,
          "metadata": {},
          "output_type": "execute_result"
        }
      ],
      "source": [
        "u3 = v3 - (np.dot(v3,u2)/np.dot(u2,u2))*u2 - (np.dot(v3,u1)/np.dot(u1,u1))*u1\n",
        "u3 = u3 / np.linalg.norm(u3)\n",
        "u3"
      ]
    },
    {
      "cell_type": "code",
      "execution_count": null,
      "metadata": {
        "colab": {
          "base_uri": "https://localhost:8080/"
        },
        "id": "vyC51L--78ai",
        "outputId": "bc5efb72-e41b-42f4-f473-6eafaa18c79a"
      },
      "outputs": [
        {
          "data": {
            "text/plain": [
              "array([[ 0.57735027,  0.3086067 , -0.75592895],\n",
              "       [-0.57735027,  0.15430335, -0.37796447],\n",
              "       [ 0.        ,  0.9258201 ,  0.37796447],\n",
              "       [ 0.57735027, -0.15430335,  0.37796447]])"
            ]
          },
          "execution_count": 21,
          "metadata": {},
          "output_type": "execute_result"
        }
      ],
      "source": [
        "U = np.c_[u1,u2,u3]\n",
        "U"
      ]
    },
    {
      "cell_type": "code",
      "execution_count": null,
      "metadata": {
        "colab": {
          "base_uri": "https://localhost:8080/"
        },
        "id": "KzxKF2GV83P9",
        "outputId": "981bbb4a-d8a6-4c51-90e4-b71e737b5055"
      },
      "outputs": [
        {
          "name": "stdout",
          "output_type": "stream",
          "text": [
            "[[ 1.00000000e+00 -2.89333048e-17 -2.78943369e-17  2.89333048e-17]\n",
            " [-5.19483958e-19  5.00000000e-01 -1.39471684e-17 -5.00000000e-01]\n",
            " [-5.49916673e-17 -1.32889232e-17  1.00000000e+00  1.32889232e-17]\n",
            " [ 5.19483958e-19 -5.00000000e-01  1.39471684e-17  5.00000000e-01]]\n"
          ]
        }
      ],
      "source": [
        "P = U@np.linalg.inv(U.T@U)@U.T\n",
        "print(P)"
      ]
    },
    {
      "cell_type": "code",
      "execution_count": null,
      "metadata": {
        "colab": {
          "base_uri": "https://localhost:8080/"
        },
        "id": "pbRNbdw38-ep",
        "outputId": "6f160304-a5d1-4dda-aa95-cb42fe031b56"
      },
      "outputs": [
        {
          "name": "stdout",
          "output_type": "stream",
          "text": [
            "en nu(g) =  [0. 0. 0. 0.]\n",
            "en nu(g)ortogonal =  [-5.78666096e-17  1.00000000e+00 -2.65778464e-17 -1.00000000e+00]\n"
          ]
        }
      ],
      "source": [
        "print('en nu(g) = ', P@np.array([0,1,0,1]))\n",
        "print('en nu(g)ortogonal = ', P@np.array([0,1,0,-1]))"
      ]
    }
  ],
  "metadata": {
    "colab": {
      "name": "Ejercicios sueltos// repaso teorico.ipynb",
      "provenance": []
    },
    "kernelspec": {
      "display_name": "Python 3",
      "name": "python3"
    },
    "language_info": {
      "name": "python"
    }
  },
  "nbformat": 4,
  "nbformat_minor": 0
}
