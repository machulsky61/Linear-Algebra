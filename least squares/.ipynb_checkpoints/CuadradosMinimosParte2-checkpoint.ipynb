{
 "cells": [
  {
   "cell_type": "code",
   "execution_count": 10,
   "metadata": {},
   "outputs": [],
   "source": [
    "import numpy as np\n",
    "import matplotlib.pyplot as plt\n",
    "import pandas as pd"
   ]
  },
  {
   "cell_type": "markdown",
   "metadata": {},
   "source": [
    "# 1) Cuadrados mínimos e interpolación\n",
    "\n",
    "La siguiente tabla muestra el peso de un niño en función de la edad:\n",
    "\n",
    "| x | 1  | 2  | 4 | 6 |\n",
    "|---|----|----|---|---|\n",
    "| y | 10 | 12 | 17| 20 |\n",
    "\n",
    "1. Hallar los coeficientes de la recta $r_1(x) = c_0 + c_1 x$ que mejor aproxima los datos en el sentido de cuadrados mínimos.\n",
    "2. Hallar los coeficientes de la recta $r_2(x) = d_0 x$ que mejor aproxima los datos en el sentido de cuadrados mínimos.\n",
    "3. Hallar el polinomio de grado 3, $p(x) = e_0 + e_1 x + e_2 x^2 + e_3 x^3$, que mejor aproxima los datos en el sentido de cuadrados mínimos.\n",
    "\n",
    "Graficar en cada caso los datos originales y la función obtenida.\n",
    "\n",
    "Calcular en cada caso el error cuadrático \n",
    "$$\\sum_{i=1}^4 (y_i - f(x_i))^2$$\n",
    "donde $f$ es la función obtenida en cada caso. ¿Coinciden los valores obtenidos con lo esperado?"
   ]
  },
  {
   "cell_type": "code",
   "execution_count": 1,
   "metadata": {},
   "outputs": [],
   "source": [
    "x = np.array([1,2,4,6])\n",
    "y = np.array([10, 12, 17, 20])"
   ]
  },
  {
   "attachments": {
    "image.png": {
     "image/png": "[encoded data removed]"
    }
   },
   "cell_type": "markdown",
   "metadata": {},
   "source": [
    "# 2) Cancha de fútbol\n",
    "La altura de una cancha de futbol en un corte transversal describe una parábola.\n",
    "\n",
    "![image.png](attachment:image.png)"
   ]
  },
  {
   "cell_type": "markdown",
   "metadata": {},
   "source": [
    "Se mide la altura en ciertos puntos y se obtienen los siguientes valores:\n",
    "\n",
    "| x | 10  | 35  | 40 | 50 | 65 |\n",
    "|---|----|----|---|---|---|\n",
    "| y | 0.20 | 0.37 | 0.36| 0.3 | 0.1 |\n",
    "\n",
    "1. Hallar los coeficientes de la parábola $p(x) = c_0 + c_1 x + c_2 x^2$ que mejor aproxima los datos en el sentido de cuadrados mínimos.\n",
    "2. Sabiendo que la cancha tiene 70m de ancho y que la altura en los bordes es de 0m, que función utilizaría para ajustar los datos aprovechando esta información. Hallar los coeficientes de dicha función por mínimos cuadrados.\n",
    "\n",
    "Graficar los datos y las funciones obtenidas. Calcular la suma los errores cuadráticos. ¿En cuál caso se obtiene un error cuadrático menor? ¿Cuál función utilizarían para construir una cancha?   "
   ]
  },
  {
   "cell_type": "code",
   "execution_count": 6,
   "metadata": {},
   "outputs": [],
   "source": [
    "x = np.array([10, 35, 40, 50, 65])\n",
    "y = np.array([0.2, 0.37, 0.36, 0.3, 0.1])"
   ]
  },
  {
   "cell_type": "markdown",
   "metadata": {},
   "source": [
    "# 3) Regresión linear múltiple\n",
    "\n",
    "Queremos ver si es posible obtener una buena estimación de las exportaciones totales de Argentina conociendo solo las exportaciones de algunas variables.\n",
    "\n",
    "1. Leer el archivo exportaciones.csv\n",
    "2. Tomando \n",
    "\n",
    "\n",
    "- x0 = exportación agropecuarias\n",
    "- x1 = exportación industriales\n",
    "- x2 = exportación de caucho\n",
    "- y = exportación total\n",
    "\n",
    "ajustar por mínimos cuadrados los coeficientes de un modelo\n",
    "$$ y = c_0 x_0 + c_1 x_1 + c_2 x_2. $$\n",
    "\n",
    "Calcular la norma-2 del vector de errores. ¿Se ha obtenido una buena estimación?"
   ]
  },
  {
   "cell_type": "code",
   "execution_count": 17,
   "metadata": {},
   "outputs": [
    {
     "data": {
      "text/html": [
       "<div>\n",
       "<style scoped>\n",
       "    .dataframe tbody tr th:only-of-type {\n",
       "        vertical-align: middle;\n",
       "    }\n",
       "\n",
       "    .dataframe tbody tr th {\n",
       "        vertical-align: top;\n",
       "    }\n",
       "\n",
       "    .dataframe thead th {\n",
       "        text-align: right;\n",
       "    }\n",
       "</style>\n",
       "<table border=\"1\" class=\"dataframe\">\n",
       "  <thead>\n",
       "    <tr style=\"text-align: right;\">\n",
       "      <th></th>\n",
       "      <th>ano</th>\n",
       "      <th>EXPO_TOT_2004</th>\n",
       "      <th>EXPO_AGROP_2004</th>\n",
       "      <th>EXPO_INDUST_2004</th>\n",
       "      <th>EXPO_CAUCHO_2004</th>\n",
       "    </tr>\n",
       "  </thead>\n",
       "  <tbody>\n",
       "    <tr>\n",
       "      <th>0</th>\n",
       "      <td>1966</td>\n",
       "      <td>6333634.22</td>\n",
       "      <td>5675922.71</td>\n",
       "      <td>657711.52</td>\n",
       "      <td>2077.04</td>\n",
       "    </tr>\n",
       "    <tr>\n",
       "      <th>1</th>\n",
       "      <td>1967</td>\n",
       "      <td>5835217.42</td>\n",
       "      <td>5254582.56</td>\n",
       "      <td>580634.86</td>\n",
       "      <td>4467.94</td>\n",
       "    </tr>\n",
       "    <tr>\n",
       "      <th>2</th>\n",
       "      <td>1968</td>\n",
       "      <td>4558947.98</td>\n",
       "      <td>3685459.82</td>\n",
       "      <td>873488.16</td>\n",
       "      <td>10769.84</td>\n",
       "    </tr>\n",
       "    <tr>\n",
       "      <th>3</th>\n",
       "      <td>1969</td>\n",
       "      <td>5175646.33</td>\n",
       "      <td>4350920.16</td>\n",
       "      <td>824726.17</td>\n",
       "      <td>24872.42</td>\n",
       "    </tr>\n",
       "    <tr>\n",
       "      <th>4</th>\n",
       "      <td>1970</td>\n",
       "      <td>4184635.10</td>\n",
       "      <td>3341704.72</td>\n",
       "      <td>842930.38</td>\n",
       "      <td>21749.05</td>\n",
       "    </tr>\n",
       "    <tr>\n",
       "      <th>5</th>\n",
       "      <td>1971</td>\n",
       "      <td>4322811.98</td>\n",
       "      <td>3394203.42</td>\n",
       "      <td>928608.56</td>\n",
       "      <td>13193.28</td>\n",
       "    </tr>\n",
       "    <tr>\n",
       "      <th>6</th>\n",
       "      <td>1972</td>\n",
       "      <td>4298510.74</td>\n",
       "      <td>3289516.91</td>\n",
       "      <td>1008993.83</td>\n",
       "      <td>16712.47</td>\n",
       "    </tr>\n",
       "    <tr>\n",
       "      <th>7</th>\n",
       "      <td>1973</td>\n",
       "      <td>5016985.22</td>\n",
       "      <td>3408794.66</td>\n",
       "      <td>1608190.56</td>\n",
       "      <td>26719.03</td>\n",
       "    </tr>\n",
       "  </tbody>\n",
       "</table>\n",
       "</div>"
      ],
      "text/plain": [
       "    ano  EXPO_TOT_2004  EXPO_AGROP_2004  EXPO_INDUST_2004  EXPO_CAUCHO_2004\n",
       "0  1966     6333634.22       5675922.71         657711.52           2077.04\n",
       "1  1967     5835217.42       5254582.56         580634.86           4467.94\n",
       "2  1968     4558947.98       3685459.82         873488.16          10769.84\n",
       "3  1969     5175646.33       4350920.16         824726.17          24872.42\n",
       "4  1970     4184635.10       3341704.72         842930.38          21749.05\n",
       "5  1971     4322811.98       3394203.42         928608.56          13193.28\n",
       "6  1972     4298510.74       3289516.91        1008993.83          16712.47\n",
       "7  1973     5016985.22       3408794.66        1608190.56          26719.03"
      ]
     },
     "metadata": {},
     "output_type": "display_data"
    },
    {
     "data": {
      "text/plain": [
       "array([[1.96600000e+03, 6.33363422e+06, 5.67592271e+06, 6.57711520e+05,\n",
       "        2.07704000e+03],\n",
       "       [1.96700000e+03, 5.83521742e+06, 5.25458256e+06, 5.80634860e+05,\n",
       "        4.46794000e+03],\n",
       "       [1.96800000e+03, 4.55894798e+06, 3.68545982e+06, 8.73488160e+05,\n",
       "        1.07698400e+04],\n",
       "       [1.96900000e+03, 5.17564633e+06, 4.35092016e+06, 8.24726170e+05,\n",
       "        2.48724200e+04],\n",
       "       [1.97000000e+03, 4.18463510e+06, 3.34170472e+06, 8.42930380e+05,\n",
       "        2.17490500e+04],\n",
       "       [1.97100000e+03, 4.32281198e+06, 3.39420342e+06, 9.28608560e+05,\n",
       "        1.31932800e+04],\n",
       "       [1.97200000e+03, 4.29851074e+06, 3.28951691e+06, 1.00899383e+06,\n",
       "        1.67124700e+04],\n",
       "       [1.97300000e+03, 5.01698522e+06, 3.40879466e+06, 1.60819056e+06,\n",
       "        2.67190300e+04]])"
      ]
     },
     "metadata": {},
     "output_type": "display_data"
    }
   ],
   "source": [
    "# Cargo los datos desde el archivo\n",
    "data_frame = pd.read_csv('variablesExportacion_4variables.csv')\n",
    "display(data_frame.head(8))\n",
    "\n",
    "# Lo convierto a una matriz de numpy\n",
    "xy = data_frame.to_numpy(dtype='float')\n",
    "display(xy[:8])\n",
    "\n",
    "y = xy[:,1]\n",
    "x0 = xy[:,2]\n",
    "x1 = xy[:,3]\n",
    "x2 = xy[:,4]"
   ]
  },
  {
   "attachments": {
    "image.png": {
     "image/png": "[encoded data removed]"
    }
   },
   "cell_type": "markdown",
   "metadata": {},
   "source": [
    "# 4) Aproximación de integrales\n",
    "\n",
    "Para estimar el área bajo una curva en un intervalo $[a, b]$, puede utilizarse la regla de los trapecios, que consiste en tomar puntos (equiespaciados) en el intervalo, y calcular las áreas de los trapecios que se forman.\n",
    "\n",
    "![image.png](attachment:image.png)"
   ]
  },
  {
   "cell_type": "markdown",
   "metadata": {},
   "source": [
    "1. Tomando 5 puntos equiespaciados en el intervalo $[0, \\pi]$, estimar el área abajo de la curva $f(x) = \\sin(x)$, con $x \\in [0, \\pi]$.\n",
    "2. Implementar un programa que reciba un valor $n$ y repita el ítem anterior tomando $n + 1$ punto equiespaciados.\n"
   ]
  },
  {
   "cell_type": "code",
   "execution_count": null,
   "metadata": {},
   "outputs": [],
   "source": []
  }
 ],
 "metadata": {
  "kernelspec": {
   "display_name": "Python 3 (ipykernel)",
   "language": "python",
   "name": "python3"
  },
  "language_info": {
   "codemirror_mode": {
    "name": "ipython",
    "version": 3
   },
   "file_extension": ".py",
   "mimetype": "text/x-python",
   "name": "python",
   "nbconvert_exporter": "python",
   "pygments_lexer": "ipython3",
   "version": "3.9.12"
  }
 },
 "nbformat": 4,
 "nbformat_minor": 4
}
