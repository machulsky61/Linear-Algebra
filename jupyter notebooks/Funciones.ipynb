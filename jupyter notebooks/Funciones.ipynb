{
 "cells": [
  {
   "cell_type": "code",
   "execution_count": 1,
   "metadata": {},
   "outputs": [],
   "source": [
    "import numpy as np"
   ]
  },
  {
   "cell_type": "markdown",
   "metadata": {},
   "source": [
    "## Funciones"
   ]
  },
  {
   "cell_type": "markdown",
   "metadata": {},
   "source": [
    "En general es conveniente encerrar bloques de código en **funciones**. Esto permite reutilizar el mismo código para correrlo sobre distintos datos. _print_ y _len_, por ejemplo, son todas funciones de Python. La sintaxis para definir una función es:\n",
    "$$\\begin{array}{ll} \\textbf{def }& nombre(parametros):\\\\\n",
    "                                 & instrucciones \\\\\n",
    "                                 &\\textbf{return } variables\\end{array}$$\n",
    "Una función de este tipo recibe ciertos parámetros (separados por comas), ejecuta ciertas instrucciones y devuelve algunas variables (separadas por comas). "
   ]
  },
  {
   "cell_type": "markdown",
   "metadata": {},
   "source": [
    "Empecemos convirtiendo en función algo que ya hicimos. Escribamos una función que reciba una lista y calcule la suma de todos los elementos:"
   ]
  },
  {
   "cell_type": "code",
   "execution_count": 2,
   "metadata": {},
   "outputs": [],
   "source": [
    "def suma_lista(lista):\n",
    "    suma = 0\n",
    "    for i in range(len(lista)):\n",
    "        suma = suma + lista[i]\n",
    "    return suma"
   ]
  },
  {
   "cell_type": "markdown",
   "metadata": {},
   "source": [
    "Al ejecutar el bloque de código anterior, Python sólo carga la función en la memoria. Es decir: no se realiza la suma de los elementos de ninguna lista, sino que sólo _recuerda_ que hay una función que se llama **suma_lista**. Para correr la función hace falta ejecutarla haciendo: \n",
    "\n",
    "suma_lista(...)\n",
    "\n",
    "donde los puntos suspensivos deben ser reemplazados por alguna lista."
   ]
  },
  {
   "cell_type": "code",
   "execution_count": 3,
   "metadata": {},
   "outputs": [
    {
     "data": {
      "text/plain": [
       "32"
      ]
     },
     "execution_count": 3,
     "metadata": {},
     "output_type": "execute_result"
    }
   ],
   "source": [
    "a    = [1,5,2,9,8,7]\n",
    "suma_lista(a)"
   ]
  },
  {
   "cell_type": "markdown",
   "metadata": {},
   "source": [
    "Es importante observar que la lista no tiene por qué llamarse \"lista\". \"lista\" es el nombre interno que utiliza la función para designar el parámetro que recibe. La variable cuyo nombre es \"lista\" se crea cuando se corre la función y se elimina cuando la función termina:"
   ]
  },
  {
   "cell_type": "code",
   "execution_count": 4,
   "metadata": {},
   "outputs": [
    {
     "ename": "NameError",
     "evalue": "name 'lista' is not defined",
     "output_type": "error",
     "traceback": [
      "\u001b[1;31m---------------------------------------------------------------------------\u001b[0m",
      "\u001b[1;31mNameError\u001b[0m                                 Traceback (most recent call last)",
      "Input \u001b[1;32mIn [4]\u001b[0m, in \u001b[0;36m<cell line: 1>\u001b[1;34m()\u001b[0m\n\u001b[1;32m----> 1\u001b[0m \u001b[38;5;28mprint\u001b[39m(\u001b[43mlista\u001b[49m)\n",
      "\u001b[1;31mNameError\u001b[0m: name 'lista' is not defined"
     ]
    }
   ],
   "source": [
    "print(lista)"
   ]
  },
  {
   "cell_type": "markdown",
   "metadata": {},
   "source": [
    "Lo mismo ocurre con las variables \"suma\" e \"i\", que se crean internamente: cuando la función termina _devuelve_ el valor de la variable \"suma\", pero la variable se elimina:"
   ]
  },
  {
   "cell_type": "code",
   "execution_count": 5,
   "metadata": {},
   "outputs": [
    {
     "ename": "NameError",
     "evalue": "name 'suma' is not defined",
     "output_type": "error",
     "traceback": [
      "\u001b[1;31m---------------------------------------------------------------------------\u001b[0m",
      "\u001b[1;31mNameError\u001b[0m                                 Traceback (most recent call last)",
      "Input \u001b[1;32mIn [5]\u001b[0m, in \u001b[0;36m<cell line: 1>\u001b[1;34m()\u001b[0m\n\u001b[1;32m----> 1\u001b[0m \u001b[38;5;28mprint\u001b[39m(\u001b[43msuma\u001b[49m)\n",
      "\u001b[1;31mNameError\u001b[0m: name 'suma' is not defined"
     ]
    }
   ],
   "source": [
    "print(suma)"
   ]
  },
  {
   "cell_type": "markdown",
   "metadata": {},
   "source": [
    "Si uno quiere almacenar el resultado de la suma, necesita crear una nueva variable al llamar a la función:"
   ]
  },
  {
   "cell_type": "code",
   "execution_count": 6,
   "metadata": {},
   "outputs": [],
   "source": [
    "suma_a = suma_lista(a)"
   ]
  },
  {
   "cell_type": "code",
   "execution_count": 7,
   "metadata": {},
   "outputs": [
    {
     "name": "stdout",
     "output_type": "stream",
     "text": [
      "32\n"
     ]
    }
   ],
   "source": [
    "print(suma_a)"
   ]
  },
  {
   "cell_type": "markdown",
   "metadata": {},
   "source": [
    "Una vez que tenemos la función definida, podemos aplicarla a otras listas:"
   ]
  },
  {
   "cell_type": "code",
   "execution_count": 8,
   "metadata": {},
   "outputs": [
    {
     "name": "stdout",
     "output_type": "stream",
     "text": [
      "21\n"
     ]
    }
   ],
   "source": [
    "otra_suma = suma_lista([7,-5,2,8,9])\n",
    "print(otra_suma)"
   ]
  },
  {
   "cell_type": "markdown",
   "metadata": {},
   "source": [
    "Es importante tener en cuenta que la función _no sabe_ que va a recibir una lista. Es decir: en ningún momento le informamos a Python que lo que va a recibir la función es una una lista. Lo que ocurre es que internamente se realizan ciertas operaciones, que tienen sentido si \"lista\" es una lista, pero podrían no tener sentido para otro tipo de datos. Por ejemplo:"
   ]
  },
  {
   "cell_type": "code",
   "execution_count": 9,
   "metadata": {},
   "outputs": [
    {
     "ename": "TypeError",
     "evalue": "object of type 'int' has no len()",
     "output_type": "error",
     "traceback": [
      "\u001b[1;31m---------------------------------------------------------------------------\u001b[0m",
      "\u001b[1;31mTypeError\u001b[0m                                 Traceback (most recent call last)",
      "Input \u001b[1;32mIn [9]\u001b[0m, in \u001b[0;36m<cell line: 2>\u001b[1;34m()\u001b[0m\n\u001b[0;32m      1\u001b[0m b      \u001b[38;5;241m=\u001b[39m \u001b[38;5;241m5\u001b[39m\n\u001b[1;32m----> 2\u001b[0m suma_b \u001b[38;5;241m=\u001b[39m \u001b[43msuma_lista\u001b[49m\u001b[43m(\u001b[49m\u001b[43mb\u001b[49m\u001b[43m)\u001b[49m\n",
      "Input \u001b[1;32mIn [2]\u001b[0m, in \u001b[0;36msuma_lista\u001b[1;34m(lista)\u001b[0m\n\u001b[0;32m      1\u001b[0m \u001b[38;5;28;01mdef\u001b[39;00m \u001b[38;5;21msuma_lista\u001b[39m(lista):\n\u001b[0;32m      2\u001b[0m     suma \u001b[38;5;241m=\u001b[39m \u001b[38;5;241m0\u001b[39m\n\u001b[1;32m----> 3\u001b[0m     \u001b[38;5;28;01mfor\u001b[39;00m i \u001b[38;5;129;01min\u001b[39;00m \u001b[38;5;28mrange\u001b[39m(\u001b[38;5;28;43mlen\u001b[39;49m\u001b[43m(\u001b[49m\u001b[43mlista\u001b[49m\u001b[43m)\u001b[49m):\n\u001b[0;32m      4\u001b[0m         suma \u001b[38;5;241m=\u001b[39m suma \u001b[38;5;241m+\u001b[39m lista[i]\n\u001b[0;32m      5\u001b[0m     \u001b[38;5;28;01mreturn\u001b[39;00m suma\n",
      "\u001b[1;31mTypeError\u001b[0m: object of type 'int' has no len()"
     ]
    }
   ],
   "source": [
    "b      = 5\n",
    "suma_b = suma_lista(b)"
   ]
  },
  {
   "cell_type": "markdown",
   "metadata": {},
   "source": [
    "En realidad lo importante es que las operaciones que realiza la función tengan sentido y en tal caso la función se va a ejecutar sin problemas. Por ejemplo, ya vimos que tanto la función _len_ como los corchetes funcionan sobre arrays. Por lo tanto nuestra función también va  sumar los elementos de un vector:"
   ]
  },
  {
   "cell_type": "code",
   "execution_count": 10,
   "metadata": {},
   "outputs": [
    {
     "name": "stdout",
     "output_type": "stream",
     "text": [
      "18\n"
     ]
    }
   ],
   "source": [
    "x      = np.array([8,-5,4,3,7,1])\n",
    "suma_x = suma_lista(x)\n",
    "print(suma_x)"
   ]
  },
  {
   "cell_type": "markdown",
   "metadata": {},
   "source": [
    "Sin embargo, como Python **no** chequea que el tipo de dato sea el esperado, si uno ejecuta una función con datos no previstos pueden ocurrir cosas raras. Por ejemplo:"
   ]
  },
  {
   "cell_type": "code",
   "execution_count": 11,
   "metadata": {},
   "outputs": [
    {
     "name": "stdout",
     "output_type": "stream",
     "text": [
      "[4 6]\n"
     ]
    }
   ],
   "source": [
    "A      = np.array([[1,2],[3,4]])\n",
    "suma_A = suma_lista(A)\n",
    "print(suma_A)"
   ]
  },
  {
   "cell_type": "markdown",
   "metadata": {},
   "source": [
    "La función **np.sum** admite opciones que permiten hacer esto:"
   ]
  },
  {
   "cell_type": "code",
   "execution_count": 12,
   "metadata": {},
   "outputs": [
    {
     "name": "stdout",
     "output_type": "stream",
     "text": [
      "Suma de la lista a: 32\n",
      "Suma del vector x: 18\n",
      "Suma de la matriz A: 10\n",
      "Suma de A por cols: [4 6]\n",
      "Suma de A por filas: [3 7]\n"
     ]
    }
   ],
   "source": [
    "print('Suma de la lista a:',np.sum(a))\n",
    "print('Suma del vector x:',np.sum(x))\n",
    "print('Suma de la matriz A:',np.sum(A))\n",
    "print('Suma de A por cols:',np.sum(A,axis=0))\n",
    "print('Suma de A por filas:',np.sum(A,axis=1))"
   ]
  },
  {
   "cell_type": "markdown",
   "metadata": {},
   "source": [
    "Hagamos un ejemplo más complejo: supongamos que queremos una función que busque un elemento en una lista y si lo encuentra, pare y lo devuelva. Una función así requiere dos parámetros: la lista y el elemento a buscar. "
   ]
  },
  {
   "cell_type": "code",
   "execution_count": 13,
   "metadata": {},
   "outputs": [],
   "source": [
    "def buscar(lista,elemento):\n",
    "    i           = 0\n",
    "    lo_encontre = False\n",
    "    while i<len(lista) and not(lo_encontre):\n",
    "        if lista[i]==elemento:\n",
    "            lo_encontre = True\n",
    "        else:\n",
    "            i = i+1\n",
    "    return lo_encontre"
   ]
  },
  {
   "cell_type": "code",
   "execution_count": 14,
   "metadata": {},
   "outputs": [
    {
     "data": {
      "text/plain": [
       "True"
      ]
     },
     "execution_count": 14,
     "metadata": {},
     "output_type": "execute_result"
    }
   ],
   "source": [
    "buscar(a,5)"
   ]
  },
  {
   "cell_type": "markdown",
   "metadata": {},
   "source": [
    "También se pueden hacer funciones que devuelvan dos cosas. Por ejemplo, podemos modificar la función anterior para que si encuentra el elemento nos devuelva True, pero además el primer índice del casillero en que se encuentra:"
   ]
  },
  {
   "cell_type": "code",
   "execution_count": 15,
   "metadata": {},
   "outputs": [],
   "source": [
    "def pertenece(lista,elemento):\n",
    "    i           = 0\n",
    "    lo_encontre = False\n",
    "    while i<len(lista) and not(lo_encontre):\n",
    "        if lista[i]==elemento:\n",
    "            lo_encontre = True\n",
    "        else:\n",
    "            i = i+1\n",
    "    return lo_encontre,i"
   ]
  },
  {
   "cell_type": "code",
   "execution_count": 16,
   "metadata": {},
   "outputs": [
    {
     "data": {
      "text/plain": [
       "(True, 1)"
      ]
     },
     "execution_count": 16,
     "metadata": {},
     "output_type": "execute_result"
    }
   ],
   "source": [
    "pertenece(a,5)"
   ]
  },
  {
   "cell_type": "code",
   "execution_count": 17,
   "metadata": {},
   "outputs": [
    {
     "name": "stdout",
     "output_type": "stream",
     "text": [
      "True\n",
      "1\n",
      "5\n"
     ]
    }
   ],
   "source": [
    "pert,casillero = pertenece(a,5)\n",
    "print(pert)\n",
    "print(casillero)\n",
    "print(a[casillero])"
   ]
  },
  {
   "cell_type": "markdown",
   "metadata": {},
   "source": [
    "Lo ideal es hacer funciones que hagan tareas específicas y evitar tener bloques de código suelto. Al resolver un problema o un conjunto de problemas que requieren de varias funciones conviene separar el código en tres partes: \n",
    "1. los imports necesarios, \n",
    "2. la definición de las funciones, \n",
    "3. la parte de código que corresponde a la resolución del problema puntual, donde se utilizan las funciones más arriba. "
   ]
  },
  {
   "cell_type": "code",
   "execution_count": null,
   "metadata": {},
   "outputs": [],
   "source": []
  },
  {
   "cell_type": "code",
   "execution_count": null,
   "metadata": {},
   "outputs": [],
   "source": []
  }
 ],
 "metadata": {
  "kernelspec": {
   "display_name": "Python 3 (ipykernel)",
   "language": "python",
   "name": "python3"
  },
  "language_info": {
   "codemirror_mode": {
    "name": "ipython",
    "version": 3
   },
   "file_extension": ".py",
   "mimetype": "text/x-python",
   "name": "python",
   "nbconvert_exporter": "python",
   "pygments_lexer": "ipython3",
   "version": "3.9.12"
  }
 },
 "nbformat": 4,
 "nbformat_minor": 4
}
